{
 "cells": [
  {
   "cell_type": "markdown",
   "metadata": {},
   "source": [
    "# SUPPY CHAIN ANALYTICS BUAN-675-A"
   ]
  },
  {
   "cell_type": "code",
   "execution_count": 155,
   "metadata": {},
   "outputs": [],
   "source": [
    "import numpy as np\n",
    "import pandas as pd\n",
    "import matplotlib.pyplot as plt\n",
    "import seaborn as sns\n",
    "from scipy import stats\n",
    "from random import random"
   ]
  },
  {
   "cell_type": "code",
   "execution_count": 98,
   "metadata": {
    "scrolled": false
   },
   "outputs": [
    {
     "name": "stdout",
     "output_type": "stream",
     "text": [
      "             x          y  population name\n",
      "0  -125.054795  13.703696       42760    A\n",
      "1    41.839656 -59.181868        7950    B\n",
      "2    20.940089   5.932856       21905    C\n",
      "3   -88.803093  -3.120039       36835    D\n",
      "4    59.086009  -5.155562       38640    E\n",
      "5  -162.169694   8.157550       30760    F\n",
      "6    60.158522 -91.886845       41455    G\n",
      "7  -108.072094 -41.994506       50915    H\n",
      "8    17.724978  32.886515       23235    I\n",
      "9   -23.892725 -79.493783       33540    J\n",
      "10  -30.999653  15.342608       53150    K\n",
      "11  135.996903  23.266191        8040    L\n",
      "12   51.904766  32.616293       53585    M\n",
      "13   21.965280  67.237630        9045    N\n",
      "14  -50.887413 -40.731170       15400    O\n"
     ]
    }
   ],
   "source": [
    "buan = pd.read_csv(\"baun675_hw1_data.csv\")  \n",
    "print(buan)"
   ]
  },
  {
   "cell_type": "code",
   "execution_count": 24,
   "metadata": {
    "scrolled": true
   },
   "outputs": [
    {
     "name": "stdout",
     "output_type": "stream",
     "text": [
      "Index(['x', 'y', 'population', 'name'], dtype='object')\n"
     ]
    }
   ],
   "source": [
    "buan_pd = pd.DataFrame(buan)\n",
    "print(buan_pd.columns)\n",
    "\n",
    "buan_pd.rename(columns = {'x':'Latitude', 'y':'Longitude',}, inplace = True)"
   ]
  },
  {
   "cell_type": "code",
   "execution_count": 99,
   "metadata": {},
   "outputs": [
    {
     "name": "stdout",
     "output_type": "stream",
     "text": [
      "Index(['Latitude', 'Longitude', 'population', 'name'], dtype='object')\n"
     ]
    }
   ],
   "source": [
    "print(buan_pd.columns)"
   ]
  },
  {
   "cell_type": "code",
   "execution_count": 100,
   "metadata": {},
   "outputs": [
    {
     "name": "stdout",
     "output_type": "stream",
     "text": [
      "      Latitude  Longitude  population name\n",
      "0  -125.054795  13.703696       42760    A\n",
      "1    41.839656 -59.181868        7950    B\n",
      "2    20.940089   5.932856       21905    C\n",
      "3   -88.803093  -3.120039       36835    D\n",
      "4    59.086009  -5.155562       38640    E\n",
      "5  -162.169694   8.157550       30760    F\n",
      "6    60.158522 -91.886845       41455    G\n",
      "7  -108.072094 -41.994506       50915    H\n",
      "8    17.724978  32.886515       23235    I\n",
      "9   -23.892725 -79.493783       33540    J\n",
      "10  -30.999653  15.342608       53150    K\n",
      "11  135.996903  23.266191        8040    L\n",
      "12   51.904766  32.616293       53585    M\n",
      "13   21.965280  67.237630        9045    N\n",
      "14  -50.887413 -40.731170       15400    O\n"
     ]
    }
   ],
   "source": [
    "print(buan_pd)"
   ]
  },
  {
   "cell_type": "markdown",
   "metadata": {},
   "source": [
    "### Determining COG"
   ]
  },
  {
   "cell_type": "code",
   "execution_count": 154,
   "metadata": {},
   "outputs": [
    {
     "name": "stdout",
     "output_type": "stream",
     "text": [
      "COG X coordinate: -26.301327142879813\n",
      "COG Y coordinate: -10.564798745078917\n"
     ]
    }
   ],
   "source": [
    "lat1 = buan_pd['Latitude'] * buan_pd['population']\n",
    "lat2 = lat1.sum()\n",
    "lat3 = lat2/pop1\n",
    "print(\"COG X coordinate:\",lat3)\n",
    "\n",
    "long1 = buan_pd['Longitude'] * buan_pd['population']\n",
    "long2 = long1.sum()\n",
    "long3 = long2/pop1\n",
    "print(\"COG Y coordinate:\",long3)\n",
    "\n",
    "#pop1 = buan_pd['population'].sum()\n",
    "#print(\"total population:\", pop1)"
   ]
  },
  {
   "cell_type": "code",
   "execution_count": 131,
   "metadata": {},
   "outputs": [
    {
     "data": {
      "text/plain": [
       "[<matplotlib.lines.Line2D at 0x19123af84f0>]"
      ]
     },
     "execution_count": 131,
     "metadata": {},
     "output_type": "execute_result"
    },
    {
     "data": {
      "image/png": "[encoded data removed]",
      "text/plain": [
       "<Figure size 576x576 with 1 Axes>"
      ]
     },
     "metadata": {
      "needs_background": "light"
     },
     "output_type": "display_data"
    }
   ],
   "source": [
    "fig, ax = plt.subplots(figsize=(8,8))\n",
    "plt.scatter(x=buan_pd['Longitude'], y=buan_pd['Latitude'], s = buan_pd['population']//100 )\n",
    "#for i in range(len(buan_pd)):\n",
    "#    ax.annotate(buan_pd.iloc[i]['name'], buan_pd.iloc[i][['Latitude', 'Longitude']].values + 5, fontsize= 16)\n",
    "\n",
    "#plt.axis('square')\n",
    "#plt.axis([-200, 200, -150, 150])\n",
    "plt.plot(x, y, '*' , markersize=20, color = 'yellow')"
   ]
  },
  {
   "cell_type": "markdown",
   "metadata": {},
   "source": [
    "# Optimized Distance"
   ]
  },
  {
   "cell_type": "code",
   "execution_count": 139,
   "metadata": {},
   "outputs": [
    {
     "name": "stdout",
     "output_type": "stream",
     "text": [
      "39044068.95897755\n"
     ]
    }
   ],
   "source": [
    "d = np.sqrt((buan_pd['Latitude'] - x)**2 +(buan_pd['Longitude'] - x)**2)\n",
    "D = (d * buan_pd['population']).sum()\n",
    "print(D)"
   ]
  },
  {
   "cell_type": "code",
   "execution_count": 142,
   "metadata": {},
   "outputs": [
    {
     "data": {
      "text/plain": [
       "83.56767004265178"
      ]
     },
     "execution_count": 142,
     "metadata": {},
     "output_type": "execute_result"
    }
   ],
   "source": [
    "D / buan_pd['population'].sum()"
   ]
  },
  {
   "cell_type": "code",
   "execution_count": 145,
   "metadata": {},
   "outputs": [],
   "source": [
    "avg_dist = [{'name': 'COG', 'avg': D /buan_pd['population'].sum()}]"
   ]
  },
  {
   "cell_type": "code",
   "execution_count": 150,
   "metadata": {},
   "outputs": [],
   "source": [
    "for i, row in buan_pd.iterrows():\n",
    "    x = row['Latitude']\n",
    "    y = row['Longitude']\n",
    "    d = np.sqrt((buan_pd['Latitude'] - x)**2 +(buan_pd['Longitude'] - x)**2)\n",
    "    D = (d * buan_pd['population']).sum()\n",
    "    avg_dist.append({'name': row['name'], 'avg': D / buan_pd['population'].sum()})"
   ]
  },
  {
   "cell_type": "code",
   "execution_count": 152,
   "metadata": {},
   "outputs": [
    {
     "data": {
      "text/html": [
       "<div>\n",
       "<style scoped>\n",
       "    .dataframe tbody tr th:only-of-type {\n",
       "        vertical-align: middle;\n",
       "    }\n",
       "\n",
       "    .dataframe tbody tr th {\n",
       "        vertical-align: top;\n",
       "    }\n",
       "\n",
       "    .dataframe thead th {\n",
       "        text-align: right;\n",
       "    }\n",
       "</style>\n",
       "<table border=\"1\" class=\"dataframe\">\n",
       "  <thead>\n",
       "    <tr style=\"text-align: right;\">\n",
       "      <th></th>\n",
       "      <th>name</th>\n",
       "      <th>avg</th>\n",
       "    </tr>\n",
       "  </thead>\n",
       "  <tbody>\n",
       "    <tr>\n",
       "      <th>25</th>\n",
       "      <td>J</td>\n",
       "      <td>83.164405</td>\n",
       "    </tr>\n",
       "    <tr>\n",
       "      <th>10</th>\n",
       "      <td>J</td>\n",
       "      <td>83.164405</td>\n",
       "    </tr>\n",
       "    <tr>\n",
       "      <th>26</th>\n",
       "      <td>K</td>\n",
       "      <td>84.564380</td>\n",
       "    </tr>\n",
       "    <tr>\n",
       "      <th>11</th>\n",
       "      <td>K</td>\n",
       "      <td>84.564380</td>\n",
       "    </tr>\n",
       "    <tr>\n",
       "      <th>24</th>\n",
       "      <td>I</td>\n",
       "      <td>89.090366</td>\n",
       "    </tr>\n",
       "    <tr>\n",
       "      <th>9</th>\n",
       "      <td>I</td>\n",
       "      <td>89.090366</td>\n",
       "    </tr>\n",
       "    <tr>\n",
       "      <th>3</th>\n",
       "      <td>C</td>\n",
       "      <td>90.742880</td>\n",
       "    </tr>\n",
       "    <tr>\n",
       "      <th>18</th>\n",
       "      <td>C</td>\n",
       "      <td>90.742880</td>\n",
       "    </tr>\n",
       "    <tr>\n",
       "      <th>29</th>\n",
       "      <td>N</td>\n",
       "      <td>91.311120</td>\n",
       "    </tr>\n",
       "    <tr>\n",
       "      <th>14</th>\n",
       "      <td>N</td>\n",
       "      <td>91.311120</td>\n",
       "    </tr>\n",
       "    <tr>\n",
       "      <th>15</th>\n",
       "      <td>O</td>\n",
       "      <td>92.386694</td>\n",
       "    </tr>\n",
       "    <tr>\n",
       "      <th>30</th>\n",
       "      <td>O</td>\n",
       "      <td>92.386694</td>\n",
       "    </tr>\n",
       "    <tr>\n",
       "      <th>17</th>\n",
       "      <td>B</td>\n",
       "      <td>106.433408</td>\n",
       "    </tr>\n",
       "    <tr>\n",
       "      <th>2</th>\n",
       "      <td>B</td>\n",
       "      <td>106.433408</td>\n",
       "    </tr>\n",
       "    <tr>\n",
       "      <th>13</th>\n",
       "      <td>M</td>\n",
       "      <td>117.207826</td>\n",
       "    </tr>\n",
       "    <tr>\n",
       "      <th>28</th>\n",
       "      <td>M</td>\n",
       "      <td>117.207826</td>\n",
       "    </tr>\n",
       "    <tr>\n",
       "      <th>19</th>\n",
       "      <td>D</td>\n",
       "      <td>124.236761</td>\n",
       "    </tr>\n",
       "    <tr>\n",
       "      <th>4</th>\n",
       "      <td>D</td>\n",
       "      <td>124.236761</td>\n",
       "    </tr>\n",
       "    <tr>\n",
       "      <th>5</th>\n",
       "      <td>E</td>\n",
       "      <td>125.710411</td>\n",
       "    </tr>\n",
       "    <tr>\n",
       "      <th>20</th>\n",
       "      <td>E</td>\n",
       "      <td>125.710411</td>\n",
       "    </tr>\n",
       "    <tr>\n",
       "      <th>7</th>\n",
       "      <td>G</td>\n",
       "      <td>127.012598</td>\n",
       "    </tr>\n",
       "    <tr>\n",
       "      <th>22</th>\n",
       "      <td>G</td>\n",
       "      <td>127.012598</td>\n",
       "    </tr>\n",
       "    <tr>\n",
       "      <th>8</th>\n",
       "      <td>H</td>\n",
       "      <td>145.962484</td>\n",
       "    </tr>\n",
       "    <tr>\n",
       "      <th>23</th>\n",
       "      <td>H</td>\n",
       "      <td>145.962484</td>\n",
       "    </tr>\n",
       "    <tr>\n",
       "      <th>0</th>\n",
       "      <td>COG</td>\n",
       "      <td>166.702939</td>\n",
       "    </tr>\n",
       "    <tr>\n",
       "      <th>16</th>\n",
       "      <td>A</td>\n",
       "      <td>166.702939</td>\n",
       "    </tr>\n",
       "    <tr>\n",
       "      <th>1</th>\n",
       "      <td>A</td>\n",
       "      <td>166.702939</td>\n",
       "    </tr>\n",
       "    <tr>\n",
       "      <th>21</th>\n",
       "      <td>F</td>\n",
       "      <td>214.736167</td>\n",
       "    </tr>\n",
       "    <tr>\n",
       "      <th>6</th>\n",
       "      <td>F</td>\n",
       "      <td>214.736167</td>\n",
       "    </tr>\n",
       "    <tr>\n",
       "      <th>27</th>\n",
       "      <td>L</td>\n",
       "      <td>226.718873</td>\n",
       "    </tr>\n",
       "    <tr>\n",
       "      <th>12</th>\n",
       "      <td>L</td>\n",
       "      <td>226.718873</td>\n",
       "    </tr>\n",
       "  </tbody>\n",
       "</table>\n",
       "</div>"
      ],
      "text/plain": [
       "   name         avg\n",
       "25    J   83.164405\n",
       "10    J   83.164405\n",
       "26    K   84.564380\n",
       "11    K   84.564380\n",
       "24    I   89.090366\n",
       "9     I   89.090366\n",
       "3     C   90.742880\n",
       "18    C   90.742880\n",
       "29    N   91.311120\n",
       "14    N   91.311120\n",
       "15    O   92.386694\n",
       "30    O   92.386694\n",
       "17    B  106.433408\n",
       "2     B  106.433408\n",
       "13    M  117.207826\n",
       "28    M  117.207826\n",
       "19    D  124.236761\n",
       "4     D  124.236761\n",
       "5     E  125.710411\n",
       "20    E  125.710411\n",
       "7     G  127.012598\n",
       "22    G  127.012598\n",
       "8     H  145.962484\n",
       "23    H  145.962484\n",
       "0   COG  166.702939\n",
       "16    A  166.702939\n",
       "1     A  166.702939\n",
       "21    F  214.736167\n",
       "6     F  214.736167\n",
       "27    L  226.718873\n",
       "12    L  226.718873"
      ]
     },
     "execution_count": 152,
     "metadata": {},
     "output_type": "execute_result"
    }
   ],
   "source": [
    "pd.DataFrame(avg_dist).sort_values(by='avg')"
   ]
  },
  {
   "cell_type": "markdown",
   "metadata": {},
   "source": [
    "Based on the code above, we can see that the COG is calculated at: \n",
    "    \n",
    "    COG X coordinate: -26.301327142879813\n",
    "    COG Y coordinate: -10.564798745078917\n",
    "    \n",
    "However, the best average distance assuming that the cities can stand as candidates for a warehouse lands at City \"J\". Which provides a customer an average distance of 83.164405. "
   ]
  }
 ],
 "metadata": {
  "kernelspec": {
   "display_name": "Python 3",
   "language": "python",
   "name": "python3"
  },
  "language_info": {
   "codemirror_mode": {
    "name": "ipython",
    "version": 3
   },
   "file_extension": ".py",
   "mimetype": "text/x-python",
   "name": "python",
   "nbconvert_exporter": "python",
   "pygments_lexer": "ipython3",
   "version": "3.8.3"
  }
 },
 "nbformat": 4,
 "nbformat_minor": 4
}
