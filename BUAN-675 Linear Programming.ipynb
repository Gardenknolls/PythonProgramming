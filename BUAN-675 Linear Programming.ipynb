{
 "cells": [
  {
   "cell_type": "markdown",
   "metadata": {},
   "source": [
    "## GSC Buan-675-A"
   ]
  },
  {
   "cell_type": "markdown",
   "metadata": {},
   "source": [
    "Author: Nikolas Hermanowycz\n",
    "\n",
    "Professor: Huang\n",
    "\n",
    "Assignment: #3\n"
   ]
  },
  {
   "cell_type": "code",
   "execution_count": 116,
   "metadata": {},
   "outputs": [],
   "source": [
    "import numpy as np\n",
    "import pandas as pd\n",
    "import matplotlib.pyplot as plt\n",
    "import seaborn as sns\n",
    "import scipy.optimize as opt\n",
    "from scipy import stats\n",
    "from random import random\n",
    "from mip import Model, minimize, BINARY, INTEGER, CONTINUOUS, xsum "
   ]
  },
  {
   "cell_type": "code",
   "execution_count": 9,
   "metadata": {},
   "outputs": [
    {
     "data": {
      "text/html": [
       "<div>\n",
       "<style scoped>\n",
       "    .dataframe tbody tr th:only-of-type {\n",
       "        vertical-align: middle;\n",
       "    }\n",
       "\n",
       "    .dataframe tbody tr th {\n",
       "        vertical-align: top;\n",
       "    }\n",
       "\n",
       "    .dataframe thead th {\n",
       "        text-align: right;\n",
       "    }\n",
       "</style>\n",
       "<table border=\"1\" class=\"dataframe\">\n",
       "  <thead>\n",
       "    <tr style=\"text-align: right;\">\n",
       "      <th></th>\n",
       "      <th>x</th>\n",
       "      <th>y</th>\n",
       "      <th>name</th>\n",
       "      <th>demand</th>\n",
       "    </tr>\n",
       "  </thead>\n",
       "  <tbody>\n",
       "    <tr>\n",
       "      <th>0</th>\n",
       "      <td>-125.054795</td>\n",
       "      <td>13.703696</td>\n",
       "      <td>A</td>\n",
       "      <td>4270.0</td>\n",
       "    </tr>\n",
       "    <tr>\n",
       "      <th>1</th>\n",
       "      <td>41.839656</td>\n",
       "      <td>-59.181868</td>\n",
       "      <td>B</td>\n",
       "      <td>790.0</td>\n",
       "    </tr>\n",
       "    <tr>\n",
       "      <th>2</th>\n",
       "      <td>20.940089</td>\n",
       "      <td>5.932856</td>\n",
       "      <td>C</td>\n",
       "      <td>2190.0</td>\n",
       "    </tr>\n",
       "    <tr>\n",
       "      <th>3</th>\n",
       "      <td>-88.803093</td>\n",
       "      <td>-3.120039</td>\n",
       "      <td>D</td>\n",
       "      <td>3680.0</td>\n",
       "    </tr>\n",
       "    <tr>\n",
       "      <th>4</th>\n",
       "      <td>59.086009</td>\n",
       "      <td>-5.155562</td>\n",
       "      <td>E</td>\n",
       "      <td>3860.0</td>\n",
       "    </tr>\n",
       "    <tr>\n",
       "      <th>5</th>\n",
       "      <td>-162.169694</td>\n",
       "      <td>8.157550</td>\n",
       "      <td>F</td>\n",
       "      <td>3070.0</td>\n",
       "    </tr>\n",
       "    <tr>\n",
       "      <th>6</th>\n",
       "      <td>60.158522</td>\n",
       "      <td>-91.886845</td>\n",
       "      <td>G</td>\n",
       "      <td>4140.0</td>\n",
       "    </tr>\n",
       "    <tr>\n",
       "      <th>7</th>\n",
       "      <td>-108.072094</td>\n",
       "      <td>-41.994506</td>\n",
       "      <td>H</td>\n",
       "      <td>5090.0</td>\n",
       "    </tr>\n",
       "    <tr>\n",
       "      <th>8</th>\n",
       "      <td>17.724978</td>\n",
       "      <td>32.886515</td>\n",
       "      <td>I</td>\n",
       "      <td>2320.0</td>\n",
       "    </tr>\n",
       "    <tr>\n",
       "      <th>9</th>\n",
       "      <td>-23.892725</td>\n",
       "      <td>-79.493783</td>\n",
       "      <td>J</td>\n",
       "      <td>3350.0</td>\n",
       "    </tr>\n",
       "    <tr>\n",
       "      <th>10</th>\n",
       "      <td>-30.999653</td>\n",
       "      <td>15.342608</td>\n",
       "      <td>K</td>\n",
       "      <td>5310.0</td>\n",
       "    </tr>\n",
       "    <tr>\n",
       "      <th>11</th>\n",
       "      <td>135.996903</td>\n",
       "      <td>23.266191</td>\n",
       "      <td>L</td>\n",
       "      <td>800.0</td>\n",
       "    </tr>\n",
       "    <tr>\n",
       "      <th>12</th>\n",
       "      <td>51.904766</td>\n",
       "      <td>32.616293</td>\n",
       "      <td>M</td>\n",
       "      <td>5350.0</td>\n",
       "    </tr>\n",
       "    <tr>\n",
       "      <th>13</th>\n",
       "      <td>21.965280</td>\n",
       "      <td>67.237630</td>\n",
       "      <td>N</td>\n",
       "      <td>900.0</td>\n",
       "    </tr>\n",
       "    <tr>\n",
       "      <th>14</th>\n",
       "      <td>-50.887413</td>\n",
       "      <td>-40.731170</td>\n",
       "      <td>O</td>\n",
       "      <td>1540.0</td>\n",
       "    </tr>\n",
       "  </tbody>\n",
       "</table>\n",
       "</div>"
      ],
      "text/plain": [
       "             x          y name  demand\n",
       "0  -125.054795  13.703696    A  4270.0\n",
       "1    41.839656 -59.181868    B   790.0\n",
       "2    20.940089   5.932856    C  2190.0\n",
       "3   -88.803093  -3.120039    D  3680.0\n",
       "4    59.086009  -5.155562    E  3860.0\n",
       "5  -162.169694   8.157550    F  3070.0\n",
       "6    60.158522 -91.886845    G  4140.0\n",
       "7  -108.072094 -41.994506    H  5090.0\n",
       "8    17.724978  32.886515    I  2320.0\n",
       "9   -23.892725 -79.493783    J  3350.0\n",
       "10  -30.999653  15.342608    K  5310.0\n",
       "11  135.996903  23.266191    L   800.0\n",
       "12   51.904766  32.616293    M  5350.0\n",
       "13   21.965280  67.237630    N   900.0\n",
       "14  -50.887413 -40.731170    O  1540.0"
      ]
     },
     "execution_count": 9,
     "metadata": {},
     "output_type": "execute_result"
    }
   ],
   "source": [
    "df = pd.read_csv('buan675_hw3_data.csv')\n",
    "df"
   ]
  },
  {
   "cell_type": "code",
   "execution_count": 38,
   "metadata": {},
   "outputs": [],
   "source": [
    "#function for total difference. Z can look at 2 arrays. \n",
    "def total_distance(z):\n",
    "    x = z[0]\n",
    "    y = z[1]\n",
    "    d = np.sqrt((x - df['x'])**2 + (y - df['y'])**2)\n",
    "    total = (d * df['demand']).sum()\n",
    "    return total "
   ]
  },
  {
   "cell_type": "code",
   "execution_count": 39,
   "metadata": {},
   "outputs": [
    {
     "data": {
      "text/plain": [
       "(-26.324979952285464, -10.574116387643652)"
      ]
     },
     "execution_count": 39,
     "metadata": {},
     "output_type": "execute_result"
    }
   ],
   "source": [
    "x_cog = (df['demand'] * df['x']).sum()/df['demand'].sum()\n",
    "y_cog = (df['demand'] * df['y']).sum()/df['demand'].sum()\n",
    "\n",
    "x_cog, y_cog"
   ]
  },
  {
   "cell_type": "code",
   "execution_count": 51,
   "metadata": {},
   "outputs": [
    {
     "data": {
      "text/plain": [
       "3797490.4011622923"
      ]
     },
     "execution_count": 51,
     "metadata": {},
     "output_type": "execute_result"
    }
   ],
   "source": [
    "#COG Total Distance\n",
    "distances = np.sqrt((x_cog - df['x'])**2 + (y_cog - df['y'])**2) \n",
    "np.sum(distances * df['demand'])"
   ]
  },
  {
   "cell_type": "code",
   "execution_count": 50,
   "metadata": {},
   "outputs": [
    {
     "data": {
      "text/plain": [
       "3797490.4011622923"
      ]
     },
     "execution_count": 50,
     "metadata": {},
     "output_type": "execute_result"
    }
   ],
   "source": [
    "total_distance((x_cog, y_cog))"
   ]
  },
  {
   "cell_type": "markdown",
   "metadata": {},
   "source": [
    "## Optimization"
   ]
  },
  {
   "cell_type": "code",
   "execution_count": 53,
   "metadata": {},
   "outputs": [
    {
     "data": {
      "text/plain": [
       "      fun: 3780881.6892175516\n",
       " hess_inv: array([[1.84055143e-04, 1.45577908e-05],\n",
       "       [1.45577908e-05, 2.73967027e-05]])\n",
       "      jac: array([-0., -0.])\n",
       "  message: 'Optimization terminated successfully.'\n",
       "     nfev: 57\n",
       "      nit: 11\n",
       "     njev: 19\n",
       "   status: 0\n",
       "  success: True\n",
       "        x: array([-26.64015376,  -1.30463084])"
      ]
     },
     "execution_count": 53,
     "metadata": {},
     "output_type": "execute_result"
    }
   ],
   "source": [
    "optomized_model = opt.minimize(total_distance, x0=(x_cog, y_cog))\n",
    "optomized_model"
   ]
  },
  {
   "cell_type": "code",
   "execution_count": 52,
   "metadata": {},
   "outputs": [],
   "source": [
    "x_opt, y_opt = optomized_model.x"
   ]
  },
  {
   "cell_type": "markdown",
   "metadata": {},
   "source": [
    "Plot "
   ]
  },
  {
   "cell_type": "code",
   "execution_count": 58,
   "metadata": {},
   "outputs": [
    {
     "data": {
      "text/plain": [
       "<matplotlib.legend.Legend at 0x1c8dacae550>"
      ]
     },
     "execution_count": 58,
     "metadata": {},
     "output_type": "execute_result"
    },
    {
     "data": {
      "image/png": "[encoded data removed]",
      "text/plain": [
       "<Figure size 432x288 with 1 Axes>"
      ]
     },
     "metadata": {
      "needs_background": "light"
     },
     "output_type": "display_data"
    }
   ],
   "source": [
    "plt.scatter(df['x'], df['y'], s = df['demand']/100)\n",
    "plt.scatter(x_cog, y_cog, label=\"COG Location\")\n",
    "plt.scatter(x_opt, y_opt, label=\"Model Location\")\n",
    "plt.legend()"
   ]
  },
  {
   "cell_type": "markdown",
   "metadata": {},
   "source": [
    "## Integer and Linear Programming Locations"
   ]
  },
  {
   "cell_type": "code",
   "execution_count": 62,
   "metadata": {},
   "outputs": [
    {
     "data": {
      "text/plain": [
       "<OptimizationStatus.OPTIMAL: 0>"
      ]
     },
     "execution_count": 62,
     "metadata": {},
     "output_type": "execute_result"
    }
   ],
   "source": [
    "#Objective Function\n",
    "D = []\n",
    "for _, row in df.iterrows():\n",
    "    dx = row['x'] - df['x']\n",
    "    dy = row['y'] - df['y']\n",
    "    d = (dx**2 + dy**2)**0.5\n",
    "    D.append(d.values)\n",
    "D = np.array(D)\n",
    "\n",
    "nCity = len(df)\n",
    "V = set(range(nCity))\n",
    "demand = df['demand']\n",
    "nw = 3\n",
    "\n",
    "m = Model('Multiple Warehouses')\n",
    "\n",
    "y = [[m.add_var(var_type=BINARY) for i in V] for j in V]\n",
    "\n",
    "m.objective = \\\n",
    "minimize(xsum([xsum(\n",
    "    [y[i][j] * D[i][j] * demand[j] for i in V]) for j in V]))\n",
    "\n",
    "#Constraints\n",
    "for j in V: \n",
    "    m += xsum([y[i][j] for i in V])==1\n",
    "    \n",
    "m += xsum([y[i][i] for i in V]) == nw #nw1 #nw2\n",
    "\n",
    "for i in V: \n",
    "    for j in V: \n",
    "        if i != j: \n",
    "            m += y[i][j] <= y[i][i]\n",
    "\n",
    "m.optimize()\n"
   ]
  },
  {
   "cell_type": "code",
   "execution_count": 66,
   "metadata": {},
   "outputs": [
    {
     "data": {
      "text/plain": [
       "[3, 6, 12]"
      ]
     },
     "execution_count": 66,
     "metadata": {},
     "output_type": "execute_result"
    }
   ],
   "source": [
    "warehouses1 = [i for i in V if y[i][i].x>0.5]\n",
    "warehouses1"
   ]
  },
  {
   "cell_type": "code",
   "execution_count": 69,
   "metadata": {},
   "outputs": [],
   "source": [
    "flow1 = [[y[i][j].x for j in V] for i in V]\n",
    "#flow1"
   ]
  },
  {
   "cell_type": "code",
   "execution_count": 70,
   "metadata": {},
   "outputs": [
    {
     "data": {
      "text/plain": [
       "[[1.0, 0.0, 0.0, 1.0, 0.0, 1.0, 0.0, 1.0, 0.0, 0.0, 1.0, 0.0, 0.0, 0.0, 1.0],\n",
       " [0.0, 1.0, 0.0, 0.0, 0.0, 0.0, 1.0, 0.0, 0.0, 1.0, 0.0, 0.0, 0.0, 0.0, 0.0],\n",
       " [0.0, 0.0, 1.0, 0.0, 1.0, 0.0, 0.0, 0.0, 1.0, 0.0, 0.0, 1.0, 1.0, 1.0, 0.0]]"
      ]
     },
     "execution_count": 70,
     "metadata": {},
     "output_type": "execute_result"
    }
   ],
   "source": [
    "[flow1[i] for i in warehouses1]"
   ]
  },
  {
   "cell_type": "code",
   "execution_count": 74,
   "metadata": {},
   "outputs": [],
   "source": [
    "distances_cap = D[warehouses1].round(1)"
   ]
  },
  {
   "cell_type": "code",
   "execution_count": 79,
   "metadata": {},
   "outputs": [
    {
     "data": {
      "text/plain": [
       "(60000, 46660.0)"
      ]
     },
     "execution_count": 79,
     "metadata": {},
     "output_type": "execute_result"
    }
   ],
   "source": [
    "capacity = [20000] * nw\n",
    "sum(capacity), sum(demand)"
   ]
  },
  {
   "cell_type": "code",
   "execution_count": 85,
   "metadata": {},
   "outputs": [],
   "source": [
    "#Defined MIP Model \n",
    "m = Model()\n",
    "f = [[m.add_var(var_type=CONTINUOUS, lb=0) for j in V] for i in range(nw)]\n",
    "\n",
    "total_distances_cap = xsum([xsum([distances_cap[i][j]*f[i][j] for j in V]) for i in range(nw)])\n",
    "\n",
    "m.objective = minimize(total_distances_cap)"
   ]
  },
  {
   "cell_type": "code",
   "execution_count": 91,
   "metadata": {},
   "outputs": [],
   "source": [
    "#Capacity Contraint \n",
    "for i in range(nw): \n",
    "    m += xsum([f[i][j] for j in V]) <= capacity[i]\n",
    "    \n",
    "#Demand Constraint \n",
    "for j in V: \n",
    "    m += xsum([f[i][j] for i in range(nw)])== demand[j]"
   ]
  },
  {
   "cell_type": "code",
   "execution_count": 92,
   "metadata": {},
   "outputs": [
    {
     "data": {
      "text/plain": [
       "<OptimizationStatus.OPTIMAL: 0>"
      ]
     },
     "execution_count": 92,
     "metadata": {},
     "output_type": "execute_result"
    }
   ],
   "source": [
    "m.optimize()"
   ]
  },
  {
   "cell_type": "code",
   "execution_count": 93,
   "metadata": {},
   "outputs": [
    {
     "data": {
      "text/plain": [
       "[[4270.0,\n",
       "  0.0,\n",
       "  0.0,\n",
       "  3680.0,\n",
       "  0.0,\n",
       "  3070.0,\n",
       "  0.0,\n",
       "  5090.0,\n",
       "  0.0,\n",
       "  0.0,\n",
       "  2350.0,\n",
       "  0.0,\n",
       "  0.0,\n",
       "  0.0,\n",
       "  1540.0],\n",
       " [0.0,\n",
       "  790.0,\n",
       "  0.0,\n",
       "  0.0,\n",
       "  0.0,\n",
       "  0.0,\n",
       "  4140.0,\n",
       "  0.0,\n",
       "  0.0,\n",
       "  3350.0,\n",
       "  0.0,\n",
       "  0.0,\n",
       "  0.0,\n",
       "  0.0,\n",
       "  0.0],\n",
       " [0.0,\n",
       "  0.0,\n",
       "  2190.0,\n",
       "  0.0,\n",
       "  3860.0,\n",
       "  0.0,\n",
       "  0.0,\n",
       "  0.0,\n",
       "  2320.0,\n",
       "  0.0,\n",
       "  2960.0,\n",
       "  800.0,\n",
       "  5350.0,\n",
       "  900.0,\n",
       "  0.0]]"
      ]
     },
     "execution_count": 93,
     "metadata": {},
     "output_type": "execute_result"
    }
   ],
   "source": [
    "[[f[i][j].x for j in V] for i in range(nw)"
   ]
  },
  {
   "cell_type": "code",
   "execution_count": 107,
   "metadata": {},
   "outputs": [
    {
     "data": {
      "text/html": [
       "<div>\n",
       "<style scoped>\n",
       "    .dataframe tbody tr th:only-of-type {\n",
       "        vertical-align: middle;\n",
       "    }\n",
       "\n",
       "    .dataframe tbody tr th {\n",
       "        vertical-align: top;\n",
       "    }\n",
       "\n",
       "    .dataframe thead th {\n",
       "        text-align: right;\n",
       "    }\n",
       "</style>\n",
       "<table border=\"1\" class=\"dataframe\">\n",
       "  <thead>\n",
       "    <tr style=\"text-align: right;\">\n",
       "      <th></th>\n",
       "      <th>0</th>\n",
       "    </tr>\n",
       "  </thead>\n",
       "  <tbody>\n",
       "    <tr>\n",
       "      <th>0</th>\n",
       "      <td>4270.0</td>\n",
       "    </tr>\n",
       "    <tr>\n",
       "      <th>1</th>\n",
       "      <td>790.0</td>\n",
       "    </tr>\n",
       "    <tr>\n",
       "      <th>2</th>\n",
       "      <td>2190.0</td>\n",
       "    </tr>\n",
       "    <tr>\n",
       "      <th>3</th>\n",
       "      <td>3680.0</td>\n",
       "    </tr>\n",
       "    <tr>\n",
       "      <th>4</th>\n",
       "      <td>3860.0</td>\n",
       "    </tr>\n",
       "    <tr>\n",
       "      <th>5</th>\n",
       "      <td>3070.0</td>\n",
       "    </tr>\n",
       "    <tr>\n",
       "      <th>6</th>\n",
       "      <td>4140.0</td>\n",
       "    </tr>\n",
       "    <tr>\n",
       "      <th>7</th>\n",
       "      <td>5090.0</td>\n",
       "    </tr>\n",
       "    <tr>\n",
       "      <th>8</th>\n",
       "      <td>2320.0</td>\n",
       "    </tr>\n",
       "    <tr>\n",
       "      <th>9</th>\n",
       "      <td>3350.0</td>\n",
       "    </tr>\n",
       "    <tr>\n",
       "      <th>10</th>\n",
       "      <td>5310.0</td>\n",
       "    </tr>\n",
       "    <tr>\n",
       "      <th>11</th>\n",
       "      <td>800.0</td>\n",
       "    </tr>\n",
       "    <tr>\n",
       "      <th>12</th>\n",
       "      <td>5350.0</td>\n",
       "    </tr>\n",
       "    <tr>\n",
       "      <th>13</th>\n",
       "      <td>900.0</td>\n",
       "    </tr>\n",
       "    <tr>\n",
       "      <th>14</th>\n",
       "      <td>1540.0</td>\n",
       "    </tr>\n",
       "  </tbody>\n",
       "</table>\n",
       "</div>"
      ],
      "text/plain": [
       "         0\n",
       "0   4270.0\n",
       "1    790.0\n",
       "2   2190.0\n",
       "3   3680.0\n",
       "4   3860.0\n",
       "5   3070.0\n",
       "6   4140.0\n",
       "7   5090.0\n",
       "8   2320.0\n",
       "9   3350.0\n",
       "10  5310.0\n",
       "11   800.0\n",
       "12  5350.0\n",
       "13   900.0\n",
       "14  1540.0"
      ]
     },
     "execution_count": 107,
     "metadata": {},
     "output_type": "execute_result"
    }
   ],
   "source": [
    "#Amount in each WH\n",
    "pd.DataFrame([sum([f[i][j].x for i in range(nw)]) for j in V])"
   ]
  },
  {
   "cell_type": "code",
   "execution_count": 115,
   "metadata": {},
   "outputs": [
    {
     "data": {
      "text/html": [
       "<div>\n",
       "<style scoped>\n",
       "    .dataframe tbody tr th:only-of-type {\n",
       "        vertical-align: middle;\n",
       "    }\n",
       "\n",
       "    .dataframe tbody tr th {\n",
       "        vertical-align: top;\n",
       "    }\n",
       "\n",
       "    .dataframe thead th {\n",
       "        text-align: right;\n",
       "    }\n",
       "</style>\n",
       "<table border=\"1\" class=\"dataframe\">\n",
       "  <thead>\n",
       "    <tr style=\"text-align: right;\">\n",
       "      <th></th>\n",
       "      <th>name</th>\n",
       "      <th>x</th>\n",
       "      <th>y</th>\n",
       "    </tr>\n",
       "  </thead>\n",
       "  <tbody>\n",
       "    <tr>\n",
       "      <th>3</th>\n",
       "      <td>D</td>\n",
       "      <td>-88.803093</td>\n",
       "      <td>-3.120039</td>\n",
       "    </tr>\n",
       "    <tr>\n",
       "      <th>6</th>\n",
       "      <td>G</td>\n",
       "      <td>60.158522</td>\n",
       "      <td>-91.886845</td>\n",
       "    </tr>\n",
       "    <tr>\n",
       "      <th>12</th>\n",
       "      <td>M</td>\n",
       "      <td>51.904766</td>\n",
       "      <td>32.616293</td>\n",
       "    </tr>\n",
       "  </tbody>\n",
       "</table>\n",
       "</div>"
      ],
      "text/plain": [
       "   name          x          y\n",
       "3     D -88.803093  -3.120039\n",
       "6     G  60.158522 -91.886845\n",
       "12    M  51.904766  32.616293"
      ]
     },
     "execution_count": 115,
     "metadata": {},
     "output_type": "execute_result"
    }
   ],
   "source": [
    "locations = df[['name', 'x', 'y']].iloc[warehouses1]\n",
    "locations"
   ]
  },
  {
   "cell_type": "code",
   "execution_count": 114,
   "metadata": {},
   "outputs": [
    {
     "data": {
      "image/png": "[encoded data removed]",
      "text/plain": [
       "<Figure size 576x576 with 1 Axes>"
      ]
     },
     "metadata": {
      "needs_background": "light"
     },
     "output_type": "display_data"
    }
   ],
   "source": [
    "fig, ax = plt.subplots(figsize=(8,8))\n",
    "\n",
    "\n",
    "plt.scatter(df['x'], df['y'], s = df['demand']//40)\n",
    "plt.scatter(df.iloc[warehouses1]['x'], \n",
    "           df.iloc[warehouses1]['y'], color = 'Yellow', s = df.iloc[warehouses1]['demand']//40)\n",
    "\n",
    "\n",
    "for i in range(nCity):\n",
    "    ax.annotate(\n",
    "    df.iloc[i]['name'], \n",
    "    df.iloc[i][['x', 'y']].values +5)\n",
    "\n",
    "for wh in warehouses1: \n",
    "    dest = [j for j in V-{wh} if y[wh][j].x == 1]\n",
    "    xi, yi = df.iloc[wh][['x', 'y']]\n",
    "    for j, row in df.iterrows(): \n",
    "        if j in dest: \n",
    "            xj, yj = df.iloc[j][['x', 'y']]\n",
    "            dx = xj - xi \n",
    "            dy = yj - yi\n",
    "            plt.arrow(xi, yi, dx, dy, head_width=5)"
   ]
  }
 ],
 "metadata": {
  "kernelspec": {
   "display_name": "Python 3",
   "language": "python",
   "name": "python3"
  },
  "language_info": {
   "codemirror_mode": {
    "name": "ipython",
    "version": 3
   },
   "file_extension": ".py",
   "mimetype": "text/x-python",
   "name": "python",
   "nbconvert_exporter": "python",
   "pygments_lexer": "ipython3",
   "version": "3.8.3"
  }
 },
 "nbformat": 4,
 "nbformat_minor": 4
}
