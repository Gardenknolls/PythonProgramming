{
 "cells": [
  {
   "cell_type": "markdown",
   "metadata": {},
   "source": [
    "# STRATEGY & ANALYSIS "
   ]
  },
  {
   "cell_type": "markdown",
   "metadata": {},
   "source": [
    "Assignment #1\\\n",
    "Creator: Nikolas Hermanowycz\\\n"
   ]
  },
  {
   "cell_type": "markdown",
   "metadata": {},
   "source": [
    "1. Calculate the average survival rates by pclass, sex, sibsp, parch, and embarked.\n",
    "2. Bucket the data by agequartiles and farequartilesto calculate the average survival rate for each quartile and plot the result as a bar plot.\n",
    "3. Calculate the correlation between the survival column and the rest of the columns. What are top 3 most important attributes to determine the likelihood of survival?"
   ]
  },
  {
   "cell_type": "code",
   "execution_count": 15,
   "metadata": {},
   "outputs": [],
   "source": [
    "import numpy as np\n",
    "import pandas as pd\n",
    "import matplotlib.pyplot as plt\n",
    "import seaborn as sns\n",
    "from scipy import stats\n",
    "from random import random"
   ]
  },
  {
   "cell_type": "code",
   "execution_count": 16,
   "metadata": {},
   "outputs": [
    {
     "name": "stdout",
     "output_type": "stream",
     "text": [
      "     PassengerId  Survived  Pclass  \\\n",
      "0              1         0       3   \n",
      "1              2         1       1   \n",
      "2              3         1       3   \n",
      "3              4         1       1   \n",
      "4              5         0       3   \n",
      "..           ...       ...     ...   \n",
      "886          887         0       2   \n",
      "887          888         1       1   \n",
      "888          889         0       3   \n",
      "889          890         1       1   \n",
      "890          891         0       3   \n",
      "\n",
      "                                                  Name     Sex   Age  SibSp  \\\n",
      "0                              Braund, Mr. Owen Harris    male  22.0      1   \n",
      "1    Cumings, Mrs. John Bradley (Florence Briggs Th...  female  38.0      1   \n",
      "2                               Heikkinen, Miss. Laina  female  26.0      0   \n",
      "3         Futrelle, Mrs. Jacques Heath (Lily May Peel)  female  35.0      1   \n",
      "4                             Allen, Mr. William Henry    male  35.0      0   \n",
      "..                                                 ...     ...   ...    ...   \n",
      "886                              Montvila, Rev. Juozas    male  27.0      0   \n",
      "887                       Graham, Miss. Margaret Edith  female  19.0      0   \n",
      "888           Johnston, Miss. Catherine Helen \"Carrie\"  female   NaN      1   \n",
      "889                              Behr, Mr. Karl Howell    male  26.0      0   \n",
      "890                                Dooley, Mr. Patrick    male  32.0      0   \n",
      "\n",
      "     Parch            Ticket     Fare Cabin Embarked  \n",
      "0        0         A/5 21171   7.2500   NaN        S  \n",
      "1        0          PC 17599  71.2833   C85        C  \n",
      "2        0  STON/O2. 3101282   7.9250   NaN        S  \n",
      "3        0            113803  53.1000  C123        S  \n",
      "4        0            373450   8.0500   NaN        S  \n",
      "..     ...               ...      ...   ...      ...  \n",
      "886      0            211536  13.0000   NaN        S  \n",
      "887      0            112053  30.0000   B42        S  \n",
      "888      2        W./C. 6607  23.4500   NaN        S  \n",
      "889      0            111369  30.0000  C148        C  \n",
      "890      0            370376   7.7500   NaN        Q  \n",
      "\n",
      "[891 rows x 12 columns]\n"
     ]
    }
   ],
   "source": [
    "buan = pd.read_csv(\"baun685_hw1_titanic_data.csv\")  \n",
    "print(buan)"
   ]
  },
  {
   "cell_type": "code",
   "execution_count": 11,
   "metadata": {},
   "outputs": [
    {
     "data": {
      "text/html": [
       "<div>\n",
       "<style scoped>\n",
       "    .dataframe tbody tr th:only-of-type {\n",
       "        vertical-align: middle;\n",
       "    }\n",
       "\n",
       "    .dataframe tbody tr th {\n",
       "        vertical-align: top;\n",
       "    }\n",
       "\n",
       "    .dataframe thead th {\n",
       "        text-align: right;\n",
       "    }\n",
       "</style>\n",
       "<table border=\"1\" class=\"dataframe\">\n",
       "  <thead>\n",
       "    <tr style=\"text-align: right;\">\n",
       "      <th></th>\n",
       "      <th>PassengerId</th>\n",
       "      <th>Survived</th>\n",
       "      <th>Pclass</th>\n",
       "      <th>Age</th>\n",
       "      <th>SibSp</th>\n",
       "      <th>Parch</th>\n",
       "      <th>Fare</th>\n",
       "    </tr>\n",
       "  </thead>\n",
       "  <tbody>\n",
       "    <tr>\n",
       "      <th>count</th>\n",
       "      <td>891.000000</td>\n",
       "      <td>891.000000</td>\n",
       "      <td>891.000000</td>\n",
       "      <td>714.000000</td>\n",
       "      <td>891.000000</td>\n",
       "      <td>891.000000</td>\n",
       "      <td>891.000000</td>\n",
       "    </tr>\n",
       "    <tr>\n",
       "      <th>mean</th>\n",
       "      <td>446.000000</td>\n",
       "      <td>0.383838</td>\n",
       "      <td>2.308642</td>\n",
       "      <td>29.699118</td>\n",
       "      <td>0.523008</td>\n",
       "      <td>0.381594</td>\n",
       "      <td>32.204208</td>\n",
       "    </tr>\n",
       "    <tr>\n",
       "      <th>std</th>\n",
       "      <td>257.353842</td>\n",
       "      <td>0.486592</td>\n",
       "      <td>0.836071</td>\n",
       "      <td>14.526497</td>\n",
       "      <td>1.102743</td>\n",
       "      <td>0.806057</td>\n",
       "      <td>49.693429</td>\n",
       "    </tr>\n",
       "    <tr>\n",
       "      <th>min</th>\n",
       "      <td>1.000000</td>\n",
       "      <td>0.000000</td>\n",
       "      <td>1.000000</td>\n",
       "      <td>0.420000</td>\n",
       "      <td>0.000000</td>\n",
       "      <td>0.000000</td>\n",
       "      <td>0.000000</td>\n",
       "    </tr>\n",
       "    <tr>\n",
       "      <th>25%</th>\n",
       "      <td>223.500000</td>\n",
       "      <td>0.000000</td>\n",
       "      <td>2.000000</td>\n",
       "      <td>20.125000</td>\n",
       "      <td>0.000000</td>\n",
       "      <td>0.000000</td>\n",
       "      <td>7.910400</td>\n",
       "    </tr>\n",
       "    <tr>\n",
       "      <th>50%</th>\n",
       "      <td>446.000000</td>\n",
       "      <td>0.000000</td>\n",
       "      <td>3.000000</td>\n",
       "      <td>28.000000</td>\n",
       "      <td>0.000000</td>\n",
       "      <td>0.000000</td>\n",
       "      <td>14.454200</td>\n",
       "    </tr>\n",
       "    <tr>\n",
       "      <th>75%</th>\n",
       "      <td>668.500000</td>\n",
       "      <td>1.000000</td>\n",
       "      <td>3.000000</td>\n",
       "      <td>38.000000</td>\n",
       "      <td>1.000000</td>\n",
       "      <td>0.000000</td>\n",
       "      <td>31.000000</td>\n",
       "    </tr>\n",
       "    <tr>\n",
       "      <th>max</th>\n",
       "      <td>891.000000</td>\n",
       "      <td>1.000000</td>\n",
       "      <td>3.000000</td>\n",
       "      <td>80.000000</td>\n",
       "      <td>8.000000</td>\n",
       "      <td>6.000000</td>\n",
       "      <td>512.329200</td>\n",
       "    </tr>\n",
       "  </tbody>\n",
       "</table>\n",
       "</div>"
      ],
      "text/plain": [
       "       PassengerId    Survived      Pclass         Age       SibSp  \\\n",
       "count   891.000000  891.000000  891.000000  714.000000  891.000000   \n",
       "mean    446.000000    0.383838    2.308642   29.699118    0.523008   \n",
       "std     257.353842    0.486592    0.836071   14.526497    1.102743   \n",
       "min       1.000000    0.000000    1.000000    0.420000    0.000000   \n",
       "25%     223.500000    0.000000    2.000000   20.125000    0.000000   \n",
       "50%     446.000000    0.000000    3.000000   28.000000    0.000000   \n",
       "75%     668.500000    1.000000    3.000000   38.000000    1.000000   \n",
       "max     891.000000    1.000000    3.000000   80.000000    8.000000   \n",
       "\n",
       "            Parch        Fare  \n",
       "count  891.000000  891.000000  \n",
       "mean     0.381594   32.204208  \n",
       "std      0.806057   49.693429  \n",
       "min      0.000000    0.000000  \n",
       "25%      0.000000    7.910400  \n",
       "50%      0.000000   14.454200  \n",
       "75%      0.000000   31.000000  \n",
       "max      6.000000  512.329200  "
      ]
     },
     "execution_count": 11,
     "metadata": {},
     "output_type": "execute_result"
    }
   ],
   "source": [
    "buan.describe()"
   ]
  },
  {
   "cell_type": "code",
   "execution_count": 55,
   "metadata": {},
   "outputs": [
    {
     "data": {
      "text/plain": [
       "Index(['PassengerId', 'Survived', 'Pclass', 'Name', 'Sex', 'Age', 'SibSp',\n",
       "       'Parch', 'Ticket', 'Fare', 'Cabin', 'Embarked'],\n",
       "      dtype='object')"
      ]
     },
     "execution_count": 55,
     "metadata": {},
     "output_type": "execute_result"
    }
   ],
   "source": [
    "buan.columns"
   ]
  },
  {
   "cell_type": "markdown",
   "metadata": {},
   "source": [
    "## Survival Rates"
   ]
  },
  {
   "cell_type": "markdown",
   "metadata": {},
   "source": [
    "Pclass"
   ]
  },
  {
   "cell_type": "code",
   "execution_count": 68,
   "metadata": {},
   "outputs": [
    {
     "name": "stdout",
     "output_type": "stream",
     "text": [
      "Average Survival Rate By Class\n",
      "Pclass\n",
      "1    0.629630\n",
      "2    0.472826\n",
      "3    0.242363\n",
      "Name: Survived, dtype: float64\n"
     ]
    }
   ],
   "source": [
    "print('Average Survival Rate By Class')\n",
    "print (buan.groupby('Pclass').Survived.mean())\n",
    "\n",
    "\n",
    "#p = buan[['Survived', 'Pclass']].groupby('Survived')['Pclass'].mean"
   ]
  },
  {
   "cell_type": "code",
   "execution_count": 67,
   "metadata": {},
   "outputs": [
    {
     "name": "stdout",
     "output_type": "stream",
     "text": [
      "Average Survival Rate By Sex\n",
      "Sex\n",
      "female    0.742038\n",
      "male      0.188908\n",
      "Name: Survived, dtype: float64\n"
     ]
    }
   ],
   "source": [
    "print('Average Survival Rate By Sex')\n",
    "print (buan.groupby('Sex').Survived.mean())"
   ]
  },
  {
   "cell_type": "code",
   "execution_count": 71,
   "metadata": {},
   "outputs": [
    {
     "name": "stdout",
     "output_type": "stream",
     "text": [
      "Average Survival Rate By SibSp\n",
      "SibSp\n",
      "0    0.345395\n",
      "1    0.535885\n",
      "2    0.464286\n",
      "3    0.250000\n",
      "4    0.166667\n",
      "5    0.000000\n",
      "8    0.000000\n",
      "Name: Survived, dtype: float64\n"
     ]
    }
   ],
   "source": [
    "print('Average Survival Rate By SibSp')\n",
    "print (buan.groupby('SibSp').Survived.mean())"
   ]
  },
  {
   "cell_type": "code",
   "execution_count": 73,
   "metadata": {},
   "outputs": [
    {
     "name": "stdout",
     "output_type": "stream",
     "text": [
      "Average Survival Rate By Parch\n",
      "Parch\n",
      "0    0.343658\n",
      "1    0.550847\n",
      "2    0.500000\n",
      "3    0.600000\n",
      "4    0.000000\n",
      "5    0.200000\n",
      "6    0.000000\n",
      "Name: Survived, dtype: float64\n"
     ]
    }
   ],
   "source": [
    "print('Average Survival Rate By Parch')\n",
    "print (buan.groupby('Parch').Survived.mean())"
   ]
  },
  {
   "cell_type": "code",
   "execution_count": 75,
   "metadata": {},
   "outputs": [
    {
     "name": "stdout",
     "output_type": "stream",
     "text": [
      "Average Survival Rate By Embarked\n",
      "Embarked\n",
      "C    0.553571\n",
      "Q    0.389610\n",
      "S    0.336957\n",
      "Name: Survived, dtype: float64\n"
     ]
    }
   ],
   "source": [
    "print('Average Survival Rate By Embarked')\n",
    "e = (buan.groupby('Embarked').Survived.mean())\n",
    "print(e)"
   ]
  },
  {
   "cell_type": "markdown",
   "metadata": {},
   "source": [
    "# Bucketing\n"
   ]
  },
  {
   "cell_type": "markdown",
   "metadata": {},
   "source": [
    "2. Bucket the data by agequartiles and farequartilesto calculate the average survival rate for each quartile and plot the result as a bar plot."
   ]
  },
  {
   "cell_type": "markdown",
   "metadata": {},
   "source": [
    "AgeQuartiles"
   ]
  },
  {
   "cell_type": "code",
   "execution_count": 118,
   "metadata": {},
   "outputs": [
    {
     "data": {
      "text/plain": [
       "0      0.978676\n",
       "1      2.388328\n",
       "2      1.393939\n",
       "3      2.193042\n",
       "4      2.193042\n",
       "         ...   \n",
       "886    1.474747\n",
       "887    0.682379\n",
       "888         NaN\n",
       "889    1.393939\n",
       "890    1.964085\n",
       "Name: Age, Length: 891, dtype: float64"
      ]
     },
     "execution_count": 118,
     "metadata": {},
     "output_type": "execute_result"
    }
   ],
   "source": [
    "buan['Age'].rank()/len(buan)/0.25"
   ]
  },
  {
   "cell_type": "code",
   "execution_count": 121,
   "metadata": {},
   "outputs": [
    {
     "data": {
      "text/plain": [
       "1.0    231\n",
       "3.0    218\n",
       "2.0    215\n",
       "4.0     50\n",
       "Name: ageQuart, dtype: int64"
      ]
     },
     "execution_count": 121,
     "metadata": {},
     "output_type": "execute_result"
    }
   ],
   "source": [
    "buan['ageQuart'] = np.ceil(buan['Age'].rank()/len(buan)/0.25)\n",
    "buan['ageQuart'].value_counts()"
   ]
  },
  {
   "cell_type": "code",
   "execution_count": 128,
   "metadata": {},
   "outputs": [
    {
     "data": {
      "text/plain": [
       "ageQuart\n",
       "1.0    0.424242\n",
       "2.0    0.395349\n",
       "3.0    0.417431\n",
       "4.0    0.320000\n",
       "Name: Survived, dtype: float64"
      ]
     },
     "execution_count": 128,
     "metadata": {},
     "output_type": "execute_result"
    }
   ],
   "source": [
    "buan.groupby('ageQuart')['Survived'].mean()"
   ]
  },
  {
   "cell_type": "code",
   "execution_count": 129,
   "metadata": {},
   "outputs": [
    {
     "data": {
      "text/html": [
       "<div>\n",
       "<style scoped>\n",
       "    .dataframe tbody tr th:only-of-type {\n",
       "        vertical-align: middle;\n",
       "    }\n",
       "\n",
       "    .dataframe tbody tr th {\n",
       "        vertical-align: top;\n",
       "    }\n",
       "\n",
       "    .dataframe thead th {\n",
       "        text-align: right;\n",
       "    }\n",
       "</style>\n",
       "<table border=\"1\" class=\"dataframe\">\n",
       "  <thead>\n",
       "    <tr style=\"text-align: right;\">\n",
       "      <th></th>\n",
       "      <th>ageQuart</th>\n",
       "      <th>Survived</th>\n",
       "    </tr>\n",
       "  </thead>\n",
       "  <tbody>\n",
       "    <tr>\n",
       "      <th>0</th>\n",
       "      <td>1.0</td>\n",
       "      <td>0.424242</td>\n",
       "    </tr>\n",
       "    <tr>\n",
       "      <th>1</th>\n",
       "      <td>2.0</td>\n",
       "      <td>0.395349</td>\n",
       "    </tr>\n",
       "    <tr>\n",
       "      <th>2</th>\n",
       "      <td>3.0</td>\n",
       "      <td>0.417431</td>\n",
       "    </tr>\n",
       "    <tr>\n",
       "      <th>3</th>\n",
       "      <td>4.0</td>\n",
       "      <td>0.320000</td>\n",
       "    </tr>\n",
       "  </tbody>\n",
       "</table>\n",
       "</div>"
      ],
      "text/plain": [
       "   ageQuart  Survived\n",
       "0       1.0  0.424242\n",
       "1       2.0  0.395349\n",
       "2       3.0  0.417431\n",
       "3       4.0  0.320000"
      ]
     },
     "execution_count": 129,
     "metadata": {},
     "output_type": "execute_result"
    },
    {
     "data": {
      "image/png": "[encoded data removed]",
      "text/plain": [
       "<Figure size 432x288 with 1 Axes>"
      ]
     },
     "metadata": {
      "needs_background": "light"
     },
     "output_type": "display_data"
    }
   ],
   "source": [
    "dfplot = buan.groupby('ageQuart')['Survived'].mean().reset_index()\n",
    "plt.bar(dfplot['ageQuart'], dfplot['Survived'])\n",
    "buan.groupby('ageQuart')['Survived'].mean().reset_index()"
   ]
  },
  {
   "cell_type": "markdown",
   "metadata": {},
   "source": [
    "FareQuartiles"
   ]
  },
  {
   "cell_type": "code",
   "execution_count": 130,
   "metadata": {},
   "outputs": [
    {
     "data": {
      "text/plain": [
       "0      0.345679\n",
       "1      3.542088\n",
       "2      1.043771\n",
       "3      3.358025\n",
       "4      1.185185\n",
       "         ...   \n",
       "886    1.829405\n",
       "887    2.938272\n",
       "888    2.453423\n",
       "889    2.938272\n",
       "890    0.554433\n",
       "Name: Fare, Length: 891, dtype: float64"
      ]
     },
     "execution_count": 130,
     "metadata": {},
     "output_type": "execute_result"
    }
   ],
   "source": [
    "buan['Fare'].rank()/len(buan)/0.25"
   ]
  },
  {
   "cell_type": "code",
   "execution_count": 132,
   "metadata": {},
   "outputs": [
    {
     "data": {
      "text/plain": [
       "2.0    224\n",
       "1.0    223\n",
       "3.0    222\n",
       "4.0    222\n",
       "Name: fareQuart, dtype: int64"
      ]
     },
     "execution_count": 132,
     "metadata": {},
     "output_type": "execute_result"
    }
   ],
   "source": [
    "buan['fareQuart'] = np.ceil(buan['Fare'].rank()/len(buan)/0.25)\n",
    "buan['fareQuart'].value_counts()"
   ]
  },
  {
   "cell_type": "code",
   "execution_count": 139,
   "metadata": {},
   "outputs": [
    {
     "data": {
      "text/plain": [
       "fareQuart\n",
       "1.0    0.197309\n",
       "2.0    0.303571\n",
       "3.0    0.454955\n",
       "4.0    0.581081\n",
       "Name: Survived, dtype: float64"
      ]
     },
     "execution_count": 139,
     "metadata": {},
     "output_type": "execute_result"
    }
   ],
   "source": [
    "buan.groupby('fareQuart')['Survived'].mean()"
   ]
  },
  {
   "cell_type": "code",
   "execution_count": 140,
   "metadata": {},
   "outputs": [
    {
     "data": {
      "text/html": [
       "<div>\n",
       "<style scoped>\n",
       "    .dataframe tbody tr th:only-of-type {\n",
       "        vertical-align: middle;\n",
       "    }\n",
       "\n",
       "    .dataframe tbody tr th {\n",
       "        vertical-align: top;\n",
       "    }\n",
       "\n",
       "    .dataframe thead th {\n",
       "        text-align: right;\n",
       "    }\n",
       "</style>\n",
       "<table border=\"1\" class=\"dataframe\">\n",
       "  <thead>\n",
       "    <tr style=\"text-align: right;\">\n",
       "      <th></th>\n",
       "      <th>fareQuart</th>\n",
       "      <th>Survived</th>\n",
       "    </tr>\n",
       "  </thead>\n",
       "  <tbody>\n",
       "    <tr>\n",
       "      <th>0</th>\n",
       "      <td>1.0</td>\n",
       "      <td>0.197309</td>\n",
       "    </tr>\n",
       "    <tr>\n",
       "      <th>1</th>\n",
       "      <td>2.0</td>\n",
       "      <td>0.303571</td>\n",
       "    </tr>\n",
       "    <tr>\n",
       "      <th>2</th>\n",
       "      <td>3.0</td>\n",
       "      <td>0.454955</td>\n",
       "    </tr>\n",
       "    <tr>\n",
       "      <th>3</th>\n",
       "      <td>4.0</td>\n",
       "      <td>0.581081</td>\n",
       "    </tr>\n",
       "  </tbody>\n",
       "</table>\n",
       "</div>"
      ],
      "text/plain": [
       "   fareQuart  Survived\n",
       "0        1.0  0.197309\n",
       "1        2.0  0.303571\n",
       "2        3.0  0.454955\n",
       "3        4.0  0.581081"
      ]
     },
     "execution_count": 140,
     "metadata": {},
     "output_type": "execute_result"
    },
    {
     "data": {
      "image/png": "[encoded data removed]",
      "text/plain": [
       "<Figure size 432x288 with 1 Axes>"
      ]
     },
     "metadata": {
      "needs_background": "light"
     },
     "output_type": "display_data"
    }
   ],
   "source": [
    "dfplot2 = buan.groupby('fareQuart')['Survived'].mean().reset_index()\n",
    "plt.bar(dfplot2['fareQuart'], dfplot2['Survived'])\n",
    "buan.groupby('fareQuart')['Survived'].mean().reset_index()"
   ]
  },
  {
   "cell_type": "markdown",
   "metadata": {},
   "source": [
    "# Survival Correlation:"
   ]
  },
  {
   "cell_type": "markdown",
   "metadata": {},
   "source": [
    "3. Calculate the correlation between the survival column and the rest of the columns. What are top 3 most important attributes to determine the likelihood of survival?"
   ]
  },
  {
   "cell_type": "code",
   "execution_count": 154,
   "metadata": {},
   "outputs": [
    {
     "data": {
      "text/html": [
       "<div>\n",
       "<style scoped>\n",
       "    .dataframe tbody tr th:only-of-type {\n",
       "        vertical-align: middle;\n",
       "    }\n",
       "\n",
       "    .dataframe tbody tr th {\n",
       "        vertical-align: top;\n",
       "    }\n",
       "\n",
       "    .dataframe thead th {\n",
       "        text-align: right;\n",
       "    }\n",
       "</style>\n",
       "<table border=\"1\" class=\"dataframe\">\n",
       "  <thead>\n",
       "    <tr style=\"text-align: right;\">\n",
       "      <th></th>\n",
       "      <th>PassengerId</th>\n",
       "      <th>Survived</th>\n",
       "      <th>Pclass</th>\n",
       "      <th>Age</th>\n",
       "      <th>SibSp</th>\n",
       "      <th>Parch</th>\n",
       "      <th>Fare</th>\n",
       "      <th>SurvQuart</th>\n",
       "      <th>ageQuart</th>\n",
       "      <th>fareQuart</th>\n",
       "      <th>...</th>\n",
       "      <th>Cabin_F G73</th>\n",
       "      <th>Cabin_F2</th>\n",
       "      <th>Cabin_F33</th>\n",
       "      <th>Cabin_F38</th>\n",
       "      <th>Cabin_F4</th>\n",
       "      <th>Cabin_G6</th>\n",
       "      <th>Cabin_T</th>\n",
       "      <th>Embarked_C</th>\n",
       "      <th>Embarked_Q</th>\n",
       "      <th>Embarked_S</th>\n",
       "    </tr>\n",
       "  </thead>\n",
       "  <tbody>\n",
       "    <tr>\n",
       "      <th>PassengerId</th>\n",
       "      <td>1.000000</td>\n",
       "      <td>0.005007</td>\n",
       "      <td>0.035144</td>\n",
       "      <td>0.036847</td>\n",
       "      <td>0.057527</td>\n",
       "      <td>0.001652</td>\n",
       "      <td>0.012658</td>\n",
       "      <td>0.041117</td>\n",
       "      <td>0.032853</td>\n",
       "      <td>0.022998</td>\n",
       "      <td>...</td>\n",
       "      <td>0.009220</td>\n",
       "      <td>0.049263</td>\n",
       "      <td>0.030733</td>\n",
       "      <td>0.043137</td>\n",
       "      <td>0.008206</td>\n",
       "      <td>0.060049</td>\n",
       "      <td>0.013814</td>\n",
       "      <td>0.001205</td>\n",
       "      <td>0.033606</td>\n",
       "      <td>0.022148</td>\n",
       "    </tr>\n",
       "    <tr>\n",
       "      <th>Survived</th>\n",
       "      <td>0.005007</td>\n",
       "      <td>1.000000</td>\n",
       "      <td>0.338481</td>\n",
       "      <td>0.077221</td>\n",
       "      <td>0.035322</td>\n",
       "      <td>0.081629</td>\n",
       "      <td>0.257307</td>\n",
       "      <td>0.052565</td>\n",
       "      <td>0.031173</td>\n",
       "      <td>0.299357</td>\n",
       "      <td>...</td>\n",
       "      <td>0.037436</td>\n",
       "      <td>0.033803</td>\n",
       "      <td>0.073642</td>\n",
       "      <td>0.026456</td>\n",
       "      <td>0.060095</td>\n",
       "      <td>0.016040</td>\n",
       "      <td>0.026456</td>\n",
       "      <td>0.168240</td>\n",
       "      <td>0.003650</td>\n",
       "      <td>0.155660</td>\n",
       "    </tr>\n",
       "    <tr>\n",
       "      <th>Pclass</th>\n",
       "      <td>0.035144</td>\n",
       "      <td>0.338481</td>\n",
       "      <td>1.000000</td>\n",
       "      <td>0.369226</td>\n",
       "      <td>0.083081</td>\n",
       "      <td>0.018443</td>\n",
       "      <td>0.549500</td>\n",
       "      <td>0.365892</td>\n",
       "      <td>0.375910</td>\n",
       "      <td>0.634271</td>\n",
       "      <td>...</td>\n",
       "      <td>0.039243</td>\n",
       "      <td>0.021469</td>\n",
       "      <td>0.021469</td>\n",
       "      <td>0.027734</td>\n",
       "      <td>0.017519</td>\n",
       "      <td>0.055561</td>\n",
       "      <td>0.052496</td>\n",
       "      <td>0.243292</td>\n",
       "      <td>0.221009</td>\n",
       "      <td>0.081720</td>\n",
       "    </tr>\n",
       "    <tr>\n",
       "      <th>Age</th>\n",
       "      <td>0.036847</td>\n",
       "      <td>0.077221</td>\n",
       "      <td>0.369226</td>\n",
       "      <td>1.000000</td>\n",
       "      <td>0.308247</td>\n",
       "      <td>0.189119</td>\n",
       "      <td>0.096067</td>\n",
       "      <td>0.965994</td>\n",
       "      <td>0.918110</td>\n",
       "      <td>0.086846</td>\n",
       "      <td>...</td>\n",
       "      <td>0.028110</td>\n",
       "      <td>0.070995</td>\n",
       "      <td>0.003128</td>\n",
       "      <td>NaN</td>\n",
       "      <td>0.099305</td>\n",
       "      <td>0.077296</td>\n",
       "      <td>0.039474</td>\n",
       "      <td>0.036261</td>\n",
       "      <td>0.022405</td>\n",
       "      <td>0.032523</td>\n",
       "    </tr>\n",
       "    <tr>\n",
       "      <th>SibSp</th>\n",
       "      <td>0.057527</td>\n",
       "      <td>0.035322</td>\n",
       "      <td>0.083081</td>\n",
       "      <td>0.308247</td>\n",
       "      <td>1.000000</td>\n",
       "      <td>0.414838</td>\n",
       "      <td>0.159651</td>\n",
       "      <td>0.288838</td>\n",
       "      <td>0.222537</td>\n",
       "      <td>0.393025</td>\n",
       "      <td>...</td>\n",
       "      <td>0.022508</td>\n",
       "      <td>0.007576</td>\n",
       "      <td>0.027582</td>\n",
       "      <td>0.015907</td>\n",
       "      <td>0.063564</td>\n",
       "      <td>0.001402</td>\n",
       "      <td>0.015907</td>\n",
       "      <td>0.059528</td>\n",
       "      <td>0.026354</td>\n",
       "      <td>0.070941</td>\n",
       "    </tr>\n",
       "    <tr>\n",
       "      <th>...</th>\n",
       "      <td>...</td>\n",
       "      <td>...</td>\n",
       "      <td>...</td>\n",
       "      <td>...</td>\n",
       "      <td>...</td>\n",
       "      <td>...</td>\n",
       "      <td>...</td>\n",
       "      <td>...</td>\n",
       "      <td>...</td>\n",
       "      <td>...</td>\n",
       "      <td>...</td>\n",
       "      <td>...</td>\n",
       "      <td>...</td>\n",
       "      <td>...</td>\n",
       "      <td>...</td>\n",
       "      <td>...</td>\n",
       "      <td>...</td>\n",
       "      <td>...</td>\n",
       "      <td>...</td>\n",
       "      <td>...</td>\n",
       "      <td>...</td>\n",
       "    </tr>\n",
       "    <tr>\n",
       "      <th>Cabin_G6</th>\n",
       "      <td>0.060049</td>\n",
       "      <td>0.016040</td>\n",
       "      <td>0.055561</td>\n",
       "      <td>0.077296</td>\n",
       "      <td>0.001402</td>\n",
       "      <td>0.072388</td>\n",
       "      <td>0.025180</td>\n",
       "      <td>0.067208</td>\n",
       "      <td>0.049362</td>\n",
       "      <td>0.000169</td>\n",
       "      <td>...</td>\n",
       "      <td>0.003185</td>\n",
       "      <td>0.003903</td>\n",
       "      <td>0.003903</td>\n",
       "      <td>0.002251</td>\n",
       "      <td>0.003185</td>\n",
       "      <td>1.000000</td>\n",
       "      <td>0.002251</td>\n",
       "      <td>0.032371</td>\n",
       "      <td>0.020654</td>\n",
       "      <td>0.041589</td>\n",
       "    </tr>\n",
       "    <tr>\n",
       "      <th>Cabin_T</th>\n",
       "      <td>0.013814</td>\n",
       "      <td>0.026456</td>\n",
       "      <td>0.052496</td>\n",
       "      <td>0.039474</td>\n",
       "      <td>0.015907</td>\n",
       "      <td>0.015878</td>\n",
       "      <td>0.002224</td>\n",
       "      <td>0.045075</td>\n",
       "      <td>0.034780</td>\n",
       "      <td>0.045076</td>\n",
       "      <td>...</td>\n",
       "      <td>0.001590</td>\n",
       "      <td>0.001948</td>\n",
       "      <td>0.001948</td>\n",
       "      <td>0.001124</td>\n",
       "      <td>0.001590</td>\n",
       "      <td>0.002251</td>\n",
       "      <td>1.000000</td>\n",
       "      <td>0.016158</td>\n",
       "      <td>0.010310</td>\n",
       "      <td>0.020759</td>\n",
       "    </tr>\n",
       "    <tr>\n",
       "      <th>Embarked_C</th>\n",
       "      <td>0.001205</td>\n",
       "      <td>0.168240</td>\n",
       "      <td>0.243292</td>\n",
       "      <td>0.036261</td>\n",
       "      <td>0.059528</td>\n",
       "      <td>0.011069</td>\n",
       "      <td>0.269335</td>\n",
       "      <td>0.026482</td>\n",
       "      <td>0.042833</td>\n",
       "      <td>0.186073</td>\n",
       "      <td>...</td>\n",
       "      <td>0.022864</td>\n",
       "      <td>0.028018</td>\n",
       "      <td>0.028018</td>\n",
       "      <td>0.016158</td>\n",
       "      <td>0.022864</td>\n",
       "      <td>0.032371</td>\n",
       "      <td>0.016158</td>\n",
       "      <td>1.000000</td>\n",
       "      <td>0.148258</td>\n",
       "      <td>0.778359</td>\n",
       "    </tr>\n",
       "    <tr>\n",
       "      <th>Embarked_Q</th>\n",
       "      <td>0.033606</td>\n",
       "      <td>0.003650</td>\n",
       "      <td>0.221009</td>\n",
       "      <td>0.022405</td>\n",
       "      <td>0.026354</td>\n",
       "      <td>0.081228</td>\n",
       "      <td>0.117216</td>\n",
       "      <td>0.034090</td>\n",
       "      <td>0.041295</td>\n",
       "      <td>0.240489</td>\n",
       "      <td>...</td>\n",
       "      <td>0.014588</td>\n",
       "      <td>0.017877</td>\n",
       "      <td>0.017877</td>\n",
       "      <td>0.108986</td>\n",
       "      <td>0.014588</td>\n",
       "      <td>0.020654</td>\n",
       "      <td>0.010310</td>\n",
       "      <td>0.148258</td>\n",
       "      <td>1.000000</td>\n",
       "      <td>0.496624</td>\n",
       "    </tr>\n",
       "    <tr>\n",
       "      <th>Embarked_S</th>\n",
       "      <td>0.022148</td>\n",
       "      <td>0.155660</td>\n",
       "      <td>0.081720</td>\n",
       "      <td>0.032523</td>\n",
       "      <td>0.070941</td>\n",
       "      <td>0.063036</td>\n",
       "      <td>0.166603</td>\n",
       "      <td>0.017026</td>\n",
       "      <td>0.030208</td>\n",
       "      <td>0.018382</td>\n",
       "      <td>...</td>\n",
       "      <td>0.029374</td>\n",
       "      <td>0.035996</td>\n",
       "      <td>0.035996</td>\n",
       "      <td>0.054125</td>\n",
       "      <td>0.029374</td>\n",
       "      <td>0.041589</td>\n",
       "      <td>0.020759</td>\n",
       "      <td>0.778359</td>\n",
       "      <td>0.496624</td>\n",
       "      <td>1.000000</td>\n",
       "    </tr>\n",
       "  </tbody>\n",
       "</table>\n",
       "<p>1734 rows × 1734 columns</p>\n",
       "</div>"
      ],
      "text/plain": [
       "             PassengerId  Survived    Pclass       Age     SibSp     Parch  \\\n",
       "PassengerId     1.000000  0.005007  0.035144  0.036847  0.057527  0.001652   \n",
       "Survived        0.005007  1.000000  0.338481  0.077221  0.035322  0.081629   \n",
       "Pclass          0.035144  0.338481  1.000000  0.369226  0.083081  0.018443   \n",
       "Age             0.036847  0.077221  0.369226  1.000000  0.308247  0.189119   \n",
       "SibSp           0.057527  0.035322  0.083081  0.308247  1.000000  0.414838   \n",
       "...                  ...       ...       ...       ...       ...       ...   \n",
       "Cabin_G6        0.060049  0.016040  0.055561  0.077296  0.001402  0.072388   \n",
       "Cabin_T         0.013814  0.026456  0.052496  0.039474  0.015907  0.015878   \n",
       "Embarked_C      0.001205  0.168240  0.243292  0.036261  0.059528  0.011069   \n",
       "Embarked_Q      0.033606  0.003650  0.221009  0.022405  0.026354  0.081228   \n",
       "Embarked_S      0.022148  0.155660  0.081720  0.032523  0.070941  0.063036   \n",
       "\n",
       "                 Fare  SurvQuart  ageQuart  fareQuart  ...  Cabin_F G73  \\\n",
       "PassengerId  0.012658   0.041117  0.032853   0.022998  ...     0.009220   \n",
       "Survived     0.257307   0.052565  0.031173   0.299357  ...     0.037436   \n",
       "Pclass       0.549500   0.365892  0.375910   0.634271  ...     0.039243   \n",
       "Age          0.096067   0.965994  0.918110   0.086846  ...     0.028110   \n",
       "SibSp        0.159651   0.288838  0.222537   0.393025  ...     0.022508   \n",
       "...               ...        ...       ...        ...  ...          ...   \n",
       "Cabin_G6     0.025180   0.067208  0.049362   0.000169  ...     0.003185   \n",
       "Cabin_T      0.002224   0.045075  0.034780   0.045076  ...     0.001590   \n",
       "Embarked_C   0.269335   0.026482  0.042833   0.186073  ...     0.022864   \n",
       "Embarked_Q   0.117216   0.034090  0.041295   0.240489  ...     0.014588   \n",
       "Embarked_S   0.166603   0.017026  0.030208   0.018382  ...     0.029374   \n",
       "\n",
       "             Cabin_F2  Cabin_F33  Cabin_F38  Cabin_F4  Cabin_G6   Cabin_T  \\\n",
       "PassengerId  0.049263   0.030733   0.043137  0.008206  0.060049  0.013814   \n",
       "Survived     0.033803   0.073642   0.026456  0.060095  0.016040  0.026456   \n",
       "Pclass       0.021469   0.021469   0.027734  0.017519  0.055561  0.052496   \n",
       "Age          0.070995   0.003128        NaN  0.099305  0.077296  0.039474   \n",
       "SibSp        0.007576   0.027582   0.015907  0.063564  0.001402  0.015907   \n",
       "...               ...        ...        ...       ...       ...       ...   \n",
       "Cabin_G6     0.003903   0.003903   0.002251  0.003185  1.000000  0.002251   \n",
       "Cabin_T      0.001948   0.001948   0.001124  0.001590  0.002251  1.000000   \n",
       "Embarked_C   0.028018   0.028018   0.016158  0.022864  0.032371  0.016158   \n",
       "Embarked_Q   0.017877   0.017877   0.108986  0.014588  0.020654  0.010310   \n",
       "Embarked_S   0.035996   0.035996   0.054125  0.029374  0.041589  0.020759   \n",
       "\n",
       "             Embarked_C  Embarked_Q  Embarked_S  \n",
       "PassengerId    0.001205    0.033606    0.022148  \n",
       "Survived       0.168240    0.003650    0.155660  \n",
       "Pclass         0.243292    0.221009    0.081720  \n",
       "Age            0.036261    0.022405    0.032523  \n",
       "SibSp          0.059528    0.026354    0.070941  \n",
       "...                 ...         ...         ...  \n",
       "Cabin_G6       0.032371    0.020654    0.041589  \n",
       "Cabin_T        0.016158    0.010310    0.020759  \n",
       "Embarked_C     1.000000    0.148258    0.778359  \n",
       "Embarked_Q     0.148258    1.000000    0.496624  \n",
       "Embarked_S     0.778359    0.496624    1.000000  \n",
       "\n",
       "[1734 rows x 1734 columns]"
      ]
     },
     "execution_count": 154,
     "metadata": {},
     "output_type": "execute_result"
    }
   ],
   "source": [
    "#get dummies creates multiple columns from one column\n",
    "corr = pd.get_dummies(buan).corr().abs()\n",
    "corr"
   ]
  },
  {
   "cell_type": "code",
   "execution_count": 152,
   "metadata": {},
   "outputs": [
    {
     "data": {
      "text/plain": [
       "fareQuart     0.299357\n",
       "Pclass        0.338481\n",
       "Sex_male      0.543351\n",
       "Sex_female    0.543351\n",
       "Survived      1.000000\n",
       "Name: Survived, dtype: float64"
      ]
     },
     "execution_count": 152,
     "metadata": {},
     "output_type": "execute_result"
    }
   ],
   "source": [
    "corr['Survived'].sort_values().tail()"
   ]
  },
  {
   "cell_type": "markdown",
   "metadata": {},
   "source": [
    "After analysis, it would apear that the highest correlations seen in Survival rate comes from: Sex_Female, Sex_Male, and Pclass. While the class and female makeup does not come as a surprise, the idea that Men are equal/second compared to is surprising. \n",
    "\n",
    "Prior to the Analysis, I would have hypothesized that Young, High Class, Females would have the highest correlation to survival rates. However, I neglected to take into acccount that the age is seen as a number across all passeneger and not singular entries. "
   ]
  }
 ],
 "metadata": {
  "kernelspec": {
   "display_name": "Python 3",
   "language": "python",
   "name": "python3"
  },
  "language_info": {
   "codemirror_mode": {
    "name": "ipython",
    "version": 3
   },
   "file_extension": ".py",
   "mimetype": "text/x-python",
   "name": "python",
   "nbconvert_exporter": "python",
   "pygments_lexer": "ipython3",
   "version": "3.8.3"
  }
 },
 "nbformat": 4,
 "nbformat_minor": 4
}
