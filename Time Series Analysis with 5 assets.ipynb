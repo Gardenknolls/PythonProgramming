{
 "cells": [
  {
   "cell_type": "markdown",
   "metadata": {},
   "source": [
    "## Time Series Analysis with 5 assets\n"
   ]
  },
  {
   "cell_type": "markdown",
   "metadata": {},
   "source": [
    "Author: HermanowyczN \\"
   ]
  },
  {
   "cell_type": "code",
   "execution_count": 186,
   "metadata": {},
   "outputs": [],
   "source": [
    "import numpy as np\n",
    "import pandas as pd\n",
    "import matplotlib.pyplot as plt\n",
    "import seaborn as sns\n",
    "import scipy.optimize as opt\n",
    "from scipy import stats\n",
    "from random import random\n",
    "from mip import Model, minimize, BINARY, INTEGER, CONTINUOUS, xsum "
   ]
  },
  {
   "cell_type": "code",
   "execution_count": 160,
   "metadata": {},
   "outputs": [
    {
     "name": "stdout",
     "output_type": "stream",
     "text": [
      "Requirement already satisfied: pandas_datareader in c:\\users\\hermanowyczn\\anaconda3\\lib\\site-packages (0.9.0)\n",
      "Requirement already satisfied: lxml in c:\\users\\hermanowyczn\\anaconda3\\lib\\site-packages (from pandas_datareader) (4.5.2)\n",
      "Requirement already satisfied: requests>=2.19.0 in c:\\users\\hermanowyczn\\anaconda3\\lib\\site-packages (from pandas_datareader) (2.24.0)\n",
      "Requirement already satisfied: pandas>=0.23 in c:\\users\\hermanowyczn\\anaconda3\\lib\\site-packages (from pandas_datareader) (1.0.5)\n",
      "Requirement already satisfied: idna<3,>=2.5 in c:\\users\\hermanowyczn\\anaconda3\\lib\\site-packages (from requests>=2.19.0->pandas_datareader) (2.10)\n",
      "Requirement already satisfied: certifi>=2017.4.17 in c:\\users\\hermanowyczn\\anaconda3\\lib\\site-packages (from requests>=2.19.0->pandas_datareader) (2020.6.20)\n",
      "Requirement already satisfied: urllib3!=1.25.0,!=1.25.1,<1.26,>=1.21.1 in c:\\users\\hermanowyczn\\anaconda3\\lib\\site-packages (from requests>=2.19.0->pandas_datareader) (1.25.9)\n",
      "Requirement already satisfied: chardet<4,>=3.0.2 in c:\\users\\hermanowyczn\\anaconda3\\lib\\site-packages (from requests>=2.19.0->pandas_datareader) (3.0.4)\n",
      "Requirement already satisfied: numpy>=1.13.3 in c:\\users\\hermanowyczn\\anaconda3\\lib\\site-packages (from pandas>=0.23->pandas_datareader) (1.18.5)\n",
      "Requirement already satisfied: pytz>=2017.2 in c:\\users\\hermanowyczn\\anaconda3\\lib\\site-packages (from pandas>=0.23->pandas_datareader) (2020.1)\n",
      "Requirement already satisfied: python-dateutil>=2.6.1 in c:\\users\\hermanowyczn\\anaconda3\\lib\\site-packages (from pandas>=0.23->pandas_datareader) (2.8.1)\n",
      "Requirement already satisfied: six>=1.5 in c:\\users\\hermanowyczn\\anaconda3\\lib\\site-packages (from python-dateutil>=2.6.1->pandas>=0.23->pandas_datareader) (1.15.0)\n"
     ]
    }
   ],
   "source": [
    "!pip install pandas_datareader"
   ]
  },
  {
   "cell_type": "code",
   "execution_count": 161,
   "metadata": {},
   "outputs": [],
   "source": [
    "import pandas_datareader.data as web "
   ]
  },
  {
   "cell_type": "code",
   "execution_count": null,
   "metadata": {},
   "outputs": [],
   "source": [
    "#Microsoft (MSFT), Facebook (FB), Walmart (WMT), Johnson & Johnson (JNJ), and JPMorgan Chase (JPM)\n",
    "#For the following calculations, assume the annual risk-free return to be 1.65%"
   ]
  },
  {
   "cell_type": "code",
   "execution_count": 162,
   "metadata": {},
   "outputs": [],
   "source": [
    "#2019-12-31 to 2020-12-31\n",
    "start = '2019-12-31'\n",
    "end = '2020-12-31'"
   ]
  },
  {
   "cell_type": "code",
   "execution_count": 163,
   "metadata": {},
   "outputs": [
    {
     "data": {
      "text/html": [
       "<div>\n",
       "<style scoped>\n",
       "    .dataframe tbody tr th:only-of-type {\n",
       "        vertical-align: middle;\n",
       "    }\n",
       "\n",
       "    .dataframe tbody tr th {\n",
       "        vertical-align: top;\n",
       "    }\n",
       "\n",
       "    .dataframe thead tr th {\n",
       "        text-align: left;\n",
       "    }\n",
       "\n",
       "    .dataframe thead tr:last-of-type th {\n",
       "        text-align: right;\n",
       "    }\n",
       "</style>\n",
       "<table border=\"1\" class=\"dataframe\">\n",
       "  <thead>\n",
       "    <tr>\n",
       "      <th>Attributes</th>\n",
       "      <th colspan=\"5\" halign=\"left\">Adj Close</th>\n",
       "      <th colspan=\"5\" halign=\"left\">Close</th>\n",
       "      <th>...</th>\n",
       "      <th colspan=\"5\" halign=\"left\">Open</th>\n",
       "      <th colspan=\"5\" halign=\"left\">Volume</th>\n",
       "    </tr>\n",
       "    <tr>\n",
       "      <th>Symbols</th>\n",
       "      <th>MSFT</th>\n",
       "      <th>FB</th>\n",
       "      <th>WMT</th>\n",
       "      <th>JNJ</th>\n",
       "      <th>JPM</th>\n",
       "      <th>MSFT</th>\n",
       "      <th>FB</th>\n",
       "      <th>WMT</th>\n",
       "      <th>JNJ</th>\n",
       "      <th>JPM</th>\n",
       "      <th>...</th>\n",
       "      <th>MSFT</th>\n",
       "      <th>FB</th>\n",
       "      <th>WMT</th>\n",
       "      <th>JNJ</th>\n",
       "      <th>JPM</th>\n",
       "      <th>MSFT</th>\n",
       "      <th>FB</th>\n",
       "      <th>WMT</th>\n",
       "      <th>JNJ</th>\n",
       "      <th>JPM</th>\n",
       "    </tr>\n",
       "    <tr>\n",
       "      <th>Date</th>\n",
       "      <th></th>\n",
       "      <th></th>\n",
       "      <th></th>\n",
       "      <th></th>\n",
       "      <th></th>\n",
       "      <th></th>\n",
       "      <th></th>\n",
       "      <th></th>\n",
       "      <th></th>\n",
       "      <th></th>\n",
       "      <th></th>\n",
       "      <th></th>\n",
       "      <th></th>\n",
       "      <th></th>\n",
       "      <th></th>\n",
       "      <th></th>\n",
       "      <th></th>\n",
       "      <th></th>\n",
       "      <th></th>\n",
       "      <th></th>\n",
       "      <th></th>\n",
       "    </tr>\n",
       "  </thead>\n",
       "  <tbody>\n",
       "    <tr>\n",
       "      <th>2019-12-31</th>\n",
       "      <td>155.688324</td>\n",
       "      <td>205.250000</td>\n",
       "      <td>115.947388</td>\n",
       "      <td>141.129303</td>\n",
       "      <td>132.771301</td>\n",
       "      <td>157.699997</td>\n",
       "      <td>205.250000</td>\n",
       "      <td>118.839996</td>\n",
       "      <td>145.869995</td>\n",
       "      <td>139.399994</td>\n",
       "      <td>...</td>\n",
       "      <td>156.770004</td>\n",
       "      <td>204.000000</td>\n",
       "      <td>119.500000</td>\n",
       "      <td>145.100006</td>\n",
       "      <td>138.509995</td>\n",
       "      <td>18369400.0</td>\n",
       "      <td>8953500.0</td>\n",
       "      <td>4912000.0</td>\n",
       "      <td>4435000.0</td>\n",
       "      <td>7201600.0</td>\n",
       "    </tr>\n",
       "    <tr>\n",
       "      <th>2020-01-02</th>\n",
       "      <td>158.571075</td>\n",
       "      <td>209.779999</td>\n",
       "      <td>116.044952</td>\n",
       "      <td>141.226059</td>\n",
       "      <td>134.380966</td>\n",
       "      <td>160.619995</td>\n",
       "      <td>209.779999</td>\n",
       "      <td>118.940002</td>\n",
       "      <td>145.970001</td>\n",
       "      <td>141.089996</td>\n",
       "      <td>...</td>\n",
       "      <td>158.779999</td>\n",
       "      <td>206.750000</td>\n",
       "      <td>118.860001</td>\n",
       "      <td>145.869995</td>\n",
       "      <td>139.789993</td>\n",
       "      <td>22622100.0</td>\n",
       "      <td>12077100.0</td>\n",
       "      <td>6764900.0</td>\n",
       "      <td>5777000.0</td>\n",
       "      <td>10803700.0</td>\n",
       "    </tr>\n",
       "    <tr>\n",
       "      <th>2020-01-03</th>\n",
       "      <td>156.596588</td>\n",
       "      <td>208.669998</td>\n",
       "      <td>115.020508</td>\n",
       "      <td>139.590973</td>\n",
       "      <td>132.607590</td>\n",
       "      <td>158.619995</td>\n",
       "      <td>208.669998</td>\n",
       "      <td>117.889999</td>\n",
       "      <td>144.279999</td>\n",
       "      <td>138.339996</td>\n",
       "      <td>...</td>\n",
       "      <td>158.320007</td>\n",
       "      <td>207.210007</td>\n",
       "      <td>118.269997</td>\n",
       "      <td>143.500000</td>\n",
       "      <td>137.500000</td>\n",
       "      <td>21116200.0</td>\n",
       "      <td>11188400.0</td>\n",
       "      <td>5399200.0</td>\n",
       "      <td>5752400.0</td>\n",
       "      <td>10386800.0</td>\n",
       "    </tr>\n",
       "    <tr>\n",
       "      <th>2020-01-06</th>\n",
       "      <td>157.001373</td>\n",
       "      <td>212.600006</td>\n",
       "      <td>114.786362</td>\n",
       "      <td>139.416840</td>\n",
       "      <td>132.502167</td>\n",
       "      <td>159.029999</td>\n",
       "      <td>212.600006</td>\n",
       "      <td>117.650002</td>\n",
       "      <td>144.100006</td>\n",
       "      <td>138.229996</td>\n",
       "      <td>...</td>\n",
       "      <td>157.080002</td>\n",
       "      <td>206.699997</td>\n",
       "      <td>117.400002</td>\n",
       "      <td>144.000000</td>\n",
       "      <td>136.559998</td>\n",
       "      <td>20813700.0</td>\n",
       "      <td>17058900.0</td>\n",
       "      <td>6445500.0</td>\n",
       "      <td>7731300.0</td>\n",
       "      <td>10259000.0</td>\n",
       "    </tr>\n",
       "    <tr>\n",
       "      <th>2020-01-07</th>\n",
       "      <td>155.569855</td>\n",
       "      <td>213.059998</td>\n",
       "      <td>113.722878</td>\n",
       "      <td>140.268219</td>\n",
       "      <td>130.249542</td>\n",
       "      <td>157.580002</td>\n",
       "      <td>213.059998</td>\n",
       "      <td>116.559998</td>\n",
       "      <td>144.979996</td>\n",
       "      <td>135.880005</td>\n",
       "      <td>...</td>\n",
       "      <td>159.320007</td>\n",
       "      <td>212.820007</td>\n",
       "      <td>117.260002</td>\n",
       "      <td>144.009995</td>\n",
       "      <td>137.279999</td>\n",
       "      <td>21634100.0</td>\n",
       "      <td>14912400.0</td>\n",
       "      <td>6846900.0</td>\n",
       "      <td>7382900.0</td>\n",
       "      <td>10531300.0</td>\n",
       "    </tr>\n",
       "    <tr>\n",
       "      <th>...</th>\n",
       "      <td>...</td>\n",
       "      <td>...</td>\n",
       "      <td>...</td>\n",
       "      <td>...</td>\n",
       "      <td>...</td>\n",
       "      <td>...</td>\n",
       "      <td>...</td>\n",
       "      <td>...</td>\n",
       "      <td>...</td>\n",
       "      <td>...</td>\n",
       "      <td>...</td>\n",
       "      <td>...</td>\n",
       "      <td>...</td>\n",
       "      <td>...</td>\n",
       "      <td>...</td>\n",
       "      <td>...</td>\n",
       "      <td>...</td>\n",
       "      <td>...</td>\n",
       "      <td>...</td>\n",
       "      <td>...</td>\n",
       "      <td>...</td>\n",
       "    </tr>\n",
       "    <tr>\n",
       "      <th>2020-12-24</th>\n",
       "      <td>222.238144</td>\n",
       "      <td>267.399994</td>\n",
       "      <td>142.344345</td>\n",
       "      <td>151.525131</td>\n",
       "      <td>122.905769</td>\n",
       "      <td>222.750000</td>\n",
       "      <td>267.399994</td>\n",
       "      <td>143.500000</td>\n",
       "      <td>152.470001</td>\n",
       "      <td>124.519997</td>\n",
       "      <td>...</td>\n",
       "      <td>221.419998</td>\n",
       "      <td>268.880005</td>\n",
       "      <td>143.539993</td>\n",
       "      <td>151.850006</td>\n",
       "      <td>125.089996</td>\n",
       "      <td>10550600.0</td>\n",
       "      <td>6702000.0</td>\n",
       "      <td>3018200.0</td>\n",
       "      <td>2114900.0</td>\n",
       "      <td>4164900.0</td>\n",
       "    </tr>\n",
       "    <tr>\n",
       "      <th>2020-12-28</th>\n",
       "      <td>224.443069</td>\n",
       "      <td>277.000000</td>\n",
       "      <td>144.050491</td>\n",
       "      <td>152.240677</td>\n",
       "      <td>123.715141</td>\n",
       "      <td>224.960007</td>\n",
       "      <td>277.000000</td>\n",
       "      <td>145.220001</td>\n",
       "      <td>153.190002</td>\n",
       "      <td>125.339996</td>\n",
       "      <td>...</td>\n",
       "      <td>224.449997</td>\n",
       "      <td>268.739990</td>\n",
       "      <td>144.039993</td>\n",
       "      <td>153.320007</td>\n",
       "      <td>125.820000</td>\n",
       "      <td>17933500.0</td>\n",
       "      <td>23299700.0</td>\n",
       "      <td>6448300.0</td>\n",
       "      <td>3855500.0</td>\n",
       "      <td>8072600.0</td>\n",
       "    </tr>\n",
       "    <tr>\n",
       "      <th>2020-12-29</th>\n",
       "      <td>223.634918</td>\n",
       "      <td>276.779999</td>\n",
       "      <td>143.137909</td>\n",
       "      <td>153.184784</td>\n",
       "      <td>123.389427</td>\n",
       "      <td>224.149994</td>\n",
       "      <td>276.779999</td>\n",
       "      <td>144.300003</td>\n",
       "      <td>154.139999</td>\n",
       "      <td>125.010002</td>\n",
       "      <td>...</td>\n",
       "      <td>226.309998</td>\n",
       "      <td>276.950012</td>\n",
       "      <td>145.639999</td>\n",
       "      <td>154.110001</td>\n",
       "      <td>126.199997</td>\n",
       "      <td>17403200.0</td>\n",
       "      <td>16383000.0</td>\n",
       "      <td>5979400.0</td>\n",
       "      <td>5212000.0</td>\n",
       "      <td>8389200.0</td>\n",
       "    </tr>\n",
       "    <tr>\n",
       "      <th>2020-12-30</th>\n",
       "      <td>221.170593</td>\n",
       "      <td>271.869995</td>\n",
       "      <td>143.018860</td>\n",
       "      <td>155.082947</td>\n",
       "      <td>123.734886</td>\n",
       "      <td>221.679993</td>\n",
       "      <td>271.869995</td>\n",
       "      <td>144.179993</td>\n",
       "      <td>156.050003</td>\n",
       "      <td>125.360001</td>\n",
       "      <td>...</td>\n",
       "      <td>225.229996</td>\n",
       "      <td>277.950012</td>\n",
       "      <td>144.880005</td>\n",
       "      <td>154.740005</td>\n",
       "      <td>125.489998</td>\n",
       "      <td>20272300.0</td>\n",
       "      <td>11803800.0</td>\n",
       "      <td>6250400.0</td>\n",
       "      <td>5412800.0</td>\n",
       "      <td>7398000.0</td>\n",
       "    </tr>\n",
       "    <tr>\n",
       "      <th>2020-12-31</th>\n",
       "      <td>221.908905</td>\n",
       "      <td>273.160004</td>\n",
       "      <td>142.989090</td>\n",
       "      <td>156.404709</td>\n",
       "      <td>125.422722</td>\n",
       "      <td>222.419998</td>\n",
       "      <td>273.160004</td>\n",
       "      <td>144.149994</td>\n",
       "      <td>157.380005</td>\n",
       "      <td>127.070000</td>\n",
       "      <td>...</td>\n",
       "      <td>221.699997</td>\n",
       "      <td>272.000000</td>\n",
       "      <td>144.199997</td>\n",
       "      <td>156.529999</td>\n",
       "      <td>125.089996</td>\n",
       "      <td>20942100.0</td>\n",
       "      <td>12900400.0</td>\n",
       "      <td>5938000.0</td>\n",
       "      <td>5099900.0</td>\n",
       "      <td>8580200.0</td>\n",
       "    </tr>\n",
       "  </tbody>\n",
       "</table>\n",
       "<p>254 rows × 30 columns</p>\n",
       "</div>"
      ],
      "text/plain": [
       "Attributes   Adj Close                                                  \\\n",
       "Symbols           MSFT          FB         WMT         JNJ         JPM   \n",
       "Date                                                                     \n",
       "2019-12-31  155.688324  205.250000  115.947388  141.129303  132.771301   \n",
       "2020-01-02  158.571075  209.779999  116.044952  141.226059  134.380966   \n",
       "2020-01-03  156.596588  208.669998  115.020508  139.590973  132.607590   \n",
       "2020-01-06  157.001373  212.600006  114.786362  139.416840  132.502167   \n",
       "2020-01-07  155.569855  213.059998  113.722878  140.268219  130.249542   \n",
       "...                ...         ...         ...         ...         ...   \n",
       "2020-12-24  222.238144  267.399994  142.344345  151.525131  122.905769   \n",
       "2020-12-28  224.443069  277.000000  144.050491  152.240677  123.715141   \n",
       "2020-12-29  223.634918  276.779999  143.137909  153.184784  123.389427   \n",
       "2020-12-30  221.170593  271.869995  143.018860  155.082947  123.734886   \n",
       "2020-12-31  221.908905  273.160004  142.989090  156.404709  125.422722   \n",
       "\n",
       "Attributes       Close                                                  ...  \\\n",
       "Symbols           MSFT          FB         WMT         JNJ         JPM  ...   \n",
       "Date                                                                    ...   \n",
       "2019-12-31  157.699997  205.250000  118.839996  145.869995  139.399994  ...   \n",
       "2020-01-02  160.619995  209.779999  118.940002  145.970001  141.089996  ...   \n",
       "2020-01-03  158.619995  208.669998  117.889999  144.279999  138.339996  ...   \n",
       "2020-01-06  159.029999  212.600006  117.650002  144.100006  138.229996  ...   \n",
       "2020-01-07  157.580002  213.059998  116.559998  144.979996  135.880005  ...   \n",
       "...                ...         ...         ...         ...         ...  ...   \n",
       "2020-12-24  222.750000  267.399994  143.500000  152.470001  124.519997  ...   \n",
       "2020-12-28  224.960007  277.000000  145.220001  153.190002  125.339996  ...   \n",
       "2020-12-29  224.149994  276.779999  144.300003  154.139999  125.010002  ...   \n",
       "2020-12-30  221.679993  271.869995  144.179993  156.050003  125.360001  ...   \n",
       "2020-12-31  222.419998  273.160004  144.149994  157.380005  127.070000  ...   \n",
       "\n",
       "Attributes        Open                                                  \\\n",
       "Symbols           MSFT          FB         WMT         JNJ         JPM   \n",
       "Date                                                                     \n",
       "2019-12-31  156.770004  204.000000  119.500000  145.100006  138.509995   \n",
       "2020-01-02  158.779999  206.750000  118.860001  145.869995  139.789993   \n",
       "2020-01-03  158.320007  207.210007  118.269997  143.500000  137.500000   \n",
       "2020-01-06  157.080002  206.699997  117.400002  144.000000  136.559998   \n",
       "2020-01-07  159.320007  212.820007  117.260002  144.009995  137.279999   \n",
       "...                ...         ...         ...         ...         ...   \n",
       "2020-12-24  221.419998  268.880005  143.539993  151.850006  125.089996   \n",
       "2020-12-28  224.449997  268.739990  144.039993  153.320007  125.820000   \n",
       "2020-12-29  226.309998  276.950012  145.639999  154.110001  126.199997   \n",
       "2020-12-30  225.229996  277.950012  144.880005  154.740005  125.489998   \n",
       "2020-12-31  221.699997  272.000000  144.199997  156.529999  125.089996   \n",
       "\n",
       "Attributes      Volume                                                \n",
       "Symbols           MSFT          FB        WMT        JNJ         JPM  \n",
       "Date                                                                  \n",
       "2019-12-31  18369400.0   8953500.0  4912000.0  4435000.0   7201600.0  \n",
       "2020-01-02  22622100.0  12077100.0  6764900.0  5777000.0  10803700.0  \n",
       "2020-01-03  21116200.0  11188400.0  5399200.0  5752400.0  10386800.0  \n",
       "2020-01-06  20813700.0  17058900.0  6445500.0  7731300.0  10259000.0  \n",
       "2020-01-07  21634100.0  14912400.0  6846900.0  7382900.0  10531300.0  \n",
       "...                ...         ...        ...        ...         ...  \n",
       "2020-12-24  10550600.0   6702000.0  3018200.0  2114900.0   4164900.0  \n",
       "2020-12-28  17933500.0  23299700.0  6448300.0  3855500.0   8072600.0  \n",
       "2020-12-29  17403200.0  16383000.0  5979400.0  5212000.0   8389200.0  \n",
       "2020-12-30  20272300.0  11803800.0  6250400.0  5412800.0   7398000.0  \n",
       "2020-12-31  20942100.0  12900400.0  5938000.0  5099900.0   8580200.0  \n",
       "\n",
       "[254 rows x 30 columns]"
      ]
     },
     "execution_count": 163,
     "metadata": {},
     "output_type": "execute_result"
    }
   ],
   "source": [
    "stock_frame = web.DataReader(['MSFT', 'FB', 'WMT', 'JNJ', 'JPM'], 'yahoo', start=start, end=end)\n",
    "stock_frame"
   ]
  },
  {
   "cell_type": "code",
   "execution_count": 164,
   "metadata": {},
   "outputs": [
    {
     "data": {
      "text/plain": [
       "<matplotlib.axes._subplots.AxesSubplot at 0x1845c2b08e0>"
      ]
     },
     "execution_count": 164,
     "metadata": {},
     "output_type": "execute_result"
    },
    {
     "data": {
      "image/png": "[encoded data removed]",
      "text/plain": [
       "<Figure size 432x288 with 1 Axes>"
      ]
     },
     "metadata": {
      "needs_background": "light"
     },
     "output_type": "display_data"
    }
   ],
   "source": [
    "stock_frame['Close'].plot()"
   ]
  },
  {
   "cell_type": "code",
   "execution_count": 165,
   "metadata": {},
   "outputs": [
    {
     "name": "stdout",
     "output_type": "stream",
     "text": [
      "MSFT had the largest return in 2020\n",
      "Symbols\n",
      "MSFT    0.342514\n",
      "FB      0.284699\n",
      "WMT     0.192313\n",
      "JNJ     0.075647\n",
      "JPM    -0.092243\n",
      "dtype: float64\n"
     ]
    }
   ],
   "source": [
    "rets = np.log(stock_frame['Close']/stock_frame['Close'].shift(1))\n",
    "annual_ret = rets.mean()*252\n",
    "annual_ret\n",
    "print('MSFT had the largest return in 2020')\n",
    "print(annual_ret)"
   ]
  },
  {
   "cell_type": "code",
   "execution_count": 166,
   "metadata": {},
   "outputs": [
    {
     "data": {
      "text/plain": [
       "array([[<matplotlib.axes._subplots.AxesSubplot object at 0x0000018459365880>,\n",
       "        <matplotlib.axes._subplots.AxesSubplot object at 0x00000184594A2E80>],\n",
       "       [<matplotlib.axes._subplots.AxesSubplot object at 0x000001845946B310>,\n",
       "        <matplotlib.axes._subplots.AxesSubplot object at 0x000001845C42C760>],\n",
       "       [<matplotlib.axes._subplots.AxesSubplot object at 0x000001845C34FBB0>,\n",
       "        <matplotlib.axes._subplots.AxesSubplot object at 0x000001845C3FA0A0>]],\n",
       "      dtype=object)"
      ]
     },
     "execution_count": 166,
     "metadata": {},
     "output_type": "execute_result"
    },
    {
     "data": {
      "image/png": "[encoded data removed]",
      "text/plain": [
       "<Figure size 432x288 with 6 Axes>"
      ]
     },
     "metadata": {
      "needs_background": "light"
     },
     "output_type": "display_data"
    }
   ],
   "source": [
    "#Drops all NAN values \n",
    "rets.dropna().hist(bins=50)"
   ]
  },
  {
   "cell_type": "code",
   "execution_count": 167,
   "metadata": {},
   "outputs": [],
   "source": [
    "w = np.linspace(0,1)"
   ]
  },
  {
   "cell_type": "code",
   "execution_count": 168,
   "metadata": {},
   "outputs": [
    {
     "data": {
      "text/html": [
       "<div>\n",
       "<style scoped>\n",
       "    .dataframe tbody tr th:only-of-type {\n",
       "        vertical-align: middle;\n",
       "    }\n",
       "\n",
       "    .dataframe tbody tr th {\n",
       "        vertical-align: top;\n",
       "    }\n",
       "\n",
       "    .dataframe thead th {\n",
       "        text-align: right;\n",
       "    }\n",
       "</style>\n",
       "<table border=\"1\" class=\"dataframe\">\n",
       "  <thead>\n",
       "    <tr style=\"text-align: right;\">\n",
       "      <th>Symbols</th>\n",
       "      <th>MSFT</th>\n",
       "      <th>FB</th>\n",
       "      <th>WMT</th>\n",
       "      <th>JNJ</th>\n",
       "      <th>JPM</th>\n",
       "    </tr>\n",
       "    <tr>\n",
       "      <th>Date</th>\n",
       "      <th></th>\n",
       "      <th></th>\n",
       "      <th></th>\n",
       "      <th></th>\n",
       "      <th></th>\n",
       "    </tr>\n",
       "  </thead>\n",
       "  <tbody>\n",
       "    <tr>\n",
       "      <th>2019-12-31</th>\n",
       "      <td>157.699997</td>\n",
       "      <td>205.250000</td>\n",
       "      <td>118.839996</td>\n",
       "      <td>145.869995</td>\n",
       "      <td>139.399994</td>\n",
       "    </tr>\n",
       "    <tr>\n",
       "      <th>2020-01-02</th>\n",
       "      <td>160.619995</td>\n",
       "      <td>209.779999</td>\n",
       "      <td>118.940002</td>\n",
       "      <td>145.970001</td>\n",
       "      <td>141.089996</td>\n",
       "    </tr>\n",
       "    <tr>\n",
       "      <th>2020-01-03</th>\n",
       "      <td>158.619995</td>\n",
       "      <td>208.669998</td>\n",
       "      <td>117.889999</td>\n",
       "      <td>144.279999</td>\n",
       "      <td>138.339996</td>\n",
       "    </tr>\n",
       "    <tr>\n",
       "      <th>2020-01-06</th>\n",
       "      <td>159.029999</td>\n",
       "      <td>212.600006</td>\n",
       "      <td>117.650002</td>\n",
       "      <td>144.100006</td>\n",
       "      <td>138.229996</td>\n",
       "    </tr>\n",
       "    <tr>\n",
       "      <th>2020-01-07</th>\n",
       "      <td>157.580002</td>\n",
       "      <td>213.059998</td>\n",
       "      <td>116.559998</td>\n",
       "      <td>144.979996</td>\n",
       "      <td>135.880005</td>\n",
       "    </tr>\n",
       "    <tr>\n",
       "      <th>...</th>\n",
       "      <td>...</td>\n",
       "      <td>...</td>\n",
       "      <td>...</td>\n",
       "      <td>...</td>\n",
       "      <td>...</td>\n",
       "    </tr>\n",
       "    <tr>\n",
       "      <th>2020-12-24</th>\n",
       "      <td>222.750000</td>\n",
       "      <td>267.399994</td>\n",
       "      <td>143.500000</td>\n",
       "      <td>152.470001</td>\n",
       "      <td>124.519997</td>\n",
       "    </tr>\n",
       "    <tr>\n",
       "      <th>2020-12-28</th>\n",
       "      <td>224.960007</td>\n",
       "      <td>277.000000</td>\n",
       "      <td>145.220001</td>\n",
       "      <td>153.190002</td>\n",
       "      <td>125.339996</td>\n",
       "    </tr>\n",
       "    <tr>\n",
       "      <th>2020-12-29</th>\n",
       "      <td>224.149994</td>\n",
       "      <td>276.779999</td>\n",
       "      <td>144.300003</td>\n",
       "      <td>154.139999</td>\n",
       "      <td>125.010002</td>\n",
       "    </tr>\n",
       "    <tr>\n",
       "      <th>2020-12-30</th>\n",
       "      <td>221.679993</td>\n",
       "      <td>271.869995</td>\n",
       "      <td>144.179993</td>\n",
       "      <td>156.050003</td>\n",
       "      <td>125.360001</td>\n",
       "    </tr>\n",
       "    <tr>\n",
       "      <th>2020-12-31</th>\n",
       "      <td>222.419998</td>\n",
       "      <td>273.160004</td>\n",
       "      <td>144.149994</td>\n",
       "      <td>157.380005</td>\n",
       "      <td>127.070000</td>\n",
       "    </tr>\n",
       "  </tbody>\n",
       "</table>\n",
       "<p>254 rows × 5 columns</p>\n",
       "</div>"
      ],
      "text/plain": [
       "Symbols           MSFT          FB         WMT         JNJ         JPM\n",
       "Date                                                                  \n",
       "2019-12-31  157.699997  205.250000  118.839996  145.869995  139.399994\n",
       "2020-01-02  160.619995  209.779999  118.940002  145.970001  141.089996\n",
       "2020-01-03  158.619995  208.669998  117.889999  144.279999  138.339996\n",
       "2020-01-06  159.029999  212.600006  117.650002  144.100006  138.229996\n",
       "2020-01-07  157.580002  213.059998  116.559998  144.979996  135.880005\n",
       "...                ...         ...         ...         ...         ...\n",
       "2020-12-24  222.750000  267.399994  143.500000  152.470001  124.519997\n",
       "2020-12-28  224.960007  277.000000  145.220001  153.190002  125.339996\n",
       "2020-12-29  224.149994  276.779999  144.300003  154.139999  125.010002\n",
       "2020-12-30  221.679993  271.869995  144.179993  156.050003  125.360001\n",
       "2020-12-31  222.419998  273.160004  144.149994  157.380005  127.070000\n",
       "\n",
       "[254 rows x 5 columns]"
      ]
     },
     "execution_count": 168,
     "metadata": {},
     "output_type": "execute_result"
    }
   ],
   "source": [
    "stock_frame_closed = stock_frame['Close']\n",
    "stock_frame_closed"
   ]
  },
  {
   "cell_type": "code",
   "execution_count": 169,
   "metadata": {},
   "outputs": [],
   "source": [
    "rets2 = np.log(stock_frame_closed/stock_frame_closed.shift(1))\n",
    "mean1 = rets2.mean()*252\n",
    "covar = rets2[['MSFT', 'FB', 'WMT', 'JNJ', 'JPM']].cov()*252"
   ]
  },
  {
   "cell_type": "code",
   "execution_count": 170,
   "metadata": {},
   "outputs": [],
   "source": [
    "num = len(stock_frame_closed.columns)\n",
    "w = np.random.rand(num)\n",
    "w = w/w.sum()\n",
    "\n",
    "rp = np.dot(w2, mean)\n",
    "vp = np.dot(np.dot(w, covar), w)\n",
    "\n",
    "ret_p = []\n",
    "vol_p = []\n",
    "sr_p = []\n",
    "w_p = []"
   ]
  },
  {
   "cell_type": "code",
   "execution_count": 109,
   "metadata": {},
   "outputs": [],
   "source": [
    "rf = 0.0165"
   ]
  },
  {
   "cell_type": "code",
   "execution_count": 171,
   "metadata": {},
   "outputs": [],
   "source": [
    "for i in range(10000): \n",
    "    w = np.random.rand(num)\n",
    "    w = w/w.sum()\n",
    "    rp = np.dot(w, mean)\n",
    "    vp = np.dot(np.dot(w, covar), w)\n",
    "    sr = (rp - rf)/np.sqrt(vp)\n",
    "    ret_p.append(rp)\n",
    "    vol_p.append(np.sqrt(vp))\n",
    "    sr_p.append(sr)\n",
    "    w_p.append(w)"
   ]
  },
  {
   "cell_type": "code",
   "execution_count": 172,
   "metadata": {},
   "outputs": [],
   "source": [
    "np.argmax(sr_p)\n",
    "i_max = np.argmax(sr_p)"
   ]
  },
  {
   "cell_type": "code",
   "execution_count": 173,
   "metadata": {},
   "outputs": [
    {
     "data": {
      "text/plain": [
       "<matplotlib.collections.PathCollection at 0x1845c6eefa0>"
      ]
     },
     "execution_count": 173,
     "metadata": {},
     "output_type": "execute_result"
    },
    {
     "data": {
      "image/png": "[encoded data removed]",
      "text/plain": [
       "<Figure size 432x288 with 2 Axes>"
      ]
     },
     "metadata": {
      "needs_background": "light"
     },
     "output_type": "display_data"
    }
   ],
   "source": [
    "plt.scatter(vol_p, ret_p, c = sr_p, cmap = 'coolwarm')\n",
    "plt.colorbar(label='Sharpe ratio')\n",
    "plt.scatter(vol_p[i_max], ret_p[i_max], marker='*', s = 250, color = 'Black')"
   ]
  },
  {
   "cell_type": "code",
   "execution_count": 174,
   "metadata": {},
   "outputs": [],
   "source": [
    "def SR(w2): \n",
    "    rp = np.dot(w2, mean)\n",
    "    vp = np.dot(np.dot(w2, covar), w2)\n",
    "    sr = (rp - rf)/np.sqrt(vp)\n",
    "    return sr\n",
    "\n",
    "def negSR(w): \n",
    "    return -SR(w)\n",
    "\n",
    "def sumTo1(w):\n",
    "    return np.sum(w)-1"
   ]
  },
  {
   "cell_type": "code",
   "execution_count": 175,
   "metadata": {},
   "outputs": [
    {
     "data": {
      "text/plain": [
       "0.9068770536534577"
      ]
     },
     "execution_count": 175,
     "metadata": {},
     "output_type": "execute_result"
    }
   ],
   "source": [
    "w0 = w_p[i_max]\n",
    "SR(w0)"
   ]
  },
  {
   "cell_type": "code",
   "execution_count": 176,
   "metadata": {},
   "outputs": [
    {
     "data": {
      "text/plain": [
       "0.9068770536534577"
      ]
     },
     "execution_count": 176,
     "metadata": {},
     "output_type": "execute_result"
    }
   ],
   "source": [
    "max(sr_p)"
   ]
  },
  {
   "cell_type": "code",
   "execution_count": 177,
   "metadata": {},
   "outputs": [],
   "source": [
    "bounds = [(0,1) for i in range(len(w0))]\n",
    "contraints = [{'type':'eq', 'fun': sumTo1}]"
   ]
  },
  {
   "cell_type": "code",
   "execution_count": 178,
   "metadata": {},
   "outputs": [
    {
     "data": {
      "text/plain": [
       "      fun: -1.0758604587361553\n",
       " hess_inv: <5x5 LbfgsInvHessProduct with dtype=float64>\n",
       "      jac: array([ 0.09637324,  0.5370584 ,  0.94650032, -0.05445073,  0.4503659 ])\n",
       "  message: b'CONVERGENCE: NORM_OF_PROJECTED_GRADIENT_<=_PGTOL'\n",
       "     nfev: 24\n",
       "      nit: 3\n",
       "     njev: 4\n",
       "   status: 0\n",
       "  success: True\n",
       "        x: array([0., 0., 0., 1., 0.])"
      ]
     },
     "execution_count": 178,
     "metadata": {},
     "output_type": "execute_result"
    }
   ],
   "source": [
    "ans = opt.minimize(negSR, x0 = w0, bounds = bounds)\n",
    "ans"
   ]
  },
  {
   "cell_type": "code",
   "execution_count": 179,
   "metadata": {},
   "outputs": [
    {
     "data": {
      "text/plain": [
       "[<matplotlib.lines.Line2D at 0x184599211c0>]"
      ]
     },
     "execution_count": 179,
     "metadata": {},
     "output_type": "execute_result"
    },
    {
     "data": {
      "image/png": "[encoded data removed]",
      "text/plain": [
       "<Figure size 432x288 with 2 Axes>"
      ]
     },
     "metadata": {
      "needs_background": "light"
     },
     "output_type": "display_data"
    }
   ],
   "source": [
    "rp = np.dot(ans.x, mean)\n",
    "vp = np.dot(np.dot(ans.x, covar), ans.x)\n",
    "\n",
    "plt.scatter(vol_p, ret_p, c = sr_p, cmap = 'coolwarm')\n",
    "plt.colorbar(label='Sharpe ratio')\n",
    "plt.scatter(vol_p[i_max], ret_p[i_max], marker='*', s = 250, color = 'Black')\n",
    "plt.scatter(np.sqrt(vp), rp, marker='+', color='k', s =250)\n",
    "plt.plot((0, np.sqrt(vp)*2), (rf, rp*2), 'k')"
   ]
  },
  {
   "cell_type": "code",
   "execution_count": 180,
   "metadata": {},
   "outputs": [
    {
     "data": {
      "text/plain": [
       "1.0758604587361553"
      ]
     },
     "execution_count": 180,
     "metadata": {},
     "output_type": "execute_result"
    }
   ],
   "source": [
    "SR(ans.x)"
   ]
  },
  {
   "cell_type": "code",
   "execution_count": 181,
   "metadata": {},
   "outputs": [
    {
     "data": {
      "text/plain": [
       "0.9068770536534577"
      ]
     },
     "execution_count": 181,
     "metadata": {},
     "output_type": "execute_result"
    }
   ],
   "source": [
    "max(sr_p)"
   ]
  },
  {
   "cell_type": "code",
   "execution_count": 185,
   "metadata": {},
   "outputs": [
    {
     "ename": "NameError",
     "evalue": "name 'summary' is not defined",
     "output_type": "error",
     "traceback": [
      "\u001b[1;31m---------------------------------------------------------------------------\u001b[0m",
      "\u001b[1;31mNameError\u001b[0m                                 Traceback (most recent call last)",
      "\u001b[1;32m<ipython-input-185-b2ffc6ba28fe>\u001b[0m in \u001b[0;36m<module>\u001b[1;34m\u001b[0m\n\u001b[1;32m----> 1\u001b[1;33m \u001b[0msummary\u001b[0m\u001b[1;33m(\u001b[0m\u001b[0mans\u001b[0m\u001b[1;33m)\u001b[0m\u001b[1;33m\u001b[0m\u001b[1;33m\u001b[0m\u001b[0m\n\u001b[0m",
      "\u001b[1;31mNameError\u001b[0m: name 'summary' is not defined"
     ]
    }
   ],
   "source": [
    "summary(ans)"
   ]
  },
  {
   "cell_type": "code",
   "execution_count": null,
   "metadata": {},
   "outputs": [],
   "source": []
  }
 ],
 "metadata": {
  "kernelspec": {
   "display_name": "Python 3",
   "language": "python",
   "name": "python3"
  },
  "language_info": {
   "codemirror_mode": {
    "name": "ipython",
    "version": 3
   },
   "file_extension": ".py",
   "mimetype": "text/x-python",
   "name": "python",
   "nbconvert_exporter": "python",
   "pygments_lexer": "ipython3",
   "version": "3.8.3"
  }
 },
 "nbformat": 4,
 "nbformat_minor": 4
}
