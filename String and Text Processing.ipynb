{
 "cells": [
  {
   "cell_type": "code",
   "execution_count": 1,
   "metadata": {},
   "outputs": [],
   "source": [
    "import pandas as pd\n",
    "import numpy as np"
   ]
  },
  {
   "cell_type": "code",
   "execution_count": 2,
   "metadata": {},
   "outputs": [],
   "source": [
    "df = pd.read_csv('Toys_and_Games.csv')"
   ]
  },
  {
   "cell_type": "code",
   "execution_count": 3,
   "metadata": {},
   "outputs": [
    {
     "data": {
      "text/html": [
       "<div>\n",
       "<style scoped>\n",
       "    .dataframe tbody tr th:only-of-type {\n",
       "        vertical-align: middle;\n",
       "    }\n",
       "\n",
       "    .dataframe tbody tr th {\n",
       "        vertical-align: top;\n",
       "    }\n",
       "\n",
       "    .dataframe thead th {\n",
       "        text-align: right;\n",
       "    }\n",
       "</style>\n",
       "<table border=\"1\" class=\"dataframe\">\n",
       "  <thead>\n",
       "    <tr style=\"text-align: right;\">\n",
       "      <th></th>\n",
       "      <th>reviewerID</th>\n",
       "      <th>product_id</th>\n",
       "      <th>reviewerName</th>\n",
       "      <th>helpful</th>\n",
       "      <th>reviewText</th>\n",
       "      <th>overall</th>\n",
       "      <th>summary</th>\n",
       "      <th>unixReviewTime</th>\n",
       "      <th>reviewTime</th>\n",
       "    </tr>\n",
       "  </thead>\n",
       "  <tbody>\n",
       "    <tr>\n",
       "      <th>0</th>\n",
       "      <td>A226IWT7KTK74J</td>\n",
       "      <td>B001W30D2O</td>\n",
       "      <td>Aaron Goldman</td>\n",
       "      <td>[0, 0]</td>\n",
       "      <td>We received this toy as a birthday gift for my...</td>\n",
       "      <td>5.0</td>\n",
       "      <td>We ended up getting a 2nd Scout for our other son</td>\n",
       "      <td>1277769600</td>\n",
       "      <td>06 29, 2010</td>\n",
       "    </tr>\n",
       "    <tr>\n",
       "      <th>1</th>\n",
       "      <td>A1MHOYUPMHH5TF</td>\n",
       "      <td>B001W30D2O</td>\n",
       "      <td>Adam \"evercurio\"</td>\n",
       "      <td>[4, 4]</td>\n",
       "      <td>I'm a tech geek, so when I see a toy that I ca...</td>\n",
       "      <td>3.0</td>\n",
       "      <td>Cute cuddly puppy, but the customization optio...</td>\n",
       "      <td>1325462400</td>\n",
       "      <td>01 2, 2012</td>\n",
       "    </tr>\n",
       "    <tr>\n",
       "      <th>2</th>\n",
       "      <td>A1BEFUJK894ZVB</td>\n",
       "      <td>B001W30D2O</td>\n",
       "      <td>Adelle</td>\n",
       "      <td>[0, 0]</td>\n",
       "      <td>Bought this for my 2 month old, who ends up \"t...</td>\n",
       "      <td>5.0</td>\n",
       "      <td>My infant loves this!</td>\n",
       "      <td>1312416000</td>\n",
       "      <td>08 4, 2011</td>\n",
       "    </tr>\n",
       "    <tr>\n",
       "      <th>3</th>\n",
       "      <td>A2PTAJTGXOAHU4</td>\n",
       "      <td>B001W30D2O</td>\n",
       "      <td>ADreisow</td>\n",
       "      <td>[0, 0]</td>\n",
       "      <td>IF you do NOT have one of these for your child...</td>\n",
       "      <td>5.0</td>\n",
       "      <td>Sweet Sweet Scout!</td>\n",
       "      <td>1371340800</td>\n",
       "      <td>06 16, 2013</td>\n",
       "    </tr>\n",
       "    <tr>\n",
       "      <th>4</th>\n",
       "      <td>A14SC4IB9OGSGX</td>\n",
       "      <td>B001W30D2O</td>\n",
       "      <td>A. Hodges</td>\n",
       "      <td>[0, 0]</td>\n",
       "      <td>My daughter received this toy for Christmas fr...</td>\n",
       "      <td>5.0</td>\n",
       "      <td>Great toy!</td>\n",
       "      <td>1373241600</td>\n",
       "      <td>07 8, 2013</td>\n",
       "    </tr>\n",
       "    <tr>\n",
       "      <th>...</th>\n",
       "      <td>...</td>\n",
       "      <td>...</td>\n",
       "      <td>...</td>\n",
       "      <td>...</td>\n",
       "      <td>...</td>\n",
       "      <td>...</td>\n",
       "      <td>...</td>\n",
       "      <td>...</td>\n",
       "      <td>...</td>\n",
       "    </tr>\n",
       "    <tr>\n",
       "      <th>1175</th>\n",
       "      <td>A1ZILSMQWL01NZ</td>\n",
       "      <td>B0089RPUHO</td>\n",
       "      <td>VixenRose</td>\n",
       "      <td>[0, 0]</td>\n",
       "      <td>This has been the big hit of Christmas for my ...</td>\n",
       "      <td>5.0</td>\n",
       "      <td>big hit</td>\n",
       "      <td>1356480000</td>\n",
       "      <td>12 26, 2012</td>\n",
       "    </tr>\n",
       "    <tr>\n",
       "      <th>1176</th>\n",
       "      <td>A1OF8VLGFF2P1W</td>\n",
       "      <td>B0089RPUHO</td>\n",
       "      <td>V. Lease</td>\n",
       "      <td>[1, 1]</td>\n",
       "      <td>I bought this for my 4 year old to use in the ...</td>\n",
       "      <td>5.0</td>\n",
       "      <td>Perfect for my 4 year old</td>\n",
       "      <td>1392249600</td>\n",
       "      <td>02 13, 2014</td>\n",
       "    </tr>\n",
       "    <tr>\n",
       "      <th>1177</th>\n",
       "      <td>A2H667ZUNLNTF1</td>\n",
       "      <td>B0089RPUHO</td>\n",
       "      <td>Wendi Barker \"Wendi's Book Corner &amp; What Wend...</td>\n",
       "      <td>[0, 0]</td>\n",
       "      <td>Please note:  This version does not come with ...</td>\n",
       "      <td>5.0</td>\n",
       "      <td>Monsters University Version of Regular LeapPad...</td>\n",
       "      <td>1379894400</td>\n",
       "      <td>09 23, 2013</td>\n",
       "    </tr>\n",
       "    <tr>\n",
       "      <th>1178</th>\n",
       "      <td>A3UJRNI8UR4871</td>\n",
       "      <td>B0089RPUHO</td>\n",
       "      <td>Wulfstan \"wulfstan\"</td>\n",
       "      <td>[1, 2]</td>\n",
       "      <td>Ooh, a tough question. Even tougher is \"Can I ...</td>\n",
       "      <td>5.0</td>\n",
       "      <td>Uncle Wulfy, can I play with your iPad?</td>\n",
       "      <td>1377648000</td>\n",
       "      <td>08 28, 2013</td>\n",
       "    </tr>\n",
       "    <tr>\n",
       "      <th>1179</th>\n",
       "      <td>A1XFI340SHOS5K</td>\n",
       "      <td>B0089RPUHO</td>\n",
       "      <td>Zenpony</td>\n",
       "      <td>[0, 1]</td>\n",
       "      <td>My grandkids have played with LeapPad games si...</td>\n",
       "      <td>5.0</td>\n",
       "      <td>Five and six year olds love it</td>\n",
       "      <td>1377561600</td>\n",
       "      <td>08 27, 2013</td>\n",
       "    </tr>\n",
       "  </tbody>\n",
       "</table>\n",
       "<p>1180 rows × 9 columns</p>\n",
       "</div>"
      ],
      "text/plain": [
       "          reviewerID  product_id  \\\n",
       "0     A226IWT7KTK74J  B001W30D2O   \n",
       "1     A1MHOYUPMHH5TF  B001W30D2O   \n",
       "2     A1BEFUJK894ZVB  B001W30D2O   \n",
       "3     A2PTAJTGXOAHU4  B001W30D2O   \n",
       "4     A14SC4IB9OGSGX  B001W30D2O   \n",
       "...              ...         ...   \n",
       "1175  A1ZILSMQWL01NZ  B0089RPUHO   \n",
       "1176  A1OF8VLGFF2P1W  B0089RPUHO   \n",
       "1177  A2H667ZUNLNTF1  B0089RPUHO   \n",
       "1178  A3UJRNI8UR4871  B0089RPUHO   \n",
       "1179  A1XFI340SHOS5K  B0089RPUHO   \n",
       "\n",
       "                                          reviewerName helpful  \\\n",
       "0                                        Aaron Goldman  [0, 0]   \n",
       "1                                     Adam \"evercurio\"  [4, 4]   \n",
       "2                                               Adelle  [0, 0]   \n",
       "3                                             ADreisow  [0, 0]   \n",
       "4                                            A. Hodges  [0, 0]   \n",
       "...                                                ...     ...   \n",
       "1175                                         VixenRose  [0, 0]   \n",
       "1176                                          V. Lease  [1, 1]   \n",
       "1177  Wendi Barker \"Wendi's Book Corner & What Wend...  [0, 0]   \n",
       "1178                               Wulfstan \"wulfstan\"  [1, 2]   \n",
       "1179                                           Zenpony  [0, 1]   \n",
       "\n",
       "                                             reviewText  overall  \\\n",
       "0     We received this toy as a birthday gift for my...      5.0   \n",
       "1     I'm a tech geek, so when I see a toy that I ca...      3.0   \n",
       "2     Bought this for my 2 month old, who ends up \"t...      5.0   \n",
       "3     IF you do NOT have one of these for your child...      5.0   \n",
       "4     My daughter received this toy for Christmas fr...      5.0   \n",
       "...                                                 ...      ...   \n",
       "1175  This has been the big hit of Christmas for my ...      5.0   \n",
       "1176  I bought this for my 4 year old to use in the ...      5.0   \n",
       "1177  Please note:  This version does not come with ...      5.0   \n",
       "1178  Ooh, a tough question. Even tougher is \"Can I ...      5.0   \n",
       "1179  My grandkids have played with LeapPad games si...      5.0   \n",
       "\n",
       "                                                summary  unixReviewTime  \\\n",
       "0     We ended up getting a 2nd Scout for our other son      1277769600   \n",
       "1     Cute cuddly puppy, but the customization optio...      1325462400   \n",
       "2                                 My infant loves this!      1312416000   \n",
       "3                                    Sweet Sweet Scout!      1371340800   \n",
       "4                                            Great toy!      1373241600   \n",
       "...                                                 ...             ...   \n",
       "1175                                            big hit      1356480000   \n",
       "1176                          Perfect for my 4 year old      1392249600   \n",
       "1177  Monsters University Version of Regular LeapPad...      1379894400   \n",
       "1178            Uncle Wulfy, can I play with your iPad?      1377648000   \n",
       "1179                     Five and six year olds love it      1377561600   \n",
       "\n",
       "       reviewTime  \n",
       "0     06 29, 2010  \n",
       "1      01 2, 2012  \n",
       "2      08 4, 2011  \n",
       "3     06 16, 2013  \n",
       "4      07 8, 2013  \n",
       "...           ...  \n",
       "1175  12 26, 2012  \n",
       "1176  02 13, 2014  \n",
       "1177  09 23, 2013  \n",
       "1178  08 28, 2013  \n",
       "1179  08 27, 2013  \n",
       "\n",
       "[1180 rows x 9 columns]"
      ]
     },
     "execution_count": 3,
     "metadata": {},
     "output_type": "execute_result"
    }
   ],
   "source": [
    "df"
   ]
  },
  {
   "cell_type": "code",
   "execution_count": 5,
   "metadata": {},
   "outputs": [
    {
     "data": {
      "text/plain": [
       "'We received this toy as a birthday gift for my younger son - one year old.  While it was still in the box, my older son -- two years old -- had already started playing with it.  We decided to program it for the two year old.  He smiles and gets a real kick out Scout every time it says his name, favorite food/color/animal, or spells his name.  We even purchased a second one for the younger child.  I wish that they would make different colors besides violet and green.'"
      ]
     },
     "execution_count": 5,
     "metadata": {},
     "output_type": "execute_result"
    }
   ],
   "source": [
    "df['reviewText'].iloc[0]"
   ]
  },
  {
   "cell_type": "code",
   "execution_count": 6,
   "metadata": {},
   "outputs": [
    {
     "data": {
      "text/plain": [
       "'I\\'m a tech geek, so when I see a toy that I can customize by connecting it via USB, my interest gets piqued. I bought this last year, but it sat nearly a year before we found it and gave it to our two-year-old this past Christmas. The dog itself is cute and without the customization feature, would probably have earned 3 or 4 stars. But the customization is what falls short. The software you need to install to connect the puppy had a fit with my antivirus software. When I took the recommendation of the antivirus software, the LeapFrog software didn\\'t work correctly. So after a reinstall (during which I had to repeatedly and anxiously tell my antivirus software to pipe down), I finally got it working.Here\\'s the extent of the customization:1) Type in your child\\'s name and hope that one of the recorded MP3 files matches. The third of three matched...somewhat. It\\'s pronounced more like a question than a statement, so when it comes up in the toy\\'s routine, it doesn\\'t sound quite right. Nevertheless, my daughter gets a kick out of hearing the puppy say her name every so often.2) Choose your child\\'s favorite color, animal, and food. These are inserted occasionally in the dog\\'s songs and activities. I don\\'t think my daughter (only 2 remember) picks up on this (especially since her \"favorites\" are likely to change from day to day!).3) Pick five \"daytime\" tunes and five \"bedtime\" tunes. These I picked mostly at random but, since they are tune only (no lyrics), my daughter isn\\'t very interested in this feature.After just a couple days, we don\\'t see much of this puppy any more. My daughter prefers her non battery-operated baby dolls, books, and other toys to this one. I\\'m becoming increasingly dissatisfied with all LeapFrog toys due to their poor build quality and limited \"learning\". I think there are better quality games available on the iPod and more cost-effective and better quality toys elsewhere.'"
      ]
     },
     "execution_count": 6,
     "metadata": {},
     "output_type": "execute_result"
    }
   ],
   "source": [
    "df['reviewText'].iloc[1]"
   ]
  },
  {
   "cell_type": "markdown",
   "metadata": {},
   "source": [
    "## Text processing"
   ]
  },
  {
   "cell_type": "code",
   "execution_count": 8,
   "metadata": {},
   "outputs": [],
   "source": [
    "from sklearn.feature_extraction.text import TfidfVectorizer"
   ]
  },
  {
   "cell_type": "code",
   "execution_count": 15,
   "metadata": {},
   "outputs": [],
   "source": [
    "from nltk.tokenize import word_tokenize, sent_tokenize"
   ]
  },
  {
   "cell_type": "code",
   "execution_count": 27,
   "metadata": {},
   "outputs": [],
   "source": [
    "from nltk.stem import PorterStemmer"
   ]
  },
  {
   "cell_type": "code",
   "execution_count": 40,
   "metadata": {},
   "outputs": [],
   "source": [
    "from nltk.corpus import stopwords"
   ]
  },
  {
   "cell_type": "code",
   "execution_count": 22,
   "metadata": {},
   "outputs": [],
   "source": [
    "import string"
   ]
  },
  {
   "cell_type": "code",
   "execution_count": 41,
   "metadata": {},
   "outputs": [],
   "source": []
  },
  {
   "cell_type": "code",
   "execution_count": 28,
   "metadata": {},
   "outputs": [],
   "source": [
    "stem = PorterStemmer()"
   ]
  },
  {
   "cell_type": "code",
   "execution_count": 23,
   "metadata": {},
   "outputs": [
    {
     "data": {
      "text/plain": [
       "'!\"#$%&\\'()*+,-./:;<=>?@[\\\\]^_`{|}~'"
      ]
     },
     "execution_count": 23,
     "metadata": {},
     "output_type": "execute_result"
    }
   ],
   "source": [
    "string.punctuation"
   ]
  },
  {
   "cell_type": "code",
   "execution_count": 24,
   "metadata": {},
   "outputs": [
    {
     "data": {
      "text/plain": [
       "'0123456789!\"#$%&\\'()*+,-./:;<=>?@[\\\\]^_`{|}~'"
      ]
     },
     "execution_count": 24,
     "metadata": {},
     "output_type": "execute_result"
    }
   ],
   "source": [
    "'0123456789'+string.punctuation"
   ]
  },
  {
   "cell_type": "code",
   "execution_count": 9,
   "metadata": {},
   "outputs": [],
   "source": [
    "vec = TfidfVectorizer()"
   ]
  },
  {
   "cell_type": "code",
   "execution_count": 11,
   "metadata": {},
   "outputs": [],
   "source": [
    "m = vec.fit_transform(df['reviewText'])"
   ]
  },
  {
   "cell_type": "code",
   "execution_count": null,
   "metadata": {},
   "outputs": [],
   "source": []
  },
  {
   "cell_type": "code",
   "execution_count": 33,
   "metadata": {},
   "outputs": [],
   "source": [
    "text = df['reviewText'].iloc[1]"
   ]
  },
  {
   "cell_type": "code",
   "execution_count": 34,
   "metadata": {},
   "outputs": [],
   "source": [
    "text = text.lower()"
   ]
  },
  {
   "cell_type": "code",
   "execution_count": 35,
   "metadata": {},
   "outputs": [],
   "source": [
    "sents = sent_tokenize(text)"
   ]
  },
  {
   "cell_type": "code",
   "execution_count": 36,
   "metadata": {},
   "outputs": [
    {
     "data": {
      "text/plain": [
       "'the dog itself is cute and without the customization feature, would probably have earned 3 or 4 stars.'"
      ]
     },
     "execution_count": 36,
     "metadata": {},
     "output_type": "execute_result"
    }
   ],
   "source": [
    "sent = sents[2]\n",
    "sent"
   ]
  },
  {
   "cell_type": "code",
   "execution_count": 37,
   "metadata": {},
   "outputs": [],
   "source": [
    "sent = ''.join([char for char in sent if char not in '0123456789'+string.punctuation])"
   ]
  },
  {
   "cell_type": "code",
   "execution_count": 38,
   "metadata": {},
   "outputs": [
    {
     "data": {
      "text/plain": [
       "['the',\n",
       " 'dog',\n",
       " 'itself',\n",
       " 'is',\n",
       " 'cute',\n",
       " 'and',\n",
       " 'without',\n",
       " 'the',\n",
       " 'customization',\n",
       " 'feature',\n",
       " 'would',\n",
       " 'probably',\n",
       " 'have',\n",
       " 'earned',\n",
       " 'or',\n",
       " 'stars']"
      ]
     },
     "execution_count": 38,
     "metadata": {},
     "output_type": "execute_result"
    }
   ],
   "source": [
    "words = word_tokenize(sent)\n",
    "words"
   ]
  },
  {
   "cell_type": "code",
   "execution_count": 45,
   "metadata": {},
   "outputs": [],
   "source": [
    "sent = ' '.join([word for word in words if word not in sw]) + '.'"
   ]
  },
  {
   "cell_type": "code",
   "execution_count": 47,
   "metadata": {},
   "outputs": [],
   "source": [
    "def clean_sentence(sent):\n",
    "    sent = sent.lower()\n",
    "    sent = ''.join([char for char in sent if char not in '0123456789'+string.punctuation])\n",
    "    words = word_tokenize(sent)\n",
    "    sent = ' '.join([stem.stem(word) for word in words if word not in sw]) + '.'\n",
    "    return sent"
   ]
  },
  {
   "cell_type": "code",
   "execution_count": 54,
   "metadata": {},
   "outputs": [],
   "source": [
    "sents = sent_tokenize(text)"
   ]
  },
  {
   "cell_type": "code",
   "execution_count": 58,
   "metadata": {},
   "outputs": [
    {
     "data": {
      "text/plain": [
       "'im tech geek see toy custom connect via usb interest get piqu. bought last year sat nearli year found gave twoyearold past christma. dog cute without custom featur would probabl earn star. custom fall short. softwar need instal connect puppi fit antiviru softwar. took recommend antiviru softwar leapfrog softwar didnt work correctli. reinstal repeatedli anxious tell antiviru softwar pipe final got workingher extent custom type child name hope one record mp file match. third three matchedsomewhat. pronounc like question statement come toy routin doesnt sound quit right. nevertheless daughter get kick hear puppi say name everi often choos child favorit color anim food. insert occasion dog song activ. dont think daughter rememb pick especi sinc favorit like chang day day. pick five daytim tune five bedtim tune. pick mostli random sinc tune lyric daughter isnt interest featureaft coupl day dont see much puppi. daughter prefer non batteryoper babi doll book toy one. im becom increasingli dissatisfi leapfrog toy due poor build qualiti limit learn. think better qualiti game avail ipod costeffect better qualiti toy elsewher.'"
      ]
     },
     "execution_count": 58,
     "metadata": {},
     "output_type": "execute_result"
    }
   ],
   "source": [
    "' '.join([clean_sentence(sent) for sent in sents])"
   ]
  },
  {
   "cell_type": "code",
   "execution_count": 59,
   "metadata": {},
   "outputs": [],
   "source": [
    "def clean_text(text):\n",
    "    text = text.lower()\n",
    "    sents = sent_tokenize(text)\n",
    "    text = ' '.join([clean_sentence(sent) for sent in sents])\n",
    "    return text"
   ]
  },
  {
   "cell_type": "code",
   "execution_count": 62,
   "metadata": {},
   "outputs": [],
   "source": [
    "df['cleanedText'] = df['reviewText'].apply(clean_text)"
   ]
  },
  {
   "cell_type": "code",
   "execution_count": 64,
   "metadata": {},
   "outputs": [
    {
     "data": {
      "text/plain": [
       "'receiv toy birthday gift younger son one year old. still box older son two year old alreadi start play. decid program two year old. smile get real kick scout everi time say name favorit foodcoloranim spell name. even purchas second one younger child. wish would make differ color besid violet green.'"
      ]
     },
     "execution_count": 64,
     "metadata": {},
     "output_type": "execute_result"
    }
   ],
   "source": [
    "df['cleanedText'][0]"
   ]
  },
  {
   "cell_type": "code",
   "execution_count": 71,
   "metadata": {},
   "outputs": [],
   "source": [
    "vec = TfidfVectorizer(max_features=200)"
   ]
  },
  {
   "cell_type": "code",
   "execution_count": 1,
   "metadata": {},
   "outputs": [
    {
     "ename": "NameError",
     "evalue": "name 'vec' is not defined",
     "output_type": "error",
     "traceback": [
      "\u001b[1;31m---------------------------------------------------------------------------\u001b[0m",
      "\u001b[1;31mNameError\u001b[0m                                 Traceback (most recent call last)",
      "\u001b[1;32m<ipython-input-1-9817edb3902d>\u001b[0m in \u001b[0;36m<module>\u001b[1;34m\u001b[0m\n\u001b[1;32m----> 1\u001b[1;33m \u001b[0mm\u001b[0m \u001b[1;33m=\u001b[0m \u001b[0mvec\u001b[0m\u001b[1;33m.\u001b[0m\u001b[0mfit_transform\u001b[0m\u001b[1;33m(\u001b[0m\u001b[0mdf\u001b[0m\u001b[1;33m[\u001b[0m\u001b[1;34m'reviewText'\u001b[0m\u001b[1;33m]\u001b[0m\u001b[1;33m)\u001b[0m\u001b[1;33m\u001b[0m\u001b[1;33m\u001b[0m\u001b[0m\n\u001b[0m",
      "\u001b[1;31mNameError\u001b[0m: name 'vec' is not defined"
     ]
    }
   ],
   "source": [
    "m = vec.fit_transform(df['reviewText'])"
   ]
  },
  {
   "cell_type": "code",
   "execution_count": 73,
   "metadata": {},
   "outputs": [
    {
     "data": {
      "text/plain": [
       "200"
      ]
     },
     "execution_count": 73,
     "metadata": {},
     "output_type": "execute_result"
    }
   ],
   "source": [
    "len(vec.get_feature_names())"
   ]
  },
  {
   "cell_type": "code",
   "execution_count": 75,
   "metadata": {},
   "outputs": [
    {
     "data": {
      "text/html": [
       "<div>\n",
       "<style scoped>\n",
       "    .dataframe tbody tr th:only-of-type {\n",
       "        vertical-align: middle;\n",
       "    }\n",
       "\n",
       "    .dataframe tbody tr th {\n",
       "        vertical-align: top;\n",
       "    }\n",
       "\n",
       "    .dataframe thead th {\n",
       "        text-align: right;\n",
       "    }\n",
       "</style>\n",
       "<table border=\"1\" class=\"dataframe\">\n",
       "  <thead>\n",
       "    <tr style=\"text-align: right;\">\n",
       "      <th></th>\n",
       "      <th>abl</th>\n",
       "      <th>adult</th>\n",
       "      <th>age</th>\n",
       "      <th>alreadi</th>\n",
       "      <th>also</th>\n",
       "      <th>alway</th>\n",
       "      <th>anim</th>\n",
       "      <th>anoth</th>\n",
       "      <th>app</th>\n",
       "      <th>appl</th>\n",
       "      <th>...</th>\n",
       "      <th>want</th>\n",
       "      <th>way</th>\n",
       "      <th>well</th>\n",
       "      <th>wish</th>\n",
       "      <th>without</th>\n",
       "      <th>work</th>\n",
       "      <th>would</th>\n",
       "      <th>year</th>\n",
       "      <th>yet</th>\n",
       "      <th>your</th>\n",
       "    </tr>\n",
       "  </thead>\n",
       "  <tbody>\n",
       "    <tr>\n",
       "      <th>0</th>\n",
       "      <td>0.0</td>\n",
       "      <td>0.000000</td>\n",
       "      <td>0.0</td>\n",
       "      <td>0.184032</td>\n",
       "      <td>0.000000</td>\n",
       "      <td>0.000000</td>\n",
       "      <td>0.000000</td>\n",
       "      <td>0.000000</td>\n",
       "      <td>0.000000</td>\n",
       "      <td>0.0</td>\n",
       "      <td>...</td>\n",
       "      <td>0.000000</td>\n",
       "      <td>0.000000</td>\n",
       "      <td>0.000000</td>\n",
       "      <td>0.182478</td>\n",
       "      <td>0.000000</td>\n",
       "      <td>0.000000</td>\n",
       "      <td>0.119880</td>\n",
       "      <td>0.304845</td>\n",
       "      <td>0.0</td>\n",
       "      <td>0.0</td>\n",
       "    </tr>\n",
       "    <tr>\n",
       "      <th>1</th>\n",
       "      <td>0.0</td>\n",
       "      <td>0.000000</td>\n",
       "      <td>0.0</td>\n",
       "      <td>0.000000</td>\n",
       "      <td>0.000000</td>\n",
       "      <td>0.000000</td>\n",
       "      <td>0.098079</td>\n",
       "      <td>0.000000</td>\n",
       "      <td>0.000000</td>\n",
       "      <td>0.0</td>\n",
       "      <td>...</td>\n",
       "      <td>0.000000</td>\n",
       "      <td>0.000000</td>\n",
       "      <td>0.000000</td>\n",
       "      <td>0.000000</td>\n",
       "      <td>0.098973</td>\n",
       "      <td>0.080291</td>\n",
       "      <td>0.063055</td>\n",
       "      <td>0.106896</td>\n",
       "      <td>0.0</td>\n",
       "      <td>0.0</td>\n",
       "    </tr>\n",
       "    <tr>\n",
       "      <th>2</th>\n",
       "      <td>0.0</td>\n",
       "      <td>0.000000</td>\n",
       "      <td>0.0</td>\n",
       "      <td>0.000000</td>\n",
       "      <td>0.000000</td>\n",
       "      <td>0.000000</td>\n",
       "      <td>0.217562</td>\n",
       "      <td>0.000000</td>\n",
       "      <td>0.000000</td>\n",
       "      <td>0.0</td>\n",
       "      <td>...</td>\n",
       "      <td>0.000000</td>\n",
       "      <td>0.000000</td>\n",
       "      <td>0.000000</td>\n",
       "      <td>0.000000</td>\n",
       "      <td>0.000000</td>\n",
       "      <td>0.000000</td>\n",
       "      <td>0.000000</td>\n",
       "      <td>0.000000</td>\n",
       "      <td>0.0</td>\n",
       "      <td>0.0</td>\n",
       "    </tr>\n",
       "    <tr>\n",
       "      <th>3</th>\n",
       "      <td>0.0</td>\n",
       "      <td>0.000000</td>\n",
       "      <td>0.0</td>\n",
       "      <td>0.000000</td>\n",
       "      <td>0.089689</td>\n",
       "      <td>0.000000</td>\n",
       "      <td>0.000000</td>\n",
       "      <td>0.126735</td>\n",
       "      <td>0.000000</td>\n",
       "      <td>0.0</td>\n",
       "      <td>...</td>\n",
       "      <td>0.000000</td>\n",
       "      <td>0.000000</td>\n",
       "      <td>0.189088</td>\n",
       "      <td>0.000000</td>\n",
       "      <td>0.000000</td>\n",
       "      <td>0.000000</td>\n",
       "      <td>0.000000</td>\n",
       "      <td>0.000000</td>\n",
       "      <td>0.0</td>\n",
       "      <td>0.0</td>\n",
       "    </tr>\n",
       "    <tr>\n",
       "      <th>4</th>\n",
       "      <td>0.0</td>\n",
       "      <td>0.000000</td>\n",
       "      <td>0.0</td>\n",
       "      <td>0.000000</td>\n",
       "      <td>0.041638</td>\n",
       "      <td>0.112013</td>\n",
       "      <td>0.186935</td>\n",
       "      <td>0.000000</td>\n",
       "      <td>0.000000</td>\n",
       "      <td>0.0</td>\n",
       "      <td>...</td>\n",
       "      <td>0.000000</td>\n",
       "      <td>0.047458</td>\n",
       "      <td>0.000000</td>\n",
       "      <td>0.000000</td>\n",
       "      <td>0.000000</td>\n",
       "      <td>0.051010</td>\n",
       "      <td>0.040060</td>\n",
       "      <td>0.000000</td>\n",
       "      <td>0.0</td>\n",
       "      <td>0.0</td>\n",
       "    </tr>\n",
       "    <tr>\n",
       "      <th>...</th>\n",
       "      <td>...</td>\n",
       "      <td>...</td>\n",
       "      <td>...</td>\n",
       "      <td>...</td>\n",
       "      <td>...</td>\n",
       "      <td>...</td>\n",
       "      <td>...</td>\n",
       "      <td>...</td>\n",
       "      <td>...</td>\n",
       "      <td>...</td>\n",
       "      <td>...</td>\n",
       "      <td>...</td>\n",
       "      <td>...</td>\n",
       "      <td>...</td>\n",
       "      <td>...</td>\n",
       "      <td>...</td>\n",
       "      <td>...</td>\n",
       "      <td>...</td>\n",
       "      <td>...</td>\n",
       "      <td>...</td>\n",
       "      <td>...</td>\n",
       "    </tr>\n",
       "    <tr>\n",
       "      <th>1175</th>\n",
       "      <td>0.0</td>\n",
       "      <td>0.000000</td>\n",
       "      <td>0.0</td>\n",
       "      <td>0.000000</td>\n",
       "      <td>0.000000</td>\n",
       "      <td>0.000000</td>\n",
       "      <td>0.000000</td>\n",
       "      <td>0.000000</td>\n",
       "      <td>0.436635</td>\n",
       "      <td>0.0</td>\n",
       "      <td>...</td>\n",
       "      <td>0.000000</td>\n",
       "      <td>0.000000</td>\n",
       "      <td>0.000000</td>\n",
       "      <td>0.000000</td>\n",
       "      <td>0.000000</td>\n",
       "      <td>0.000000</td>\n",
       "      <td>0.336557</td>\n",
       "      <td>0.000000</td>\n",
       "      <td>0.0</td>\n",
       "      <td>0.0</td>\n",
       "    </tr>\n",
       "    <tr>\n",
       "      <th>1176</th>\n",
       "      <td>0.0</td>\n",
       "      <td>0.000000</td>\n",
       "      <td>0.0</td>\n",
       "      <td>0.000000</td>\n",
       "      <td>0.175921</td>\n",
       "      <td>0.000000</td>\n",
       "      <td>0.000000</td>\n",
       "      <td>0.000000</td>\n",
       "      <td>0.219583</td>\n",
       "      <td>0.0</td>\n",
       "      <td>...</td>\n",
       "      <td>0.000000</td>\n",
       "      <td>0.200511</td>\n",
       "      <td>0.000000</td>\n",
       "      <td>0.000000</td>\n",
       "      <td>0.000000</td>\n",
       "      <td>0.000000</td>\n",
       "      <td>0.000000</td>\n",
       "      <td>0.143466</td>\n",
       "      <td>0.0</td>\n",
       "      <td>0.0</td>\n",
       "    </tr>\n",
       "    <tr>\n",
       "      <th>1177</th>\n",
       "      <td>0.0</td>\n",
       "      <td>0.000000</td>\n",
       "      <td>0.0</td>\n",
       "      <td>0.000000</td>\n",
       "      <td>0.098227</td>\n",
       "      <td>0.066061</td>\n",
       "      <td>0.000000</td>\n",
       "      <td>0.000000</td>\n",
       "      <td>0.306514</td>\n",
       "      <td>0.0</td>\n",
       "      <td>...</td>\n",
       "      <td>0.000000</td>\n",
       "      <td>0.000000</td>\n",
       "      <td>0.000000</td>\n",
       "      <td>0.000000</td>\n",
       "      <td>0.000000</td>\n",
       "      <td>0.060168</td>\n",
       "      <td>0.000000</td>\n",
       "      <td>0.000000</td>\n",
       "      <td>0.0</td>\n",
       "      <td>0.0</td>\n",
       "    </tr>\n",
       "    <tr>\n",
       "      <th>1178</th>\n",
       "      <td>0.0</td>\n",
       "      <td>0.157977</td>\n",
       "      <td>0.0</td>\n",
       "      <td>0.000000</td>\n",
       "      <td>0.138603</td>\n",
       "      <td>0.000000</td>\n",
       "      <td>0.000000</td>\n",
       "      <td>0.000000</td>\n",
       "      <td>0.173002</td>\n",
       "      <td>0.0</td>\n",
       "      <td>...</td>\n",
       "      <td>0.155909</td>\n",
       "      <td>0.000000</td>\n",
       "      <td>0.000000</td>\n",
       "      <td>0.000000</td>\n",
       "      <td>0.000000</td>\n",
       "      <td>0.000000</td>\n",
       "      <td>0.000000</td>\n",
       "      <td>0.000000</td>\n",
       "      <td>0.0</td>\n",
       "      <td>0.0</td>\n",
       "    </tr>\n",
       "    <tr>\n",
       "      <th>1179</th>\n",
       "      <td>0.0</td>\n",
       "      <td>0.000000</td>\n",
       "      <td>0.0</td>\n",
       "      <td>0.000000</td>\n",
       "      <td>0.000000</td>\n",
       "      <td>0.000000</td>\n",
       "      <td>0.000000</td>\n",
       "      <td>0.000000</td>\n",
       "      <td>0.000000</td>\n",
       "      <td>0.0</td>\n",
       "      <td>...</td>\n",
       "      <td>0.253294</td>\n",
       "      <td>0.000000</td>\n",
       "      <td>0.000000</td>\n",
       "      <td>0.000000</td>\n",
       "      <td>0.000000</td>\n",
       "      <td>0.000000</td>\n",
       "      <td>0.000000</td>\n",
       "      <td>0.000000</td>\n",
       "      <td>0.0</td>\n",
       "      <td>0.0</td>\n",
       "    </tr>\n",
       "  </tbody>\n",
       "</table>\n",
       "<p>1180 rows × 200 columns</p>\n",
       "</div>"
      ],
      "text/plain": [
       "      abl     adult  age   alreadi      also     alway      anim     anoth  \\\n",
       "0     0.0  0.000000  0.0  0.184032  0.000000  0.000000  0.000000  0.000000   \n",
       "1     0.0  0.000000  0.0  0.000000  0.000000  0.000000  0.098079  0.000000   \n",
       "2     0.0  0.000000  0.0  0.000000  0.000000  0.000000  0.217562  0.000000   \n",
       "3     0.0  0.000000  0.0  0.000000  0.089689  0.000000  0.000000  0.126735   \n",
       "4     0.0  0.000000  0.0  0.000000  0.041638  0.112013  0.186935  0.000000   \n",
       "...   ...       ...  ...       ...       ...       ...       ...       ...   \n",
       "1175  0.0  0.000000  0.0  0.000000  0.000000  0.000000  0.000000  0.000000   \n",
       "1176  0.0  0.000000  0.0  0.000000  0.175921  0.000000  0.000000  0.000000   \n",
       "1177  0.0  0.000000  0.0  0.000000  0.098227  0.066061  0.000000  0.000000   \n",
       "1178  0.0  0.157977  0.0  0.000000  0.138603  0.000000  0.000000  0.000000   \n",
       "1179  0.0  0.000000  0.0  0.000000  0.000000  0.000000  0.000000  0.000000   \n",
       "\n",
       "           app  appl  ...      want       way      well      wish   without  \\\n",
       "0     0.000000   0.0  ...  0.000000  0.000000  0.000000  0.182478  0.000000   \n",
       "1     0.000000   0.0  ...  0.000000  0.000000  0.000000  0.000000  0.098973   \n",
       "2     0.000000   0.0  ...  0.000000  0.000000  0.000000  0.000000  0.000000   \n",
       "3     0.000000   0.0  ...  0.000000  0.000000  0.189088  0.000000  0.000000   \n",
       "4     0.000000   0.0  ...  0.000000  0.047458  0.000000  0.000000  0.000000   \n",
       "...        ...   ...  ...       ...       ...       ...       ...       ...   \n",
       "1175  0.436635   0.0  ...  0.000000  0.000000  0.000000  0.000000  0.000000   \n",
       "1176  0.219583   0.0  ...  0.000000  0.200511  0.000000  0.000000  0.000000   \n",
       "1177  0.306514   0.0  ...  0.000000  0.000000  0.000000  0.000000  0.000000   \n",
       "1178  0.173002   0.0  ...  0.155909  0.000000  0.000000  0.000000  0.000000   \n",
       "1179  0.000000   0.0  ...  0.253294  0.000000  0.000000  0.000000  0.000000   \n",
       "\n",
       "          work     would      year  yet  your  \n",
       "0     0.000000  0.119880  0.304845  0.0   0.0  \n",
       "1     0.080291  0.063055  0.106896  0.0   0.0  \n",
       "2     0.000000  0.000000  0.000000  0.0   0.0  \n",
       "3     0.000000  0.000000  0.000000  0.0   0.0  \n",
       "4     0.051010  0.040060  0.000000  0.0   0.0  \n",
       "...        ...       ...       ...  ...   ...  \n",
       "1175  0.000000  0.336557  0.000000  0.0   0.0  \n",
       "1176  0.000000  0.000000  0.143466  0.0   0.0  \n",
       "1177  0.060168  0.000000  0.000000  0.0   0.0  \n",
       "1178  0.000000  0.000000  0.000000  0.0   0.0  \n",
       "1179  0.000000  0.000000  0.000000  0.0   0.0  \n",
       "\n",
       "[1180 rows x 200 columns]"
      ]
     },
     "execution_count": 75,
     "metadata": {},
     "output_type": "execute_result"
    }
   ],
   "source": [
    "pd.DataFrame(m.todense(), columns=vec.get_feature_names())"
   ]
  },
  {
   "cell_type": "markdown",
   "metadata": {},
   "source": [
    "## LDA"
   ]
  },
  {
   "cell_type": "code",
   "execution_count": 76,
   "metadata": {},
   "outputs": [],
   "source": [
    "from sklearn.decomposition import LatentDirichletAllocation"
   ]
  },
  {
   "cell_type": "code",
   "execution_count": 81,
   "metadata": {},
   "outputs": [],
   "source": [
    "lda = LatentDirichletAllocation(n_components=3, random_state=298575)"
   ]
  },
  {
   "cell_type": "code",
   "execution_count": 82,
   "metadata": {},
   "outputs": [
    {
     "data": {
      "text/plain": [
       "LatentDirichletAllocation(n_components=3, random_state=298575)"
      ]
     },
     "execution_count": 82,
     "metadata": {},
     "output_type": "execute_result"
    }
   ],
   "source": [
    "lda.fit(m)"
   ]
  },
  {
   "cell_type": "code",
   "execution_count": 83,
   "metadata": {},
   "outputs": [
    {
     "data": {
      "text/plain": [
       "array([[0.06104138, 0.87687379, 0.06208483],\n",
       "       [0.07794301, 0.84145495, 0.08060204],\n",
       "       [0.08397565, 0.83153793, 0.08448641],\n",
       "       ...,\n",
       "       [0.08245324, 0.07128241, 0.84626435],\n",
       "       [0.16842278, 0.06373582, 0.7678414 ],\n",
       "       [0.09980004, 0.09477   , 0.80542996]])"
      ]
     },
     "execution_count": 83,
     "metadata": {},
     "output_type": "execute_result"
    }
   ],
   "source": [
    "lda.transform(m)"
   ]
  },
  {
   "cell_type": "code",
   "execution_count": 84,
   "metadata": {},
   "outputs": [
    {
     "data": {
      "text/plain": [
       "(1180, 3)"
      ]
     },
     "execution_count": 84,
     "metadata": {},
     "output_type": "execute_result"
    }
   ],
   "source": [
    "lda.transform(m).shape"
   ]
  },
  {
   "cell_type": "code",
   "execution_count": 86,
   "metadata": {},
   "outputs": [
    {
     "data": {
      "text/plain": [
       "(3, 200)"
      ]
     },
     "execution_count": 86,
     "metadata": {},
     "output_type": "execute_result"
    }
   ],
   "source": [
    "lda.components_.shape"
   ]
  },
  {
   "cell_type": "code",
   "execution_count": 87,
   "metadata": {},
   "outputs": [
    {
     "data": {
      "text/plain": [
       "array([3.31241476, 7.58433667, 3.52630324])"
      ]
     },
     "execution_count": 87,
     "metadata": {},
     "output_type": "execute_result"
    }
   ],
   "source": [
    "lda.components_[:, 0]"
   ]
  },
  {
   "cell_type": "code",
   "execution_count": 88,
   "metadata": {},
   "outputs": [
    {
     "data": {
      "text/plain": [
       "array([32.81961901,  0.43669443,  0.41849523])"
      ]
     },
     "execution_count": 88,
     "metadata": {},
     "output_type": "execute_result"
    }
   ],
   "source": [
    "lda.components_[:, 1]"
   ]
  },
  {
   "cell_type": "code",
   "execution_count": 89,
   "metadata": {},
   "outputs": [
    {
     "data": {
      "text/plain": [
       "array([1, 0, 0, 1, 2, 0, 1, 0, 2, 0, 1, 0, 1, 1, 2, 0, 0, 0, 1, 1, 2, 1,\n",
       "       2, 2, 1, 0, 2, 0, 1, 1, 0, 1, 1, 1, 0, 2, 1, 0, 1, 1, 1, 2, 0, 2,\n",
       "       1, 0, 1, 0, 2, 2, 0, 0, 2, 0, 0, 0, 0, 0, 1, 0, 1, 0, 0, 1, 0, 0,\n",
       "       1, 2, 0, 0, 0, 0, 1, 1, 0, 0, 1, 0, 0, 0, 1, 0, 0, 0, 2, 2, 2, 1,\n",
       "       2, 0, 0, 0, 0, 1, 1, 0, 2, 2, 2, 2, 0, 1, 0, 0, 0, 1, 0, 0, 0, 0,\n",
       "       0, 0, 1, 2, 1, 0, 1, 1, 0, 1, 2, 2, 0, 1, 0, 0, 0, 0, 1, 2, 2, 0,\n",
       "       0, 0, 1, 1, 2, 0, 0, 1, 2, 0, 2, 2, 1, 2, 1, 2, 0, 0, 0, 2, 0, 1,\n",
       "       0, 1, 1, 1, 2, 1, 1, 1, 0, 1, 0, 0, 1, 1, 0, 0, 1, 0, 2, 0, 0, 1,\n",
       "       1, 0, 1, 0, 0, 1, 0, 1, 0, 0, 2, 0, 2, 1, 0, 0, 1, 2, 1, 1, 0, 0,\n",
       "       0, 0])"
      ]
     },
     "execution_count": 89,
     "metadata": {},
     "output_type": "execute_result"
    }
   ],
   "source": [
    "np.argmax(lda.components_, axis=0)"
   ]
  },
  {
   "cell_type": "code",
   "execution_count": 92,
   "metadata": {},
   "outputs": [],
   "source": [
    "keywords = pd.DataFrame({'word': vec.get_feature_names(), \n",
    " 'topic': np.argmax(lda.components_, axis=0), \n",
    " 'weight': np.max(lda.components_, axis=0)})"
   ]
  },
  {
   "cell_type": "code",
   "execution_count": 97,
   "metadata": {},
   "outputs": [
    {
     "data": {
      "text/html": [
       "<div>\n",
       "<style scoped>\n",
       "    .dataframe tbody tr th:only-of-type {\n",
       "        vertical-align: middle;\n",
       "    }\n",
       "\n",
       "    .dataframe tbody tr th {\n",
       "        vertical-align: top;\n",
       "    }\n",
       "\n",
       "    .dataframe thead th {\n",
       "        text-align: right;\n",
       "    }\n",
       "</style>\n",
       "<table border=\"1\" class=\"dataframe\">\n",
       "  <thead>\n",
       "    <tr style=\"text-align: right;\">\n",
       "      <th></th>\n",
       "      <th>word</th>\n",
       "      <th>topic</th>\n",
       "      <th>weight</th>\n",
       "    </tr>\n",
       "  </thead>\n",
       "  <tbody>\n",
       "    <tr>\n",
       "      <th>70</th>\n",
       "      <td>game</td>\n",
       "      <td>0</td>\n",
       "      <td>122.003272</td>\n",
       "    </tr>\n",
       "    <tr>\n",
       "      <th>137</th>\n",
       "      <td>play</td>\n",
       "      <td>0</td>\n",
       "      <td>86.136034</td>\n",
       "    </tr>\n",
       "    <tr>\n",
       "      <th>69</th>\n",
       "      <td>fun</td>\n",
       "      <td>0</td>\n",
       "      <td>62.870813</td>\n",
       "    </tr>\n",
       "    <tr>\n",
       "      <th>25</th>\n",
       "      <td>card</td>\n",
       "      <td>0</td>\n",
       "      <td>55.853608</td>\n",
       "    </tr>\n",
       "    <tr>\n",
       "      <th>9</th>\n",
       "      <td>appl</td>\n",
       "      <td>0</td>\n",
       "      <td>39.012498</td>\n",
       "    </tr>\n",
       "    <tr>\n",
       "      <th>77</th>\n",
       "      <td>great</td>\n",
       "      <td>0</td>\n",
       "      <td>37.221648</td>\n",
       "    </tr>\n",
       "    <tr>\n",
       "      <th>1</th>\n",
       "      <td>adult</td>\n",
       "      <td>0</td>\n",
       "      <td>32.819619</td>\n",
       "    </tr>\n",
       "    <tr>\n",
       "      <th>180</th>\n",
       "      <td>time</td>\n",
       "      <td>0</td>\n",
       "      <td>31.962753</td>\n",
       "    </tr>\n",
       "    <tr>\n",
       "      <th>68</th>\n",
       "      <td>friend</td>\n",
       "      <td>0</td>\n",
       "      <td>31.113068</td>\n",
       "    </tr>\n",
       "    <tr>\n",
       "      <th>197</th>\n",
       "      <td>year</td>\n",
       "      <td>0</td>\n",
       "      <td>30.988652</td>\n",
       "    </tr>\n",
       "  </tbody>\n",
       "</table>\n",
       "</div>"
      ],
      "text/plain": [
       "       word  topic      weight\n",
       "70     game      0  122.003272\n",
       "137    play      0   86.136034\n",
       "69      fun      0   62.870813\n",
       "25     card      0   55.853608\n",
       "9      appl      0   39.012498\n",
       "77    great      0   37.221648\n",
       "1     adult      0   32.819619\n",
       "180    time      0   31.962753\n",
       "68   friend      0   31.113068\n",
       "197    year      0   30.988652"
      ]
     },
     "execution_count": 97,
     "metadata": {},
     "output_type": "execute_result"
    }
   ],
   "source": [
    "keywords.query('topic==0').sort_values(by='weight', ascending=False)[:10]"
   ]
  },
  {
   "cell_type": "code",
   "execution_count": 98,
   "metadata": {},
   "outputs": [
    {
     "data": {
      "text/html": [
       "<div>\n",
       "<style scoped>\n",
       "    .dataframe tbody tr th:only-of-type {\n",
       "        vertical-align: middle;\n",
       "    }\n",
       "\n",
       "    .dataframe tbody tr th {\n",
       "        vertical-align: top;\n",
       "    }\n",
       "\n",
       "    .dataframe thead th {\n",
       "        text-align: right;\n",
       "    }\n",
       "</style>\n",
       "<table border=\"1\" class=\"dataframe\">\n",
       "  <thead>\n",
       "    <tr style=\"text-align: right;\">\n",
       "      <th></th>\n",
       "      <th>word</th>\n",
       "      <th>topic</th>\n",
       "      <th>weight</th>\n",
       "    </tr>\n",
       "  </thead>\n",
       "  <tbody>\n",
       "    <tr>\n",
       "      <th>181</th>\n",
       "      <td>toy</td>\n",
       "      <td>1</td>\n",
       "      <td>46.014141</td>\n",
       "    </tr>\n",
       "    <tr>\n",
       "      <th>117</th>\n",
       "      <td>name</td>\n",
       "      <td>1</td>\n",
       "      <td>36.793780</td>\n",
       "    </tr>\n",
       "    <tr>\n",
       "      <th>105</th>\n",
       "      <td>love</td>\n",
       "      <td>1</td>\n",
       "      <td>32.928674</td>\n",
       "    </tr>\n",
       "    <tr>\n",
       "      <th>166</th>\n",
       "      <td>son</td>\n",
       "      <td>1</td>\n",
       "      <td>29.243948</td>\n",
       "    </tr>\n",
       "    <tr>\n",
       "      <th>157</th>\n",
       "      <td>scout</td>\n",
       "      <td>1</td>\n",
       "      <td>28.676577</td>\n",
       "    </tr>\n",
       "    <tr>\n",
       "      <th>156</th>\n",
       "      <td>say</td>\n",
       "      <td>1</td>\n",
       "      <td>24.885652</td>\n",
       "    </tr>\n",
       "    <tr>\n",
       "      <th>40</th>\n",
       "      <td>daughter</td>\n",
       "      <td>1</td>\n",
       "      <td>24.882347</td>\n",
       "    </tr>\n",
       "    <tr>\n",
       "      <th>167</th>\n",
       "      <td>song</td>\n",
       "      <td>1</td>\n",
       "      <td>24.450098</td>\n",
       "    </tr>\n",
       "    <tr>\n",
       "      <th>189</th>\n",
       "      <td>violet</td>\n",
       "      <td>1</td>\n",
       "      <td>21.575769</td>\n",
       "    </tr>\n",
       "    <tr>\n",
       "      <th>63</th>\n",
       "      <td>favorit</td>\n",
       "      <td>1</td>\n",
       "      <td>21.028578</td>\n",
       "    </tr>\n",
       "  </tbody>\n",
       "</table>\n",
       "</div>"
      ],
      "text/plain": [
       "         word  topic     weight\n",
       "181       toy      1  46.014141\n",
       "117      name      1  36.793780\n",
       "105      love      1  32.928674\n",
       "166       son      1  29.243948\n",
       "157     scout      1  28.676577\n",
       "156       say      1  24.885652\n",
       "40   daughter      1  24.882347\n",
       "167      song      1  24.450098\n",
       "189    violet      1  21.575769\n",
       "63    favorit      1  21.028578"
      ]
     },
     "execution_count": 98,
     "metadata": {},
     "output_type": "execute_result"
    }
   ],
   "source": [
    "keywords.query('topic==1').sort_values(by='weight', ascending=False)[:10]"
   ]
  },
  {
   "cell_type": "code",
   "execution_count": 99,
   "metadata": {},
   "outputs": [
    {
     "data": {
      "text/html": [
       "<div>\n",
       "<style scoped>\n",
       "    .dataframe tbody tr th:only-of-type {\n",
       "        vertical-align: middle;\n",
       "    }\n",
       "\n",
       "    .dataframe tbody tr th {\n",
       "        vertical-align: top;\n",
       "    }\n",
       "\n",
       "    .dataframe thead th {\n",
       "        text-align: right;\n",
       "    }\n",
       "</style>\n",
       "<table border=\"1\" class=\"dataframe\">\n",
       "  <thead>\n",
       "    <tr style=\"text-align: right;\">\n",
       "      <th></th>\n",
       "      <th>word</th>\n",
       "      <th>topic</th>\n",
       "      <th>weight</th>\n",
       "    </tr>\n",
       "  </thead>\n",
       "  <tbody>\n",
       "    <tr>\n",
       "      <th>98</th>\n",
       "      <td>leappad</td>\n",
       "      <td>2</td>\n",
       "      <td>34.569250</td>\n",
       "    </tr>\n",
       "    <tr>\n",
       "      <th>8</th>\n",
       "      <td>app</td>\n",
       "      <td>2</td>\n",
       "      <td>30.387224</td>\n",
       "    </tr>\n",
       "    <tr>\n",
       "      <th>186</th>\n",
       "      <td>use</td>\n",
       "      <td>2</td>\n",
       "      <td>26.205136</td>\n",
       "    </tr>\n",
       "    <tr>\n",
       "      <th>14</th>\n",
       "      <td>batteri</td>\n",
       "      <td>2</td>\n",
       "      <td>25.444995</td>\n",
       "    </tr>\n",
       "    <tr>\n",
       "      <th>99</th>\n",
       "      <td>learn</td>\n",
       "      <td>2</td>\n",
       "      <td>19.439619</td>\n",
       "    </tr>\n",
       "    <tr>\n",
       "      <th>145</th>\n",
       "      <td>purchas</td>\n",
       "      <td>2</td>\n",
       "      <td>18.104449</td>\n",
       "    </tr>\n",
       "    <tr>\n",
       "      <th>97</th>\n",
       "      <td>leapfrog</td>\n",
       "      <td>2</td>\n",
       "      <td>17.221118</td>\n",
       "    </tr>\n",
       "    <tr>\n",
       "      <th>172</th>\n",
       "      <td>tablet</td>\n",
       "      <td>2</td>\n",
       "      <td>15.399685</td>\n",
       "    </tr>\n",
       "    <tr>\n",
       "      <th>143</th>\n",
       "      <td>product</td>\n",
       "      <td>2</td>\n",
       "      <td>15.151629</td>\n",
       "    </tr>\n",
       "    <tr>\n",
       "      <th>48</th>\n",
       "      <td>download</td>\n",
       "      <td>2</td>\n",
       "      <td>14.986085</td>\n",
       "    </tr>\n",
       "  </tbody>\n",
       "</table>\n",
       "</div>"
      ],
      "text/plain": [
       "         word  topic     weight\n",
       "98    leappad      2  34.569250\n",
       "8         app      2  30.387224\n",
       "186       use      2  26.205136\n",
       "14    batteri      2  25.444995\n",
       "99      learn      2  19.439619\n",
       "145   purchas      2  18.104449\n",
       "97   leapfrog      2  17.221118\n",
       "172    tablet      2  15.399685\n",
       "143   product      2  15.151629\n",
       "48   download      2  14.986085"
      ]
     },
     "execution_count": 99,
     "metadata": {},
     "output_type": "execute_result"
    }
   ],
   "source": [
    "keywords.query('topic==2').sort_values(by='weight', ascending=False)[:10]"
   ]
  },
  {
   "cell_type": "code",
   "execution_count": 102,
   "metadata": {},
   "outputs": [],
   "source": [
    "df['topic'] = np.argmax(lda.transform(m), axis=1)"
   ]
  },
  {
   "cell_type": "code",
   "execution_count": 105,
   "metadata": {},
   "outputs": [],
   "source": [
    "df['topic_score'] = np.max(lda.transform(m), axis=1)"
   ]
  },
  {
   "cell_type": "code",
   "execution_count": 109,
   "metadata": {},
   "outputs": [
    {
     "data": {
      "text/html": [
       "<div>\n",
       "<style scoped>\n",
       "    .dataframe tbody tr th:only-of-type {\n",
       "        vertical-align: middle;\n",
       "    }\n",
       "\n",
       "    .dataframe tbody tr th {\n",
       "        vertical-align: top;\n",
       "    }\n",
       "\n",
       "    .dataframe thead th {\n",
       "        text-align: right;\n",
       "    }\n",
       "</style>\n",
       "<table border=\"1\" class=\"dataframe\">\n",
       "  <thead>\n",
       "    <tr style=\"text-align: right;\">\n",
       "      <th></th>\n",
       "      <th>topic</th>\n",
       "      <th>product_id</th>\n",
       "      <th>count</th>\n",
       "    </tr>\n",
       "  </thead>\n",
       "  <tbody>\n",
       "    <tr>\n",
       "      <th>0</th>\n",
       "      <td>0</td>\n",
       "      <td>B001W30D2O</td>\n",
       "      <td>6</td>\n",
       "    </tr>\n",
       "    <tr>\n",
       "      <th>1</th>\n",
       "      <td>0</td>\n",
       "      <td>B002NPBT50</td>\n",
       "      <td>104</td>\n",
       "    </tr>\n",
       "    <tr>\n",
       "      <th>2</th>\n",
       "      <td>0</td>\n",
       "      <td>B0039S7NO6</td>\n",
       "      <td>198</td>\n",
       "    </tr>\n",
       "    <tr>\n",
       "      <th>3</th>\n",
       "      <td>0</td>\n",
       "      <td>B004S8F7QM</td>\n",
       "      <td>284</td>\n",
       "    </tr>\n",
       "    <tr>\n",
       "      <th>4</th>\n",
       "      <td>0</td>\n",
       "      <td>B0089RPUHO</td>\n",
       "      <td>10</td>\n",
       "    </tr>\n",
       "    <tr>\n",
       "      <th>5</th>\n",
       "      <td>1</td>\n",
       "      <td>B001W30D2O</td>\n",
       "      <td>194</td>\n",
       "    </tr>\n",
       "    <tr>\n",
       "      <th>6</th>\n",
       "      <td>1</td>\n",
       "      <td>B002NPBT50</td>\n",
       "      <td>77</td>\n",
       "    </tr>\n",
       "    <tr>\n",
       "      <th>7</th>\n",
       "      <td>1</td>\n",
       "      <td>B0039S7NO6</td>\n",
       "      <td>8</td>\n",
       "    </tr>\n",
       "    <tr>\n",
       "      <th>8</th>\n",
       "      <td>1</td>\n",
       "      <td>B004S8F7QM</td>\n",
       "      <td>20</td>\n",
       "    </tr>\n",
       "    <tr>\n",
       "      <th>9</th>\n",
       "      <td>1</td>\n",
       "      <td>B0089RPUHO</td>\n",
       "      <td>23</td>\n",
       "    </tr>\n",
       "    <tr>\n",
       "      <th>10</th>\n",
       "      <td>2</td>\n",
       "      <td>B001W30D2O</td>\n",
       "      <td>7</td>\n",
       "    </tr>\n",
       "    <tr>\n",
       "      <th>11</th>\n",
       "      <td>2</td>\n",
       "      <td>B002NPBT50</td>\n",
       "      <td>15</td>\n",
       "    </tr>\n",
       "    <tr>\n",
       "      <th>12</th>\n",
       "      <td>2</td>\n",
       "      <td>B0039S7NO6</td>\n",
       "      <td>9</td>\n",
       "    </tr>\n",
       "    <tr>\n",
       "      <th>13</th>\n",
       "      <td>2</td>\n",
       "      <td>B004S8F7QM</td>\n",
       "      <td>5</td>\n",
       "    </tr>\n",
       "    <tr>\n",
       "      <th>14</th>\n",
       "      <td>2</td>\n",
       "      <td>B0089RPUHO</td>\n",
       "      <td>220</td>\n",
       "    </tr>\n",
       "  </tbody>\n",
       "</table>\n",
       "</div>"
      ],
      "text/plain": [
       "    topic  product_id  count\n",
       "0       0  B001W30D2O      6\n",
       "1       0  B002NPBT50    104\n",
       "2       0  B0039S7NO6    198\n",
       "3       0  B004S8F7QM    284\n",
       "4       0  B0089RPUHO     10\n",
       "5       1  B001W30D2O    194\n",
       "6       1  B002NPBT50     77\n",
       "7       1  B0039S7NO6      8\n",
       "8       1  B004S8F7QM     20\n",
       "9       1  B0089RPUHO     23\n",
       "10      2  B001W30D2O      7\n",
       "11      2  B002NPBT50     15\n",
       "12      2  B0039S7NO6      9\n",
       "13      2  B004S8F7QM      5\n",
       "14      2  B0089RPUHO    220"
      ]
     },
     "execution_count": 109,
     "metadata": {},
     "output_type": "execute_result"
    }
   ],
   "source": [
    "df.groupby(['topic', 'product_id'])['reviewerID'].count().rename('count').reset_index()"
   ]
  },
  {
   "cell_type": "code",
   "execution_count": null,
   "metadata": {},
   "outputs": [],
   "source": []
  },
  {
   "cell_type": "code",
   "execution_count": 110,
   "metadata": {},
   "outputs": [
    {
     "data": {
      "text/html": [
       "<div>\n",
       "<style scoped>\n",
       "    .dataframe tbody tr th:only-of-type {\n",
       "        vertical-align: middle;\n",
       "    }\n",
       "\n",
       "    .dataframe tbody tr th {\n",
       "        vertical-align: top;\n",
       "    }\n",
       "\n",
       "    .dataframe thead th {\n",
       "        text-align: right;\n",
       "    }\n",
       "</style>\n",
       "<table border=\"1\" class=\"dataframe\">\n",
       "  <thead>\n",
       "    <tr style=\"text-align: right;\">\n",
       "      <th></th>\n",
       "      <th>word</th>\n",
       "      <th>topic</th>\n",
       "      <th>weight</th>\n",
       "    </tr>\n",
       "  </thead>\n",
       "  <tbody>\n",
       "    <tr>\n",
       "      <th>70</th>\n",
       "      <td>game</td>\n",
       "      <td>0</td>\n",
       "      <td>122.003272</td>\n",
       "    </tr>\n",
       "    <tr>\n",
       "      <th>137</th>\n",
       "      <td>play</td>\n",
       "      <td>0</td>\n",
       "      <td>86.136034</td>\n",
       "    </tr>\n",
       "    <tr>\n",
       "      <th>69</th>\n",
       "      <td>fun</td>\n",
       "      <td>0</td>\n",
       "      <td>62.870813</td>\n",
       "    </tr>\n",
       "    <tr>\n",
       "      <th>25</th>\n",
       "      <td>card</td>\n",
       "      <td>0</td>\n",
       "      <td>55.853608</td>\n",
       "    </tr>\n",
       "    <tr>\n",
       "      <th>9</th>\n",
       "      <td>appl</td>\n",
       "      <td>0</td>\n",
       "      <td>39.012498</td>\n",
       "    </tr>\n",
       "    <tr>\n",
       "      <th>77</th>\n",
       "      <td>great</td>\n",
       "      <td>0</td>\n",
       "      <td>37.221648</td>\n",
       "    </tr>\n",
       "    <tr>\n",
       "      <th>1</th>\n",
       "      <td>adult</td>\n",
       "      <td>0</td>\n",
       "      <td>32.819619</td>\n",
       "    </tr>\n",
       "    <tr>\n",
       "      <th>180</th>\n",
       "      <td>time</td>\n",
       "      <td>0</td>\n",
       "      <td>31.962753</td>\n",
       "    </tr>\n",
       "    <tr>\n",
       "      <th>68</th>\n",
       "      <td>friend</td>\n",
       "      <td>0</td>\n",
       "      <td>31.113068</td>\n",
       "    </tr>\n",
       "    <tr>\n",
       "      <th>197</th>\n",
       "      <td>year</td>\n",
       "      <td>0</td>\n",
       "      <td>30.988652</td>\n",
       "    </tr>\n",
       "  </tbody>\n",
       "</table>\n",
       "</div>"
      ],
      "text/plain": [
       "       word  topic      weight\n",
       "70     game      0  122.003272\n",
       "137    play      0   86.136034\n",
       "69      fun      0   62.870813\n",
       "25     card      0   55.853608\n",
       "9      appl      0   39.012498\n",
       "77    great      0   37.221648\n",
       "1     adult      0   32.819619\n",
       "180    time      0   31.962753\n",
       "68   friend      0   31.113068\n",
       "197    year      0   30.988652"
      ]
     },
     "execution_count": 110,
     "metadata": {},
     "output_type": "execute_result"
    }
   ],
   "source": [
    "keywords.query('topic==0').sort_values(by='weight', ascending=False)[:10]"
   ]
  },
  {
   "cell_type": "code",
   "execution_count": 113,
   "metadata": {},
   "outputs": [
    {
     "data": {
      "text/plain": [
       "'Our family LOVES this game. This is one game the children and adults can play together. Even when the children have gone to bed the adults spend hours trying to best each other. At first this game seems simple, but in that simplicity lies the enjoyment. They are many different styles of play allowing for large groups or pairs to play. I imagine one could even play it alone against the clock. Are you getting your family together for a holiday soon? Want to get everyone doing something other then watching television? Try this! It is inexpensive and the packaging is great. Want to play with LOTS of people? Buy two decks. Good wholesome family fun!'"
      ]
     },
     "execution_count": 113,
     "metadata": {},
     "output_type": "execute_result"
    }
   ],
   "source": [
    "df.query('topic==0').sort_values(by='topic_score', ascending=False)['reviewText'].iloc[0]"
   ]
  },
  {
   "cell_type": "code",
   "execution_count": 114,
   "metadata": {},
   "outputs": [
    {
     "data": {
      "text/plain": [
       "\"We've had a blast playing this in car, around the dinner table, and more. It really gets you thinking and laughing - a LOT!!! Caution, though, this is an adult game, not for kids. You will find much insight about yourself and your family and friends...it gives new meaning to how low will you go. It's played just like the Apples to Apples kid's game, so you really need at least three adults to play and definitely the more the merrier!\""
      ]
     },
     "execution_count": 114,
     "metadata": {},
     "output_type": "execute_result"
    }
   ],
   "source": [
    "df.query('topic==0').sort_values(by='topic_score', ascending=False)['reviewText'].iloc[1]"
   ]
  },
  {
   "cell_type": "code",
   "execution_count": 115,
   "metadata": {},
   "outputs": [
    {
     "data": {
      "text/plain": [
       "\"This is such an easy game to play with the kids and they are enjoying it.  It is pretty impressive how each card has a match.  We haven't ventured into the other three games yet, but I like that you can travel with this and the rules are super simple.  I enjoy playing cards with the kids but you know when you play old maid or go fish, you usually need another adult to help out and it can get frustrating. This one doesn't feel like that.\""
      ]
     },
     "execution_count": 115,
     "metadata": {},
     "output_type": "execute_result"
    }
   ],
   "source": [
    "df.query('topic==0').sort_values(by='topic_score', ascending=False)['reviewText'].iloc[2]"
   ]
  },
  {
   "cell_type": "code",
   "execution_count": null,
   "metadata": {},
   "outputs": [],
   "source": []
  },
  {
   "cell_type": "code",
   "execution_count": 116,
   "metadata": {},
   "outputs": [
    {
     "data": {
      "text/html": [
       "<div>\n",
       "<style scoped>\n",
       "    .dataframe tbody tr th:only-of-type {\n",
       "        vertical-align: middle;\n",
       "    }\n",
       "\n",
       "    .dataframe tbody tr th {\n",
       "        vertical-align: top;\n",
       "    }\n",
       "\n",
       "    .dataframe thead th {\n",
       "        text-align: right;\n",
       "    }\n",
       "</style>\n",
       "<table border=\"1\" class=\"dataframe\">\n",
       "  <thead>\n",
       "    <tr style=\"text-align: right;\">\n",
       "      <th></th>\n",
       "      <th>word</th>\n",
       "      <th>topic</th>\n",
       "      <th>weight</th>\n",
       "    </tr>\n",
       "  </thead>\n",
       "  <tbody>\n",
       "    <tr>\n",
       "      <th>181</th>\n",
       "      <td>toy</td>\n",
       "      <td>1</td>\n",
       "      <td>46.014141</td>\n",
       "    </tr>\n",
       "    <tr>\n",
       "      <th>117</th>\n",
       "      <td>name</td>\n",
       "      <td>1</td>\n",
       "      <td>36.793780</td>\n",
       "    </tr>\n",
       "    <tr>\n",
       "      <th>105</th>\n",
       "      <td>love</td>\n",
       "      <td>1</td>\n",
       "      <td>32.928674</td>\n",
       "    </tr>\n",
       "    <tr>\n",
       "      <th>166</th>\n",
       "      <td>son</td>\n",
       "      <td>1</td>\n",
       "      <td>29.243948</td>\n",
       "    </tr>\n",
       "    <tr>\n",
       "      <th>157</th>\n",
       "      <td>scout</td>\n",
       "      <td>1</td>\n",
       "      <td>28.676577</td>\n",
       "    </tr>\n",
       "    <tr>\n",
       "      <th>156</th>\n",
       "      <td>say</td>\n",
       "      <td>1</td>\n",
       "      <td>24.885652</td>\n",
       "    </tr>\n",
       "    <tr>\n",
       "      <th>40</th>\n",
       "      <td>daughter</td>\n",
       "      <td>1</td>\n",
       "      <td>24.882347</td>\n",
       "    </tr>\n",
       "    <tr>\n",
       "      <th>167</th>\n",
       "      <td>song</td>\n",
       "      <td>1</td>\n",
       "      <td>24.450098</td>\n",
       "    </tr>\n",
       "    <tr>\n",
       "      <th>189</th>\n",
       "      <td>violet</td>\n",
       "      <td>1</td>\n",
       "      <td>21.575769</td>\n",
       "    </tr>\n",
       "    <tr>\n",
       "      <th>63</th>\n",
       "      <td>favorit</td>\n",
       "      <td>1</td>\n",
       "      <td>21.028578</td>\n",
       "    </tr>\n",
       "  </tbody>\n",
       "</table>\n",
       "</div>"
      ],
      "text/plain": [
       "         word  topic     weight\n",
       "181       toy      1  46.014141\n",
       "117      name      1  36.793780\n",
       "105      love      1  32.928674\n",
       "166       son      1  29.243948\n",
       "157     scout      1  28.676577\n",
       "156       say      1  24.885652\n",
       "40   daughter      1  24.882347\n",
       "167      song      1  24.450098\n",
       "189    violet      1  21.575769\n",
       "63    favorit      1  21.028578"
      ]
     },
     "execution_count": 116,
     "metadata": {},
     "output_type": "execute_result"
    }
   ],
   "source": [
    "keywords.query('topic==1').sort_values(by='weight', ascending=False)[:10]"
   ]
  },
  {
   "cell_type": "code",
   "execution_count": 117,
   "metadata": {},
   "outputs": [
    {
     "data": {
      "text/plain": [
       "\"My son, now a year old, loves scout so much that I bought a second just in case....It's become his security toy.  If you didn't see it in the description, this toy is programmable to know your child's name, favorite animal, favorite color, and favorite food.  You can also select different songs for the buttons.It was easy to program and took minimal time.  I have also been able to make quick updates to the songs and favorites.I started putting this in my son's crib when he was old enough to push buttons as a way to keep his entertained as he was falling asleep.  I believe that having scout as company has helped us to avoid his screaming when we put him down and leave the room.  He quietly lays in the bed and pushes scout's feet and watches the light.  We take scout on long car trips or long outings to keep him entertained.  It really works.  It's become a lovie toy that is entertaining, educational, and makes him feel better.  Well worth the money!I have three minor complaints: one is the way that it says my son's name.  It makes a 1 syllable name into two syllables and says it like it's a question.  I'm not sure if he has entirely put it together that scout is saying his name because it sounds so weird.  How hard is it to say John?! The second complaint is that it's a stuffed animal that isn't machine washable.  I completely understand why it isn't and I have no suggestions for making it machine washable...I just wish that there was an easy way to get it good and clean if something gross happens to it. Finally, I'm not crazy about the power off button on scout's left foot.  My child will never desire to turn scout off.  If I want scout off before the song ends, I can switch his off in the back so that he will remain off (rather than on the foot which isn't really off but just stops the music until another button is pushed).  Thus, 1 of 5 of scouts buttons is essentially functionless for the child. I wish that that foot did something and they left it to me to turn scout off.  All of that said, I still give it a 5 because my son isn't aware of any of these issues and that's what matters.\""
      ]
     },
     "execution_count": 117,
     "metadata": {},
     "output_type": "execute_result"
    }
   ],
   "source": [
    "df.query('topic==1').sort_values(by='topic_score', ascending=False)['reviewText'].iloc[0]"
   ]
  },
  {
   "cell_type": "code",
   "execution_count": 118,
   "metadata": {},
   "outputs": [
    {
     "data": {
      "text/plain": [
       "'My daughter received this toy for Christmas from my mother. She was only four months old then, but she still got a big smile on her face and kicked her legs whenever she\\'d hear her dog. My daughter received the Violet dog, and her name happens to be Violet, too, so she\\'ll probably like that when she\\'s older. She is eleven months old now, and I think this toy is probably her favorite. She has learned how to make it work, so she\\'s always pressing on its paws, and she smiles and gets excited over it still. She drags it around with her when she\\'s crawling around, and she gets excited every time she sees it. She also likes to snuggle it and lay on it because its so soft.Pros:1. You can customize this toy by selecting which songs you would like to install on it. If your child gets tired of them, you can select other songs, and there is quite a selection. There are even some Christmas songs, which I\\'ll be installing when that time comes.2. You can customize this toy to say your child\\'s name.3. You can customize this toy to incorporate your child\\'s favorites into a song. My daughter was too little to really have favorites when she received this toy, so I chose \\'milk\\' for favorite food, since that\\'s all she could eat, \\'red\\' for favorite color, because I always noticed her staring at red things, and \\'cat\\' for favorite animal, because we have cats, so it was the only animal she really knew. As they get older, you can change these things again to reflect their taste.4. The dog is cuddly.5. There are no pieces on this toy that can come off and choke your child.6. You can adjust the volume.7. The dog\\'s voice is not annoying. They use a real child\\'s voice and not the fake Barney-sounding voice a lot of other toys have. This is the only talking/musical toy my daughter owns that doesn\\'t drive me up the wall.8. It has upbeat songs, slower songs, and even some bedtime music, which is very soothing. You can make the bedtime music play for up to ten minutes.9. This toy is educational. It teaches colors, shapes, animal sounds, etc.Cons:1. The way the names are pronounced are kind of strange. For example, when the dog says my daughter\\'s name Violet, she says it like \"Violet?\" It\\'s not a big deal, though, and it\\'s still kind of cute. If your child has a \\'different\\' name, that could be bad for pronunciation. My niece\\'s name is Kierra, and her dog pronounces her name like \"Key-are-uh\" instead of \"Key-air-uh\".'"
      ]
     },
     "execution_count": 118,
     "metadata": {},
     "output_type": "execute_result"
    }
   ],
   "source": [
    "df.query('topic==1').sort_values(by='topic_score', ascending=False)['reviewText'].iloc[1]"
   ]
  },
  {
   "cell_type": "code",
   "execution_count": 119,
   "metadata": {},
   "outputs": [
    {
     "data": {
      "text/plain": [
       "\"This is a really cute and cuddly puppy. Very soft, and put together well. I bought Violet for my daughter's first birthday and loaded the puppy with her name (Claire) and other customizations. My 4 year old son loved the dog so much, he asked for his own, so now we have a Scout and a Violet. My 4 year old plays with his dog more than the 1 year old, but I'll give it some time. Neither child has a stuffed animal lovie yet (son has a little baby blanket he loves, daughter has no lovie as of yet).There is an amazing varriety of names avaliable at the website, more than my baby names book! Also, nicknames like princess and monkey if you have a truly unique name for your child.The songs don't really have much variety to choose from, even though they are customizable. The best songs are the ones they already have preloaded on Scout/Violet, the ones you can load from the website are non-recognizable baby muzak.There is a huge variety for My Favorite Animal and Food. My Favorite Color is just the primary basics.\""
      ]
     },
     "execution_count": 119,
     "metadata": {},
     "output_type": "execute_result"
    }
   ],
   "source": [
    "df.query('topic==1').sort_values(by='topic_score', ascending=False)['reviewText'].iloc[2]"
   ]
  },
  {
   "cell_type": "code",
   "execution_count": null,
   "metadata": {},
   "outputs": [],
   "source": []
  },
  {
   "cell_type": "code",
   "execution_count": 120,
   "metadata": {},
   "outputs": [
    {
     "data": {
      "text/html": [
       "<div>\n",
       "<style scoped>\n",
       "    .dataframe tbody tr th:only-of-type {\n",
       "        vertical-align: middle;\n",
       "    }\n",
       "\n",
       "    .dataframe tbody tr th {\n",
       "        vertical-align: top;\n",
       "    }\n",
       "\n",
       "    .dataframe thead th {\n",
       "        text-align: right;\n",
       "    }\n",
       "</style>\n",
       "<table border=\"1\" class=\"dataframe\">\n",
       "  <thead>\n",
       "    <tr style=\"text-align: right;\">\n",
       "      <th></th>\n",
       "      <th>word</th>\n",
       "      <th>topic</th>\n",
       "      <th>weight</th>\n",
       "    </tr>\n",
       "  </thead>\n",
       "  <tbody>\n",
       "    <tr>\n",
       "      <th>98</th>\n",
       "      <td>leappad</td>\n",
       "      <td>2</td>\n",
       "      <td>34.569250</td>\n",
       "    </tr>\n",
       "    <tr>\n",
       "      <th>8</th>\n",
       "      <td>app</td>\n",
       "      <td>2</td>\n",
       "      <td>30.387224</td>\n",
       "    </tr>\n",
       "    <tr>\n",
       "      <th>186</th>\n",
       "      <td>use</td>\n",
       "      <td>2</td>\n",
       "      <td>26.205136</td>\n",
       "    </tr>\n",
       "    <tr>\n",
       "      <th>14</th>\n",
       "      <td>batteri</td>\n",
       "      <td>2</td>\n",
       "      <td>25.444995</td>\n",
       "    </tr>\n",
       "    <tr>\n",
       "      <th>99</th>\n",
       "      <td>learn</td>\n",
       "      <td>2</td>\n",
       "      <td>19.439619</td>\n",
       "    </tr>\n",
       "    <tr>\n",
       "      <th>145</th>\n",
       "      <td>purchas</td>\n",
       "      <td>2</td>\n",
       "      <td>18.104449</td>\n",
       "    </tr>\n",
       "    <tr>\n",
       "      <th>97</th>\n",
       "      <td>leapfrog</td>\n",
       "      <td>2</td>\n",
       "      <td>17.221118</td>\n",
       "    </tr>\n",
       "    <tr>\n",
       "      <th>172</th>\n",
       "      <td>tablet</td>\n",
       "      <td>2</td>\n",
       "      <td>15.399685</td>\n",
       "    </tr>\n",
       "    <tr>\n",
       "      <th>143</th>\n",
       "      <td>product</td>\n",
       "      <td>2</td>\n",
       "      <td>15.151629</td>\n",
       "    </tr>\n",
       "    <tr>\n",
       "      <th>48</th>\n",
       "      <td>download</td>\n",
       "      <td>2</td>\n",
       "      <td>14.986085</td>\n",
       "    </tr>\n",
       "  </tbody>\n",
       "</table>\n",
       "</div>"
      ],
      "text/plain": [
       "         word  topic     weight\n",
       "98    leappad      2  34.569250\n",
       "8         app      2  30.387224\n",
       "186       use      2  26.205136\n",
       "14    batteri      2  25.444995\n",
       "99      learn      2  19.439619\n",
       "145   purchas      2  18.104449\n",
       "97   leapfrog      2  17.221118\n",
       "172    tablet      2  15.399685\n",
       "143   product      2  15.151629\n",
       "48   download      2  14.986085"
      ]
     },
     "execution_count": 120,
     "metadata": {},
     "output_type": "execute_result"
    }
   ],
   "source": [
    "keywords.query('topic==2').sort_values(by='weight', ascending=False)[:10]"
   ]
  },
  {
   "cell_type": "code",
   "execution_count": 121,
   "metadata": {},
   "outputs": [
    {
     "data": {
      "text/plain": [
       "'Our 4.5 year old received her leappad 2 for Christmas. Honestly, it\\'s a great toy if the parents are prepared that the apps are expensive and the child is old enough to use those apps. The games and videos are designed specifically for kids to learn (not all of them but i only buy educational ones). There are quite a few reviews of applications on leapfrog website which makes it a lot easier to pick the ones that are age appropriate and also educational. We do not have a problem with over sensitivity of the screen. The games that require tracing are quite relaxed in my opinion. Of course, the child has to stay in some proximity to the lines but it does allow for quite some deviation from the line which is great for learning. Also, they have promotions for those apps: they had buy 3 get one free for downloadable ones and buy 2 get one free for cartridges until the mid of January. I would guess they will have more promotions. Still expensive but more doable. Some of the good $25 games are sold on Amazon for $15-17 and there are slots in the pink case to put the cartridges in! The cameras are not great but good enough for kids. The battery life is not bad either. We bought rechargeable batteries with the charger from Sam\\'s club and it is not bad at all. They last a few days with half an hour to a couple of hours use a day.The stickers are there, they are hidden very well though.Overall, we are very happy. Our daughter likes it a lot, calls it her \"computer\". She is occupied during long car rides and basketball games playing and learning, which makes her parents\\' lives easier.'"
      ]
     },
     "execution_count": 121,
     "metadata": {},
     "output_type": "execute_result"
    }
   ],
   "source": [
    "df.query('topic==2').sort_values(by='topic_score', ascending=False)['reviewText'].iloc[0]"
   ]
  },
  {
   "cell_type": "code",
   "execution_count": 122,
   "metadata": {},
   "outputs": [
    {
     "data": {
      "text/plain": [
       "\"The LeapFrog LeapPad2 Disney/Pixar Monsters University Varsity Edition is a fantastic alternative to your iPad. The bundle comes with the unit, 8 preinstalled apps (that I can tell), a Gel Skin Monsters U. cover, 2 Sticker Sheets, a cleaning cloth thingie, a nifty $20 Digital Download Gift card thing and a USB Cable.The LeapPad2 sports some nice, educational apps for kids but the $20 download gift card didn't go very far since most apps run in the $15-$20 range for the decent ones. You can also pick up some cartridge apps here on Amazon or at Target for the same price range but they are a physical cartridge you plug into the unit.The screen is nice, at 5 inches, the resolution isn't too bad.  The touch response is also pretty good - your child can use their hands or the included stylus (which is attached by a sturdy string)to interact with the LeapPad2.With the gel skin cover, the LeapPad2 is easy to grip and hold and will provide hours of fun for your child - that is, if the battery holds. The unit is powered by 4 AA batteries that never seem to last very long.  My son does like to leave the unit on, so we were going through batteries like crazy.LeapFrog LeapPad2 Power Kids' Learning Tablet, Green (includes rechargeable battery - $40 value)Will fix that problem though. Still, it's slightly annoying that they didn't just make the unit rechargeable in the first place.The camera. Yes, it's really not that great - the resolution is atrocious but it is addicting for kids! They love that front camera and will be entertained by that for hours.Overall: Highly recommended!\""
      ]
     },
     "execution_count": 122,
     "metadata": {},
     "output_type": "execute_result"
    }
   ],
   "source": [
    "df.query('topic==2').sort_values(by='topic_score', ascending=False)['reviewText'].iloc[1]"
   ]
  },
  {
   "cell_type": "code",
   "execution_count": 123,
   "metadata": {},
   "outputs": [
    {
     "data": {
      "text/plain": [
       "\"If your like me then you have kids that are like mine. They constantly want to play games, watch videos and do other fun activities on your tablet (and its usually when your doing something with it like reading).Well those days are over, say hello to the LeapPad 2 explorer from leapfrog! This device is in my opinion one of the best tablets for young kids. Watch your child learn and grow in ways you could never imagine,plus you can get email updates from LeapFrog that can help you participate in your child's learning experience.Some of the great features include the front and back camera and video recorder which allows your child to put themselfs right into the games. Plus it includes 5 apps to get you started and a stylus so your little one can be just like you.The LeapPad 2 does require 4 AA batteries (not included) but you can purchase the recharger pack separately and that would probably be a wise investment. It also goes without saying that a computer is needed to download the games and apps and all that. Its something to keep in mind if your planning to purchase this for a child in another household.As well as the price of the games, they can add up quickly so your best bet its to buy the App center download cards when they are on sale to save yourself some money.My kids love this tablet so much they never ask to play with mine anymore. There are tons of accessories out there for these LeapPads that you should have no problem finding just the right ones for your child. I will definitely have to go out and get another so they don't have to share.\""
      ]
     },
     "execution_count": 123,
     "metadata": {},
     "output_type": "execute_result"
    }
   ],
   "source": [
    "df.query('topic==2').sort_values(by='topic_score', ascending=False)['reviewText'].iloc[2]"
   ]
  },
  {
   "cell_type": "code",
   "execution_count": null,
   "metadata": {},
   "outputs": [],
   "source": []
  },
  {
   "cell_type": "markdown",
   "metadata": {},
   "source": [
    "### Insights\n",
    "\n",
    "Topic 0: B002NPBT50, B0039S7NO6, B004S8F7QM. Topic 0 is about playing and having fun with others.\n",
    "Topic 1: B001W30D2O. Topic 1 is about a toy.  \n",
    "Topic 2: B0089RPUHO. Topic 2 is about a tablet for kids. "
   ]
  },
  {
   "cell_type": "code",
   "execution_count": null,
   "metadata": {},
   "outputs": [],
   "source": []
  }
 ],
 "metadata": {
  "kernelspec": {
   "display_name": "Python 3",
   "language": "python",
   "name": "python3"
  },
  "language_info": {
   "codemirror_mode": {
    "name": "ipython",
    "version": 3
   },
   "file_extension": ".py",
   "mimetype": "text/x-python",
   "name": "python",
   "nbconvert_exporter": "python",
   "pygments_lexer": "ipython3",
   "version": "3.8.3"
  }
 },
 "nbformat": 4,
 "nbformat_minor": 5
}
